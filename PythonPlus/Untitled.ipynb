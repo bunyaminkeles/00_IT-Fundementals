{
 "cells": [
  {
   "cell_type": "code",
   "execution_count": 1,
   "metadata": {},
   "outputs": [],
   "source": [
    "x = [1,2,3,4]\n",
    "y = [4,5,6,7,]"
   ]
  },
  {
   "cell_type": "code",
   "execution_count": 2,
   "metadata": {},
   "outputs": [
    {
     "name": "stdout",
     "output_type": "stream",
     "text": [
      "3.5 4.5 5.5\n"
     ]
    }
   ],
   "source": [
    "numbers = map(lambda x, y: (x+y)/2, x, y)\n",
    "for i in numbers :\n",
    "    print(*numbers)"
   ]
  },
  {
   "cell_type": "code",
   "execution_count": 3,
   "metadata": {},
   "outputs": [],
   "source": [
    "a = [\"ben\", \"sen\", \"o\"]\n",
    "b = [\"seni\", \"beni\", \"onu\"]\n",
    "c = [\"seviyorum\", \"seviyorsun\", \"seviyor\"]"
   ]
  },
  {
   "cell_type": "code",
   "execution_count": 24,
   "metadata": {},
   "outputs": [],
   "source": [
    "result = map(lambda a, b, c : a+ \" \" + b+ \" \" + c, a ,b, c)"
   ]
  },
  {
   "cell_type": "code",
   "execution_count": 20,
   "metadata": {},
   "outputs": [
    {
     "name": "stdout",
     "output_type": "stream",
     "text": [
      "ben seni seviyorum\n",
      "sen beni seviyorsun\n",
      "o onu seviyor\n"
     ]
    }
   ],
   "source": [
    "print(*result, sep=\"\\n\")"
   ]
  },
  {
   "cell_type": "code",
   "execution_count": 25,
   "metadata": {},
   "outputs": [
    {
     "name": "stdout",
     "output_type": "stream",
     "text": [
      "ben seni seviyorum\n",
      "sen beni seviyorsun\n",
      "o onu seviyor\n"
     ]
    }
   ],
   "source": [
    "for i in result :\n",
    "    print(i)"
   ]
  },
  {
   "cell_type": "code",
   "execution_count": 77,
   "metadata": {},
   "outputs": [
    {
     "name": "stdout",
     "output_type": "stream",
     "text": [
      "ben seni seviyorum\n",
      "sen beni seviyorsun\n",
      "o onu seviyor\n"
     ]
    }
   ],
   "source": [
    "a = [\"ben\", \"sen\", \"o\"]\n",
    "b = [\"seni\", \"beni\", \"onu\"]\n",
    "c = [\"seviyorum\", \"seviyorsun\", \"seviyor\"]\n",
    "for i in map(lambda a, b, c : a+ \" \" + b+ \" \" + c, a ,b, c):\n",
    "    print(i)"
   ]
  },
  {
   "cell_type": "code",
   "execution_count": 42,
   "metadata": {},
   "outputs": [
    {
     "name": "stdout",
     "output_type": "stream",
     "text": [
      "sonuç beş veya beşten küçük\n"
     ]
    }
   ],
   "source": [
    "num1 = 3\n",
    "if num1 > 5 :\n",
    "    print(\"sonuç beşten büyük\")\n",
    "else:\n",
    "    print (\"sonuç beş veya beşten küçük\")       "
   ]
  },
  {
   "cell_type": "code",
   "execution_count": 43,
   "metadata": {},
   "outputs": [
    {
     "data": {
      "text/plain": [
       "'sonuç beş veya beşten küçük'"
      ]
     },
     "execution_count": 43,
     "metadata": {},
     "output_type": "execute_result"
    }
   ],
   "source": [
    "\"sonuç beşten büyük \"if num1 > 5 else \"sonuç beş veya beşten küçük\" "
   ]
  },
  {
   "cell_type": "code",
   "execution_count": 66,
   "metadata": {},
   "outputs": [
    {
     "name": "stdout",
     "output_type": "stream",
     "text": [
      "0 0 2 4 6 88 2 22 6 458 254598 26548792546 264\n",
      "[3, 5, 35, 5, 455, 487, 654987, 565, 2585]\n"
     ]
    }
   ],
   "source": [
    "listem_1 = [0,0,2,3,4,5,6,88,2,22,35,6,5,458,455,487,654987,254598,26548792546,565,2585,264]\n",
    "even = filter(lambda x : x%2 == 0, listem_1)\n",
    "odd = filter(lambda x : not x%2 == 0, listem_1)\n",
    "print(*even)\n",
    "print(list(odd))\n",
    "# for i in odd :\n",
    "#     print(list(i))"
   ]
  },
  {
   "cell_type": "code",
   "execution_count": 74,
   "metadata": {},
   "outputs": [
    {
     "name": "stdout",
     "output_type": "stream",
     "text": [
      "selam\n",
      "hi\n",
      "hello\n",
      "naber\n"
     ]
    }
   ],
   "source": [
    "my_list = [\"selam\", \"hi\", \"hello\", \"naber\", \"iyidir\"]\n",
    "kucuk = filter(lambda x : len(x) < 6 , my_list)\n",
    "for i in kucuk :\n",
    "    print(i)"
   ]
  },
  {
   "cell_type": "code",
   "execution_count": 90,
   "metadata": {},
   "outputs": [
    {
     "name": "stdout",
     "output_type": "stream",
     "text": [
      "my result is :\n",
      "naber\n",
      "iyidir\n"
     ]
    }
   ],
   "source": [
    "list1 = [\"merhaba\", \"adamsın\", \"napim\", \"naber\", \"iyidir\"]\n",
    "list2 = [\"selam\", \"hi\", \"hello\", \"naber\", \"iyidir\"]\n",
    "\n",
    "listem = filter(lambda x : x in list1, list2 )\n",
    "print(\"my result is :\", *listem, sep=\"\\n\")"
   ]
  },
  {
   "cell_type": "code",
   "execution_count": 91,
   "metadata": {},
   "outputs": [],
   "source": [
    "def kls(n) :\n",
    "    return lambda x : x ** n\n",
    "kare = kls(2)\n",
    "kup = kls (3)\n",
    "forth = kls(4)"
   ]
  },
  {
   "cell_type": "code",
   "execution_count": 97,
   "metadata": {},
   "outputs": [
    {
     "name": "stdout",
     "output_type": "stream",
     "text": [
      "81\n",
      "125\n",
      "81\n"
     ]
    }
   ],
   "source": [
    "print(kare(9))\n",
    "print(kup(5))\n",
    "print(forth(3))"
   ]
  },
  {
   "cell_type": "code",
   "execution_count": 99,
   "metadata": {},
   "outputs": [
    {
     "name": "stdout",
     "output_type": "stream",
     "text": [
      "selam selam \n"
     ]
    }
   ],
   "source": [
    "def repeater (n) :\n",
    "    return lambda x : x * n\n",
    "\n",
    "iki = repeater(2)\n",
    "\n",
    "print (iki(\"selam \"))"
   ]
  },
  {
   "cell_type": "code",
   "execution_count": 101,
   "metadata": {},
   "outputs": [
    {
     "name": "stdout",
     "output_type": "stream",
     "text": [
      "hello :)\n",
      "deme :(\n",
      "boşver :-\n"
     ]
    }
   ],
   "source": [
    "\n",
    "\n",
    "def funtioner (emoj = None) :\n",
    "    return lambda msg : print(msg, emoj)\n",
    "\n",
    "\n",
    "myPrint_smile = funtioner(\":)\")\n",
    "myPrint_sad = funtioner(\":(\")\n",
    "myPrint_neutral = funtioner(\":-\")\n",
    "\n",
    "myPrint_smile(\"hello\")\n",
    "myPrint_sad(\"deme\")\n",
    "myPrint_neutral(\"boşver\")"
   ]
  },
  {
   "cell_type": "code",
   "execution_count": 103,
   "metadata": {},
   "outputs": [
    {
     "name": "stdout",
     "output_type": "stream",
     "text": [
      "58\n"
     ]
    }
   ],
   "source": [
    "(lambda x : print(x)) (33+25)"
   ]
  },
  {
   "cell_type": "code",
   "execution_count": 127,
   "metadata": {},
   "outputs": [
    {
     "data": {
      "text/plain": [
       "['a', 'b', 'c', 'v']"
      ]
     },
     "execution_count": 127,
     "metadata": {},
     "output_type": "execute_result"
    }
   ],
   "source": [
    "def my_func(n) :\n",
    "    return  lambda x : n(x)\n",
    "\n",
    "klsPrint = my_func(print)\n",
    "klsMax = my_func(max)\n",
    "klsBool = my_func(bool)\n",
    "klsSorted = my_func(sorted)\n",
    "\n",
    "# klsPrint(\"ff\")\n",
    "# klsMax((1,25,5))\n",
    "# klsBool(\"\")\n",
    "klsSorted((\"a\", \"v\", \"c\", \"b\"))"
   ]
  },
  {
   "cell_type": "code",
   "execution_count": 130,
   "metadata": {},
   "outputs": [],
   "source": [
    "import math"
   ]
  },
  {
   "cell_type": "code",
   "execution_count": 134,
   "metadata": {},
   "outputs": [
    {
     "data": {
      "text/plain": [
       "120"
      ]
     },
     "execution_count": 134,
     "metadata": {},
     "output_type": "execute_result"
    }
   ],
   "source": [
    "math.factorial(5)"
   ]
  },
  {
   "cell_type": "code",
   "execution_count": 142,
   "metadata": {},
   "outputs": [],
   "source": [
    "from string import punctuation"
   ]
  },
  {
   "cell_type": "code",
   "execution_count": 143,
   "metadata": {},
   "outputs": [
    {
     "data": {
      "text/plain": [
       "'!\"#$%&\\'()*+,-./:;<=>?@[\\\\]^_`{|}~'"
      ]
     },
     "execution_count": 143,
     "metadata": {},
     "output_type": "execute_result"
    }
   ],
   "source": [
    "string.punctuation"
   ]
  },
  {
   "cell_type": "code",
   "execution_count": 145,
   "metadata": {},
   "outputs": [],
   "source": [
    "from datetime import date"
   ]
  },
  {
   "cell_type": "code",
   "execution_count": 153,
   "metadata": {},
   "outputs": [
    {
     "data": {
      "text/plain": [
       "47.05785667324129"
      ]
     },
     "execution_count": 153,
     "metadata": {},
     "output_type": "execute_result"
    }
   ],
   "source": [
    "birth = date(1974,4,29)\n",
    "death = date(2021,5,10)\n",
    "\n",
    "(date.toordinal(death) -date.toordinal(birth))/365.04"
   ]
  },
  {
   "cell_type": "code",
   "execution_count": 154,
   "metadata": {},
   "outputs": [],
   "source": [
    "city =[\"çorum\", \"kırıkkale\", \"ankara\", \"yozgat\"]"
   ]
  },
  {
   "cell_type": "code",
   "execution_count": 156,
   "metadata": {},
   "outputs": [
    {
     "name": "stdout",
     "output_type": "stream",
     "text": [
      "yozgat\n"
     ]
    }
   ],
   "source": [
    "from random import choice\n",
    "\n",
    "print(choice(city))"
   ]
  },
  {
   "cell_type": "code",
   "execution_count": 160,
   "metadata": {},
   "outputs": [
    {
     "name": "stdout",
     "output_type": "stream",
     "text": [
      "25\n"
     ]
    }
   ],
   "source": [
    "square = (lambda x : x ** 2)\n",
    "print(square(5))"
   ]
  },
  {
   "cell_type": "code",
   "execution_count": 237,
   "metadata": {},
   "outputs": [
    {
     "ename": "TypeError",
     "evalue": "<lambda>() takes 1 positional argument but 5 were given",
     "output_type": "error",
     "traceback": [
      "\u001b[1;31m---------------------------------------------------------------------------\u001b[0m",
      "\u001b[1;31mTypeError\u001b[0m                                 Traceback (most recent call last)",
      "\u001b[1;32m<ipython-input-237-ec730341c303>\u001b[0m in \u001b[0;36m<module>\u001b[1;34m\u001b[0m\n\u001b[0;32m      1\u001b[0m \u001b[0mnumber_list\u001b[0m \u001b[1;33m=\u001b[0m \u001b[1;33m[\u001b[0m\u001b[1;36m1\u001b[0m\u001b[1;33m,\u001b[0m \u001b[1;36m2\u001b[0m\u001b[1;33m,\u001b[0m \u001b[1;36m3\u001b[0m\u001b[1;33m,\u001b[0m \u001b[1;36m4\u001b[0m\u001b[1;33m,\u001b[0m \u001b[1;36m5\u001b[0m\u001b[1;33m]\u001b[0m\u001b[1;33m\u001b[0m\u001b[1;33m\u001b[0m\u001b[0m\n\u001b[0;32m      2\u001b[0m \u001b[0mresult\u001b[0m \u001b[1;33m=\u001b[0m \u001b[1;33m(\u001b[0m\u001b[1;32mlambda\u001b[0m \u001b[0mx\u001b[0m \u001b[1;33m:\u001b[0m \u001b[0mx\u001b[0m \u001b[1;33m**\u001b[0m \u001b[1;36m2\u001b[0m\u001b[1;33m)\u001b[0m\u001b[1;33m\u001b[0m\u001b[1;33m\u001b[0m\u001b[0m\n\u001b[1;32m----> 3\u001b[1;33m \u001b[0mresult\u001b[0m\u001b[1;33m(\u001b[0m\u001b[1;33m*\u001b[0m\u001b[0mnumber_list\u001b[0m\u001b[1;33m)\u001b[0m\u001b[1;33m\u001b[0m\u001b[1;33m\u001b[0m\u001b[0m\n\u001b[0m",
      "\u001b[1;31mTypeError\u001b[0m: <lambda>() takes 1 positional argument but 5 were given"
     ]
    }
   ],
   "source": [
    "number_list = [1, 2, 3, 4, 5]\n",
    "result = (lambda x : x ** 2)\n",
    "result(number_list)"
   ]
  },
  {
   "cell_type": "code",
   "execution_count": 238,
   "metadata": {},
   "outputs": [
    {
     "name": "stdout",
     "output_type": "stream",
     "text": [
      "2.0\n",
      "4.0\n",
      "4.0\n",
      "5.0\n"
     ]
    }
   ],
   "source": [
    "x = [1,2,5,5]\n",
    "y = [3,6,3,5,]\n",
    "\n",
    "numbers = map(lambda x, y: (x+y)/2, x, y)\n",
    "for i in numbers :\n",
    "    print(i)"
   ]
  },
  {
   "cell_type": "code",
   "execution_count": 280,
   "metadata": {},
   "outputs": [],
   "source": [
    "# nums = [1,2,3]\n",
    "sonuc = (lambda x : x ** 2),(4)\n",
    "# print(sonuc(5))"
   ]
  },
  {
   "cell_type": "code",
   "execution_count": 276,
   "metadata": {},
   "outputs": [
    {
     "data": {
      "text/plain": [
       "(<function __main__.<lambda>(x)>, 5)"
      ]
     },
     "execution_count": 276,
     "metadata": {},
     "output_type": "execute_result"
    }
   ],
   "source": [
    "sonuc"
   ]
  },
  {
   "cell_type": "code",
   "execution_count": 282,
   "metadata": {},
   "outputs": [
    {
     "name": "stdout",
     "output_type": "stream",
     "text": [
      "[1, 4, 9, 16, 25]\n"
     ]
    }
   ],
   "source": [
    "number_list = [1,2,3,4,5]\n",
    "result = list(map(lambda x : x ** 2, number_list))\n",
    "print(result)"
   ]
  },
  {
   "cell_type": "code",
   "execution_count": null,
   "metadata": {},
   "outputs": [],
   "source": []
  }
 ],
 "metadata": {
  "kernelspec": {
   "display_name": "Python 3",
   "language": "python",
   "name": "python3"
  },
  "language_info": {
   "codemirror_mode": {
    "name": "ipython",
    "version": 3
   },
   "file_extension": ".py",
   "mimetype": "text/x-python",
   "name": "python",
   "nbconvert_exporter": "python",
   "pygments_lexer": "ipython3",
   "version": "3.8.5"
  }
 },
 "nbformat": 4,
 "nbformat_minor": 4
}