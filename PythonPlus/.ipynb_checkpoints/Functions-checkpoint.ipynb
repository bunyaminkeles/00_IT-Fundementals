{
 "metadata": {
  "language_info": {
   "codemirror_mode": {
    "name": "ipython",
    "version": 3
   },
   "file_extension": ".py",
   "mimetype": "text/x-python",
   "name": "python",
   "nbconvert_exporter": "python",
   "pygments_lexer": "ipython3",
   "version": "3.9.4"
  },
  "orig_nbformat": 2,
  "kernelspec": {
   "name": "python394jvsc74a57bd06fae30b75c6de6020889af9669f15d4840c9cab22f6dd170537e846061df4561",
   "display_name": "Python 3.9.4 64-bit"
  },
  "metadata": {
   "interpreter": {
    "hash": "6fae30b75c6de6020889af9669f15d4840c9cab22f6dd170537e846061df4561"
   }
  }
 },
 "nbformat": 4,
 "nbformat_minor": 2,
 "cells": [
  {
   "cell_type": "code",
   "execution_count": 2,
   "metadata": {},
   "outputs": [
    {
     "output_type": "stream",
     "name": "stdout",
     "text": [
      "15\n"
     ]
    }
   ],
   "source": [
    "#***************************************** FUNCTIONS ***********************************************\n",
    "\n",
    "def ben_carp (a, b) :\n",
    "    print (a * b)\n",
    "\n",
    "\n",
    "a = 3\n",
    "b = 5\n",
    "\n",
    "ben_carp (3,5)"
   ]
  },
  {
   "cell_type": "code",
   "execution_count": 3,
   "metadata": {},
   "outputs": [
    {
     "output_type": "stream",
     "name": "stdout",
     "text": [
      "72\n"
     ]
    }
   ],
   "source": [
    "ben_carp(8,9)"
   ]
  },
  {
   "cell_type": "code",
   "execution_count": 4,
   "metadata": {},
   "outputs": [
    {
     "output_type": "stream",
     "name": "stdout",
     "text": [
      "True\nFalse\nTrue\n"
     ]
    }
   ],
   "source": [
    "names = [\"susan\", \"tom\", \"False\"] # all() = herhangi bir False varsa False verir. boş collection is True verir\n",
    "mood = [\"happy\", \"sad\",0]\n",
    "empty = {}\n",
    "print(all(names), all(mood), all(empty), sep=\"\\n\")"
   ]
  },
  {
   "cell_type": "code",
   "execution_count": 7,
   "metadata": {},
   "outputs": [
    {
     "output_type": "stream",
     "name": "stdout",
     "text": [
      "True\nFalse\nFalse\n"
     ]
    }
   ],
   "source": [
    "names = [\"susan\", \"tom\", False] # any() = herhangi bir True varsa True  verir. boş collection is False verir\n",
    "mood = [None, (),0]\n",
    "empty = {}\n",
    "print(any(names), any(mood), any(empty), sep=\"\\n\")"
   ]
  },
  {
   "cell_type": "code",
   "execution_count": null,
   "metadata": {},
   "outputs": [],
   "source": [
    "# filter fonksiyonu\n",
    "ListA [\"susan\", \"tom\", False, \"0\", \"keles\"]\n",
    "\n"
   ]
  },
  {
   "cell_type": "code",
   "execution_count": 12,
   "metadata": {},
   "outputs": [
    {
     "output_type": "execute_result",
     "data": {
      "text/plain": [
       "'t'"
      ]
     },
     "metadata": {},
     "execution_count": 12
    }
   ],
   "source": [
    "# enumarate fonksiyonu\n",
    "max(\"ahmet\")"
   ]
  },
  {
   "cell_type": "code",
   "execution_count": 15,
   "metadata": {},
   "outputs": [
    {
     "output_type": "execute_result",
     "data": {
      "text/plain": [
       "97"
      ]
     },
     "metadata": {},
     "execution_count": 15
    }
   ],
   "source": [
    "ord(\"a\")\n"
   ]
  },
  {
   "cell_type": "code",
   "execution_count": 16,
   "metadata": {},
   "outputs": [
    {
     "output_type": "execute_result",
     "data": {
      "text/plain": [
       "116"
      ]
     },
     "metadata": {},
     "execution_count": 16
    }
   ],
   "source": [
    "ord(\"t\")"
   ]
  },
  {
   "cell_type": "code",
   "execution_count": 23,
   "metadata": {},
   "outputs": [
    {
     "output_type": "stream",
     "name": "stdout",
     "text": [
      "21.5\n26.5\n"
     ]
    }
   ],
   "source": [
    "# sum(iterable, start)\n",
    "num = [2.5, 30, 4 ,-15]\n",
    "num_sum = sum(num)\n",
    "num_sum1 = sum(num, 5) # toplama eklencek bir int girilebilir\n",
    "print(num_sum)\n",
    "print(num_sum1)"
   ]
  },
  {
   "cell_type": "code",
   "execution_count": 11,
   "metadata": {},
   "outputs": [
    {
     "output_type": "stream",
     "name": "stdout",
     "text": [
      "11\n3.67\n3.68\n"
     ]
    }
   ],
   "source": [
    "# round(numbers, ndigits)\n",
    "print(round(10.8))\n",
    "print(round(3.665, 2))\n",
    "print(round(3.6754444, 2))"
   ]
  },
  {
   "cell_type": "code",
   "execution_count": 10,
   "metadata": {},
   "outputs": [
    {
     "output_type": "stream",
     "name": "stdout",
     "text": [
      "[1, 9, 25]\n[4, 16, 36]\n"
     ]
    }
   ],
   "source": [
    "my_list = [1,2,3,4,5,6]                          ### list comprehension burada anlattı ###\n",
    "\n",
    "print([x ** 2 for x in my_list if x % 2 != 0])\n",
    "print([x ** 2 for x in my_list if x % 2 == 0])\n"
   ]
  },
  {
   "cell_type": "code",
   "execution_count": 12,
   "metadata": {},
   "outputs": [
    {
     "output_type": "stream",
     "name": "stdout",
     "text": [
      "0\n4\n16\n"
     ]
    }
   ],
   "source": [
    "for i in range(6):\n",
    "    if i % 2 == 0:\n",
    "        print(i ** 2)\n",
    "    "
   ]
  },
  {
   "cell_type": "code",
   "execution_count": null,
   "metadata": {},
   "outputs": [],
   "source": [
    "print(['fizbuzz' if not i%15 else 'fizz' if not i%5 else \"buzz\" if not i%3 else i for i in range(1,16)])"
   ]
  },
  {
   "cell_type": "code",
   "execution_count": null,
   "metadata": {},
   "outputs": [],
   "source": [
    "for  i in range(1,31) :\n",
    "    if i%3 == 0 :\n",
    "        print(\"Fizz\")\n",
    "    elif i%5 == 0 :\n",
    "        print(\"Buzz\")\n",
    "    elif i%15 == 0 :\n",
    "        print(\"FizzBuzz\")\n",
    "    else:\n",
    "      print(i)"
   ]
  }
 ]
}