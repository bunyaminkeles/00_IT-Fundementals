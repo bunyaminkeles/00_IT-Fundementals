{
 "metadata": {
  "language_info": {
   "codemirror_mode": {
    "name": "ipython",
    "version": 3
   },
   "file_extension": ".py",
   "mimetype": "text/x-python",
   "name": "python",
   "nbconvert_exporter": "python",
   "pygments_lexer": "ipython3",
   "version": "3.7.8-final"
  },
  "orig_nbformat": 2,
  "kernelspec": {
   "name": "python378jvsc74a57bd057baa5815c940fdaff4d14510622de9616cae602444507ba5d0b6727c008cbd6",
   "display_name": "Python 3.7.8 64-bit"
  },
  "metadata": {
   "interpreter": {
    "hash": "57baa5815c940fdaff4d14510622de9616cae602444507ba5d0b6727c008cbd6"
   }
  }
 },
 "nbformat": 4,
 "nbformat_minor": 2,
 "cells": [
  {
   "cell_type": "code",
   "execution_count": 9,
   "metadata": {},
   "outputs": [
    {
     "output_type": "stream",
     "name": "stdout",
     "text": [
      "2\n<class 'int'>\n<class 'str'>\n<class 'float'>\n"
     ]
    }
   ],
   "source": [
    "count, fruit, price = (2, 'apple', 3.5)\n",
    "print(count)\n",
    "print(type(count))\n",
    "print(type(fruit))\n",
    "print(type(price))"
   ]
  },
  {
   "cell_type": "code",
   "execution_count": 42,
   "metadata": {},
   "outputs": [
    {
     "output_type": "stream",
     "name": "stdout",
     "text": [
      "['isim', 'soyad', 'yas', 'tc']\n"
     ]
    }
   ],
   "source": [
    "#**************** pop komutu ile liste içinden index nosuma göre silme işlemi yapılır\n",
    "my_list = [\"isim\", \"soyad\", \"yas\", \"sehir\", \"tc\"]\n",
    "my_list.pop(3)\n",
    "print(my_list)"
   ]
  },
  {
   "cell_type": "code",
   "execution_count": 43,
   "metadata": {},
   "outputs": [
    {
     "output_type": "stream",
     "name": "stdout",
     "text": [
      "[(2019, 'Freshman'), (2020, 'Sophomore'), (2021, 'Junior'), (2022, 'Senior')]\n"
     ]
    }
   ],
   "source": [
    "college_years = ['Freshman', 'Sophomore', 'Junior', 'Senior']\n",
    "print(list(enumerate(college_years, 2019)))"
   ]
  },
  {
   "cell_type": "code",
   "execution_count": 101,
   "metadata": {},
   "outputs": [
    {
     "output_type": "stream",
     "name": "stdout",
     "text": [
      "('Apples', 5, 1.5) ('Oranges', 3, 2.25) ('Bananas', 4, 0.89)\n"
     ]
    }
   ],
   "source": [
    "fruits = ['Apples', 'Oranges', 'Bananas']\n",
    "quantities = [5, 3, 4]\n",
    "prices = [1.50, 2.25, 0.89]\n",
    "output=[]\n",
    "\n",
    "fruit_tuple_0 = (fruits[0], quantities[0], prices[0])\n",
    "output.append(output)\n",
    "fruit_tuple_1 = (fruits[1], quantities[1], prices[1])\n",
    "output.append(output)\n",
    "fruit_tuple_2 = (fruits[2], quantities[2], prices[2])\n",
    "output.append(output)\n",
    "print(fruit_tuple_0, fruit_tuple_1, fruit_tuple_2)"
   ]
  },
  {
   "cell_type": "code",
   "execution_count": 98,
   "metadata": {},
   "outputs": [],
   "source": [
    "my_list = []\n",
    "my_list.append(my_list)"
   ]
  },
  {
   "cell_type": "code",
   "execution_count": 135,
   "metadata": {},
   "outputs": [
    {
     "output_type": "stream",
     "name": "stdout",
     "text": [
      "[('Apples', 5, 1.5), ('Oranges', 3, 2.25), ('Bananas', 4, 0.89), ('selam', 2, 3)]\n"
     ]
    }
   ],
   "source": [
    "fruits = ['Apples', 'Oranges', 'Bananas', \"selam\"]\n",
    "quantities = [5, 3, 4, 2]\n",
    "prices = [1.50, 2.25, 0.89, 3]\n",
    "i = 0\n",
    "output = []\n",
    "for x in fruits:\n",
    "    temp_qty = quantities[i]\n",
    "    temp_price = prices[i]\n",
    "    output.append((x, temp_qty, temp_price))\n",
    "    i += 1\n",
    "print(output)"
   ]
  },
  {
   "cell_type": "code",
   "execution_count": 104,
   "metadata": {},
   "outputs": [
    {
     "output_type": "stream",
     "name": "stdout",
     "text": [
      "[('Apples', 5, 1.5), ('Oranges', 3, 2.25), ('Bananas', 4, 0.89)]\n"
     ]
    }
   ],
   "source": [
    "fruits = ['Apples', 'Oranges', 'Bananas']\n",
    "quantities = [5, 3, 4]\n",
    "prices = [1.50, 2.25, 0.89]\n",
    "\n",
    "groceries = zip(fruits, quantities, prices)\n",
    "print(list(groceries))"
   ]
  },
  {
   "cell_type": "code",
   "execution_count": 132,
   "metadata": {},
   "outputs": [
    {
     "output_type": "stream",
     "name": "stdout",
     "text": [
      "[('Apples', 5, 1.5), ('Apples', 5, 2.25), ('Apples', 5, 0.89), ('Apples', 3, 1.5), ('Apples', 3, 2.25), ('Apples', 3, 0.89), ('Apples', 4, 1.5), ('Apples', 4, 2.25), ('Apples', 4, 0.89), ('Oranges', 5, 1.5), ('Oranges', 5, 2.25), ('Oranges', 5, 0.89), ('Oranges', 3, 1.5), ('Oranges', 3, 2.25), ('Oranges', 3, 0.89), ('Oranges', 4, 1.5), ('Oranges', 4, 2.25), ('Oranges', 4, 0.89), ('Bananas', 5, 1.5), ('Bananas', 5, 2.25), ('Bananas', 5, 0.89), ('Bananas', 3, 1.5), ('Bananas', 3, 2.25), ('Bananas', 3, 0.89), ('Bananas', 4, 1.5), ('Bananas', 4, 2.25), ('Bananas', 4, 0.89)]\n"
     ]
    }
   ],
   "source": [
    "fruits = ['Apples', 'Oranges', 'Bananas']\n",
    "quantities = [5, 3, 4]\n",
    "prices = [1.50, 2.25, 0.89]\n",
    "i = 0\n",
    "output = []\n",
    "for fruit in fruits:\n",
    "    for qty in quantities:\n",
    "           for price in prices:\n",
    "                output.append((fruit, qty, price))\n",
    "    i += 1\n",
    "print(output)"
   ]
  },
  {
   "cell_type": "code",
   "execution_count": 114,
   "metadata": {},
   "outputs": [
    {
     "output_type": "stream",
     "name": "stdout",
     "text": [
      "the most frequent number is 3 and it was 4 times repeated\n"
     ]
    }
   ],
   "source": [
    "numbers = [1, 3, 7, 4, 3, 0, 3, 6, 3]\n",
    "frequent = max(set(numbers), key = numbers.count)\n",
    "frequency = numbers.count(frequent)\n",
    "print(f\"the most frequent number is {frequent} and it was {frequency} times repeated\")\n",
    "\n"
   ]
  },
  {
   "cell_type": "code",
   "execution_count": 1,
   "metadata": {},
   "outputs": [
    {
     "output_type": "stream",
     "name": "stdout",
     "text": [
      "the most frequent number is 3 and it was 4 times repeated\n<class 'tuple'>\n"
     ]
    }
   ],
   "source": [
    "numbers = [1, 3, 7, 4, 3, 0, 3, 6, 3]\n",
    "y = max([(numbers.count(x), x) for x in set(numbers)])\n",
    "print(f\"the most frequent number is {y[1]} and it was {y[0]} times repeated\")\n"
   ]
  },
  {
   "cell_type": "code",
   "execution_count": null,
   "metadata": {},
   "outputs": [],
   "source": [
    "\n",
    "[(numbers.count(sss),sss) for sss in set(numbers)]\n",
    "[(1, 0), (1, 1), (4, 3), (1, 4), (1, 6), (1, 7)]\n"
   ]
  },
  {
   "cell_type": "code",
   "execution_count": 145,
   "metadata": {},
   "outputs": [
    {
     "output_type": "stream",
     "name": "stdout",
     "text": [
      "[4, 3]\n4\n3\n"
     ]
    }
   ],
   "source": [
    "z = []\n",
    "for i in set(numbers):\n",
    "    x = [numbers.count(i), i]\n",
    "    z.append(x)\n",
    "a = max(z)\n",
    "print(a)\n",
    "print(a[0])\n",
    "print(a[1])"
   ]
  },
  {
   "cell_type": "code",
   "execution_count": 3,
   "metadata": {},
   "outputs": [
    {
     "output_type": "stream",
     "name": "stdout",
     "text": [
      "{1: 'one', 2: {3: 'three', 5: 'four'}}\n"
     ]
    }
   ],
   "source": [
    "myDict = {1:\"one\",2:{3:\"three\",4:\"four\"}}\n",
    "myDict[2][5] = myDict[2].pop(4)\n",
    "print (myDict)\n",
    "\n",
    "#{1: 'one', 2: {3: 'three', 5: 'four'}}\n"
   ]
  },
  {
   "cell_type": "code",
   "execution_count": 4,
   "metadata": {},
   "outputs": [
    {
     "output_type": "stream",
     "name": "stdout",
     "text": [
      "{'elma': 3, 'armut': 20, 'peynir': 8, 'sosis': 4, 'erik': 10, 'sucuk': 6}\n"
     ]
    }
   ],
   "source": [
    "stok = {\"elma\": 5, \"armut\": 10, \"peynir\": 6, \"sosis\": 15, \"erik\": 10}\n",
    "yeni_stok ={\"elma\": 3, \"armut\":20, \"peynir\": 8, \"sosis\": 4, \"sucuk\": 6}\n",
    "\n",
    "stok.update(yeni_stok)\n",
    "print(stok)"
   ]
  },
  {
   "cell_type": "code",
   "execution_count": null,
   "metadata": {},
   "outputs": [],
   "source": []
  }
 ]
}