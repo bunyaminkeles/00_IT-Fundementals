{
 "metadata": {
  "language_info": {
   "codemirror_mode": {
    "name": "ipython",
    "version": 3
   },
   "file_extension": ".py",
   "mimetype": "text/x-python",
   "name": "python",
   "nbconvert_exporter": "python",
   "pygments_lexer": "ipython3",
   "version": "3.7.8-final"
  },
  "orig_nbformat": 2,
  "kernelspec": {
   "name": "python378jvsc74a57bd057baa5815c940fdaff4d14510622de9616cae602444507ba5d0b6727c008cbd6",
   "display_name": "Python 3.7.8 64-bit"
  },
  "metadata": {
   "interpreter": {
    "hash": "57baa5815c940fdaff4d14510622de9616cae602444507ba5d0b6727c008cbd6"
   }
  }
 },
 "nbformat": 4,
 "nbformat_minor": 2,
 "cells": [
  {
   "cell_type": "code",
   "execution_count": 3,
   "metadata": {},
   "outputs": [
    {
     "output_type": "stream",
     "name": "stdout",
     "text": [
      "['addis ababa', 'istanbul', 'rio', 'rome', 'tokyo']\n"
     ]
    }
   ],
   "source": [
    "sehirler = [\"tokyo\", \"addis ababa\", \"rome\", \"istanbul\", \"rio\"]\n",
    "print(sorted(sehirler))"
   ]
  },
  {
   "cell_type": "code",
   "execution_count": 4,
   "metadata": {},
   "outputs": [
    {
     "output_type": "stream",
     "name": "stdout",
     "text": [
      "['rio', 'rome', 'tokyo', 'istanbul', 'addis ababa']\n"
     ]
    }
   ],
   "source": [
    "print(sorted(sehirler, key = len))"
   ]
  },
  {
   "cell_type": "code",
   "execution_count": 6,
   "metadata": {},
   "outputs": [
    {
     "output_type": "stream",
     "name": "stdout",
     "text": [
      "['addis ababa', 'istanbul', 'tokyo', 'rome', 'rio']\n"
     ]
    }
   ],
   "source": [
    "print(sorted(sehirler, key = len, reverse = True))"
   ]
  },
  {
   "cell_type": "code",
   "execution_count": 8,
   "metadata": {},
   "outputs": [
    {
     "output_type": "stream",
     "name": "stdout",
     "text": [
      "['addis ababa', 'istanbul', 'tokyo', 'rome', 'rio']\n"
     ]
    }
   ],
   "source": [
    "sehirler.sort(key = len, reverse = True)\n",
    "print(sehirler)"
   ]
  },
  {
   "cell_type": "code",
   "execution_count": 9,
   "metadata": {},
   "outputs": [
    {
     "output_type": "stream",
     "name": "stdout",
     "text": [
      "88\n72\n"
     ]
    }
   ],
   "source": [
    "#********Tuples******************* ımmutable and iterable*************\n",
    "import sys\n",
    "x = [1,2,3] #list\n",
    "y = (1,2,3) # tuple\n",
    "print(sys.getsizeof(x))\n",
    "print(sys.getsizeof(y))"
   ]
  },
  {
   "cell_type": "code",
   "execution_count": 10,
   "metadata": {},
   "outputs": [
    {
     "output_type": "stream",
     "name": "stdout",
     "text": [
      "('h', 'a', 'p', 'p', 'y')\n"
     ]
    }
   ],
   "source": [
    "tuple_1 = ( \"h\", \"a\", \"p\", \"p\", \"y\")\n",
    "print(isimler)"
   ]
  },
  {
   "cell_type": "code",
   "execution_count": 12,
   "metadata": {},
   "outputs": [
    {
     "output_type": "stream",
     "name": "stdout",
     "text": [
      "('a', 'b', 'c')\n"
     ]
    }
   ],
   "source": [
    "benim = [\"a\", \"b\", \"c\"]\n",
    "ben_tuple = tuple(benim)\n",
    "print(ben_tuple)"
   ]
  },
  {
   "cell_type": "code",
   "execution_count": 15,
   "metadata": {},
   "outputs": [
    {
     "output_type": "stream",
     "name": "stdout",
     "text": [
      "solar\n<class 'str'>\n"
     ]
    }
   ],
   "source": [
    "empty_tuple = ()\n",
    "isimler = tuple()\n",
    "my_tuple =(\"solar\")\n",
    "print(my_tuple, type(my_tuple), sep=\"\\n\")"
   ]
  },
  {
   "cell_type": "code",
   "execution_count": 16,
   "metadata": {},
   "outputs": [
    {
     "output_type": "stream",
     "name": "stdout",
     "text": [
      "('solar',)\n<class 'tuple'>\n"
     ]
    }
   ],
   "source": [
    "my_tuple =(\"solar\",)\n",
    "print(my_tuple, type(my_tuple), sep=\"\\n\")"
   ]
  },
  {
   "cell_type": "code",
   "execution_count": 19,
   "metadata": {},
   "outputs": [
    {
     "output_type": "stream",
     "name": "stdout",
     "text": [
      "(1, 2, 3)\n"
     ]
    },
    {
     "output_type": "execute_result",
     "data": {
      "text/plain": [
       "tuple"
      ]
     },
     "metadata": {},
     "execution_count": 19
    }
   ],
   "source": [
    "x = 1, 2, 3\n",
    "print(x)\n",
    "type(x)"
   ]
  },
  {
   "cell_type": "code",
   "execution_count": 20,
   "metadata": {},
   "outputs": [
    {
     "output_type": "execute_result",
     "data": {
      "text/plain": [
       "tuple"
      ]
     },
     "metadata": {},
     "execution_count": 20
    }
   ],
   "source": [
    "aa = \"a\", \"b\"\n",
    "type(aa)\n",
    "\n",
    "bb = \"as\",\n",
    "type(bb)"
   ]
  },
  {
   "cell_type": "code",
   "execution_count": 28,
   "metadata": {},
   "outputs": [
    {
     "output_type": "stream",
     "name": "stdout",
     "text": [
      "<class 'list'>\n"
     ]
    }
   ],
   "source": [
    "my_tuple = (1, 2, 3, 5, 7, 9, 4)\n",
    "my_list = list(my_tuple)\n",
    "print(type(my_list))"
   ]
  },
  {
   "cell_type": "code",
   "execution_count": 26,
   "metadata": {},
   "outputs": [
    {
     "output_type": "stream",
     "name": "stdout",
     "text": [
      "('A', 'l', 'p', 's')\n"
     ]
    }
   ],
   "source": [
    "mountain = tuple(\"Alps\")\n",
    "print(mountain)"
   ]
  },
  {
   "cell_type": "code",
   "execution_count": 32,
   "metadata": {},
   "outputs": [
    {
     "output_type": "stream",
     "name": "stdout",
     "text": [
      "(1, 2, 3, 4, 5, 6, 7, 8, 9, 10)\n"
     ]
    }
   ],
   "source": [
    "my_list = tuple(range(1,11))\n",
    "print(my_list)"
   ]
  },
  {
   "cell_type": "code",
   "execution_count": 34,
   "metadata": {},
   "outputs": [
    {
     "output_type": "stream",
     "name": "stdout",
     "text": [
      "0\n2\n4\n"
     ]
    }
   ],
   "source": [
    "even_no = (0, 2, 4)\n",
    "print(even_no[0])\n",
    "print(even_no[1])\n",
    "print(even_no[2])"
   ]
  },
  {
   "cell_type": "code",
   "execution_count": 39,
   "metadata": {},
   "outputs": [
    {
     "output_type": "stream",
     "name": "stdout",
     "text": [
      "six\n"
     ]
    }
   ],
   "source": [
    "mix_tuple =(\"11\", 11, [2, \"two\",(\"six\", 6)], (5, \"fair\"))\n",
    "print(mix_tuple[2][2][0])"
   ]
  },
  {
   "cell_type": "code",
   "execution_count": 40,
   "metadata": {},
   "outputs": [
    {
     "output_type": "stream",
     "name": "stdout",
     "text": [
      "['two', ('six', 6)]\n<class 'list'>\n"
     ]
    }
   ],
   "source": [
    "str_six = mix_tuple[2][1:3]\n",
    "print(str_six, type(str_six), sep=\"\\n\") # sonuç list"
   ]
  },
  {
   "cell_type": "code",
   "execution_count": 41,
   "metadata": {},
   "outputs": [
    {
     "output_type": "stream",
     "name": "stdout",
     "text": [
      "(11, [2, 'two', ('six', 6)])\n<class 'tuple'>\n"
     ]
    }
   ],
   "source": [
    "str_six = mix_tuple[1:3]\n",
    "print(str_six, type(str_six), sep=\"\\n\") # sonuç tuple"
   ]
  },
  {
   "cell_type": "code",
   "execution_count": 45,
   "metadata": {},
   "outputs": [
    {
     "output_type": "stream",
     "name": "stdout",
     "text": [
      "(5, 'fair')\n<class 'tuple'>\n"
     ]
    }
   ],
   "source": [
    "mix_tuple =(\"11\", 11, [2, \"two\",(\"six\", 6)], (5, \"fair\"))\n",
    "print(mix_tuple[-1])\n",
    "print(type(mix_tuple[-1]))"
   ]
  },
  {
   "cell_type": "code",
   "execution_count": 49,
   "metadata": {},
   "outputs": [
    {
     "output_type": "stream",
     "name": "stdout",
     "text": [
      "fair\nfair\nfair\nfair\n"
     ]
    }
   ],
   "source": [
    "print(mix_tuple[-1][1])\n",
    "print(mix_tuple[-1][-1])\n",
    "print(mix_tuple[3][1])\n",
    "print(mix_tuple[3][-1])"
   ]
  },
  {
   "cell_type": "code",
   "execution_count": 56,
   "metadata": {},
   "outputs": [
    {
     "output_type": "stream",
     "name": "stdout",
     "text": [
      "('11', 11, [2, 'two', ('six', 6), 'keles'], (5, 'fair'))\n"
     ]
    }
   ],
   "source": [
    "mix_tuple =(\"11\", 11, [2, \"two\",(\"six\", 6)], (5, \"fair\"))\n",
    "mix_tuple[2].append(\"keles\")\n",
    "print(mix_tuple)"
   ]
  },
  {
   "cell_type": "code",
   "execution_count": 55,
   "metadata": {},
   "outputs": [
    {
     "output_type": "error",
     "ename": "ValueError",
     "evalue": "list.remove(x): x not in list",
     "traceback": [
      "\u001b[1;31m---------------------------------------------------------------------------\u001b[0m",
      "\u001b[1;31mValueError\u001b[0m                                Traceback (most recent call last)",
      "\u001b[1;32m<ipython-input-55-bc190bac166d>\u001b[0m in \u001b[0;36m<module>\u001b[1;34m\u001b[0m\n\u001b[1;32m----> 1\u001b[1;33m \u001b[0mmix_tuple\u001b[0m\u001b[1;33m[\u001b[0m\u001b[1;36m2\u001b[0m\u001b[1;33m]\u001b[0m\u001b[1;33m.\u001b[0m\u001b[0mremove\u001b[0m\u001b[1;33m(\u001b[0m\u001b[1;34m\"keles\"\u001b[0m\u001b[1;33m)\u001b[0m\u001b[1;33m\u001b[0m\u001b[1;33m\u001b[0m\u001b[0m\n\u001b[0m\u001b[0;32m      2\u001b[0m \u001b[0mprint\u001b[0m\u001b[1;33m(\u001b[0m\u001b[0mmix_tuple\u001b[0m\u001b[1;33m)\u001b[0m\u001b[1;33m\u001b[0m\u001b[1;33m\u001b[0m\u001b[0m\n",
      "\u001b[1;31mValueError\u001b[0m: list.remove(x): x not in list"
     ]
    }
   ],
   "source": [
    "mix_tuple[2].remove(\"keles\")\n",
    "print(mix_tuple)"
   ]
  },
  {
   "cell_type": "code",
   "execution_count": 13,
   "metadata": {},
   "outputs": [
    {
     "output_type": "stream",
     "name": "stdout",
     "text": [
      "london\no\nt\n['istanbul', 'seoul', 'sydney']\n['new york', 'london']\n['new york', 'istanbul', 'sydney']\n['sydney', 'seoul', 'istanbul', 'london', 'new york']\n['sydney', 'istanbul', 'new york']\n"
     ]
    }
   ],
   "source": [
    "city = [\"new york\", \"london\", \"istanbul\", \"seoul\", \"sydney\"]\n",
    "print(city[-4])\n",
    "print(city[3][2])\n",
    "print(city[2][2])\n",
    "print(city[-3:])\n",
    "print(city[:-3])\n",
    "print(city[::2])\n",
    "print(city[::-1])\n",
    "print(city[::-2])"
   ]
  },
  {
   "cell_type": "code",
   "execution_count": 18,
   "metadata": {},
   "outputs": [
    {
     "output_type": "stream",
     "name": "stdout",
     "text": [
      "['a,', 'b,', 'c,', 'd,', 'e,', 'f,', 'g,', 'h,', 'i,', 'j']\n['h,', 'g,', 'f,', 'e,']\n[]\n"
     ]
    }
   ],
   "source": [
    "harfler = \"a, b, c, d, e, f, g, h, i, j\".split() # stringi listeye dönüştürür.\n",
    "print(harfler)\n",
    "letters = [\"a\" ,\"b\", \"c\", \"d\", \"e\", \"f\", \"g\", \"h\", \"i\", \"j\"]\n",
    "print(harfler[7:3:-1])\n",
    "print(letters[2:6:-1])"
   ]
  },
  {
   "cell_type": "code",
   "execution_count": 23,
   "metadata": {},
   "outputs": [
    {
     "output_type": "stream",
     "name": "stdout",
     "text": [
      "['a b', ' c d, e', ' f, g, h,', ' i, j']\n"
     ]
    }
   ],
   "source": [
    "harfler1 = \"a b- c d, e- f, g, h,- i, j\".split(\"-\") # stringi listeye dönüştürür. \"-\" tireyi baz alarak böldü.\n",
    "print(harfler1)"
   ]
  },
  {
   "cell_type": "code",
   "execution_count": null,
   "metadata": {},
   "outputs": [],
   "source": []
  },
  {
   "cell_type": "code",
   "execution_count": 43,
   "metadata": {},
   "outputs": [
    {
     "output_type": "stream",
     "name": "stdout",
     "text": [
      "['a123457', 'c12345679', 'b124', 't123456870', 's13']\n['s13', 'b124', 'a123457', 'c12345679', 't123456870']\n['t123456870', 'c12345679', 'a123457', 'b124', 's13']\n"
     ]
    }
   ],
   "source": [
    "kisiler4 = [\"a123457\", \"c12345679\", \"b124\", \"t123456870\", \"s13\"]\n",
    "print(kisiler4)\n",
    "\n",
    "my_kisi = sorted(kisiler4, key = len)\n",
    "print(my_kisi)\n",
    "my_kisi = sorted(kisiler4, key = len, reverse=True)\n",
    "print(my_kisi)\n"
   ]
  },
  {
   "cell_type": "code",
   "execution_count": null,
   "metadata": {},
   "outputs": [],
   "source": []
  }
 ]
}