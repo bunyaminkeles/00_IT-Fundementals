{
 "metadata": {
  "language_info": {
   "codemirror_mode": {
    "name": "ipython",
    "version": 3
   },
   "file_extension": ".py",
   "mimetype": "text/x-python",
   "name": "python",
   "nbconvert_exporter": "python",
   "pygments_lexer": "ipython3",
   "version": "3.7.8-final"
  },
  "orig_nbformat": 2,
  "kernelspec": {
   "name": "python3",
   "display_name": "Python 3.7.8 64-bit",
   "metadata": {
    "interpreter": {
     "hash": "57baa5815c940fdaff4d14510622de9616cae602444507ba5d0b6727c008cbd6"
    }
   }
  }
 },
 "nbformat": 4,
 "nbformat_minor": 2,
 "cells": [
  {
   "cell_type": "code",
   "execution_count": 11,
   "metadata": {},
   "outputs": [
    {
     "output_type": "stream",
     "name": "stdout",
     "text": [
      "12--15--şş\nfigen ben seni her zaman seviyorum\ngenerosity wins in all circumstances\n"
     ]
    }
   ],
   "source": [
    "print(\"{}--{}--{}\".format(\"12\", \"15\", \"şş\"))\n",
    "\n",
    "print(\"{1} {3} {2} {4} {0}\".format(\"seviyorum\", \"figen\", \"seni\", \"ben\", \"her zaman\"))\n",
    "\n",
    "print(\"{2} {3} {1} {0}\".format(\"circumstances\", \"in all\", \"generosity\", \"wins\"))"
   ]
  },
  {
   "cell_type": "code",
   "execution_count": 17,
   "metadata": {},
   "outputs": [
    {
     "output_type": "stream",
     "name": "stdout",
     "text": [
      "generosity wins in all circumstances\n"
     ]
    }
   ],
   "source": [
    "\n",
    "condition = \"circumstances\"\n",
    "morality =  \"generosity\"\n",
    "phrase = (\"{morality} {1} {0} {condition}\".format(\"in all\", \"wins\", condition = \"circumstances\", morality =  \"generosity\"))\n",
    "print(phrase)\n"
   ]
  },
  {
   "cell_type": "code",
   "execution_count": 32,
   "metadata": {},
   "outputs": [
    {
     "output_type": "stream",
     "name": "stdout",
     "text": [
      "If we had bought $2000 crypto coins at the weekend, we would have had $4,152.32 with a profit share of %11 after 5 days.\n"
     ]
    }
   ],
   "source": [
    "capital = 2000\n",
    "proft = \"4,152.32\"\n",
    "rate = 11\n",
    "day = 5\n",
    "text = \"If we had bought ${} crypto coins at the weekend, we would have had ${} with a profit share of %{} after {} days.\".format(capital, proft, rate, day)\n",
    "print(text)"
   ]
  },
  {
   "cell_type": "code",
   "execution_count": 42,
   "metadata": {},
   "outputs": [
    {
     "output_type": "stream",
     "name": "stdout",
     "text": [
      "8\n"
     ]
    }
   ],
   "source": [
    "# f-string çalışması\n",
    "text = f\"{2**3}\"\n",
    "print(text)"
   ]
  },
  {
   "cell_type": "code",
   "execution_count": 47,
   "metadata": {},
   "outputs": [
    {
     "output_type": "stream",
     "name": "stdout",
     "text": [
      "My name is Mariam\nMy name is Mariam\n"
     ]
    }
   ],
   "source": [
    "name = \"MARIAM\"\n",
    "print(\"My name is\", name.capitalize())\n",
    "text = f\"My name is {name.capitalize()}\"\n",
    "print(text)"
   ]
  },
  {
   "cell_type": "code",
   "execution_count": 53,
   "metadata": {},
   "outputs": [
    {
     "output_type": "stream",
     "name": "stdout",
     "text": [
      "Hi Joseph.You are one of the teachers in the Data Science\n"
     ]
    }
   ],
   "source": [
    "name = \"Joseph\"\n",
    "job = \"teachers\"\n",
    "domain = \"Data Science\"\n",
    "mssg = (\n",
    "    f\"Hi {name}.\"\n",
    "    f\"You are one of the {job} \"\n",
    "    f\"in the {domain}\"\n",
    ")\n",
    "print(mssg)"
   ]
  },
  {
   "cell_type": "code",
   "execution_count": 56,
   "metadata": {},
   "outputs": [
    {
     "output_type": "stream",
     "name": "stdout",
     "text": [
      "benim 11 elmam 22 portakalım \n33 armut var\n"
     ]
    }
   ],
   "source": [
    "a = 11\n",
    "b = 22\n",
    "c = 33\n",
    "output = (\n",
    "    f\"benim {a} elmam \"\n",
    "    f\"{b} portakalım \\n\"\n",
    "    f\"{c} armut var\"\n",
    ")\n",
    "print(output)"
   ]
  },
  {
   "cell_type": "code",
   "execution_count": 72,
   "metadata": {},
   "outputs": [
    {
     "output_type": "stream",
     "name": "stdout",
     "text": [
      "benim 11 elmam22 portakalım33 armut var\n"
     ]
    }
   ],
   "source": [
    "a = 11\n",
    "b = 22\n",
    "c = 33\n",
    "output = f\"benim {a} elmam\" \\\n",
    "    f\"{b} portakalım\" \\\n",
    "    f\"{c} armut var\"\n",
    "\n",
    "print(output)"
   ]
  },
  {
   "cell_type": "code",
   "execution_count": 67,
   "metadata": {},
   "outputs": [
    {
     "output_type": "stream",
     "name": "stdout",
     "text": [
      "Susan is a young lady and she is a student at the CLRWY IT university.\n"
     ]
    }
   ],
   "source": [
    "name = \"Susan\"\n",
    "age = \"young\"\n",
    "gender = \"lady\"\n",
    "school = \"CLRWY IT university\"\n",
    "\n",
    "text = (\n",
    "    f\"{name} is a \"\n",
    "    f\"{age} {gender} \"\n",
    "    f\"and she is a student at the {school}.\"\n",
    ")\n",
    "print(text)"
   ]
  },
  {
   "cell_type": "code",
   "execution_count": 75,
   "metadata": {},
   "outputs": [
    {
     "output_type": "stream",
     "name": "stdout",
     "text": [
      "clarusway\nClarusway\nclarusway\n"
     ]
    }
   ],
   "source": [
    "#immutability nedir..\n",
    "# değişmez veri, sabitlik, değiştirilemelzik\n",
    "var_string = \"Clarusway\"\n",
    "print(var_string.lower())\n",
    "print(var_string)\n",
    "\n",
    "var_string = \"Clarusway\".lower()\n",
    "print(var_string)"
   ]
  },
  {
   "cell_type": "code",
   "execution_count": 78,
   "metadata": {},
   "outputs": [
    {
     "output_type": "stream",
     "name": "stdout",
     "text": [
      "CLARUSWAY\nclarusway\n"
     ]
    }
   ],
   "source": [
    "print(var_string.upper())\n",
    "print(var_string)"
   ]
  },
  {
   "cell_type": "code",
   "execution_count": 80,
   "metadata": {},
   "outputs": [
    {
     "output_type": "stream",
     "name": "stdout",
     "text": [
      "In God we Trust\nin god we trust\n"
     ]
    }
   ],
   "source": [
    "var_str = \"In God we Trust\"\n",
    "var_str.lower()\n",
    "print(var_str)\n",
    "print(var_str.lower())"
   ]
  },
  {
   "cell_type": "code",
   "execution_count": 92,
   "metadata": {},
   "outputs": [
    {
     "output_type": "stream",
     "name": "stdout",
     "text": [
      "True\nFalse\n"
     ]
    }
   ],
   "source": [
    "#searching string************** outpu True ya da False olur\n",
    "#endswith = sağdan bakar ve karakterleri arar**** varsa True yoksa False döndürür****\n",
    "#startwith = baştan başlar ve karakterleri arar**** varsa True yoksa False döndürür****\n",
    "\n",
    "text = \"soyadım\"\n",
    "print(text.endswith(\"m\"))\n",
    "print(text.startswith(\"Soya\")) # küçük büyük hassas"
   ]
  },
  {
   "cell_type": "code",
   "execution_count": 98,
   "metadata": {},
   "outputs": [
    {
     "output_type": "stream",
     "name": "stdout",
     "text": [
      "what is soul?\nWhat Is Soul?\n"
     ]
    }
   ],
   "source": [
    "text = \"what is Soul?\"\n",
    "print(text.upper().swapcase()) # swapcase ise büyükse küçültür.. küçükse büyültür..\n",
    "\n",
    "text1 = \"what is soul?\"\n",
    "print(text1.title()) ## title kelime başlıklarını büyük yapar.."
   ]
  },
  {
   "cell_type": "code",
   "execution_count": 103,
   "metadata": {},
   "outputs": [
    {
     "output_type": "stream",
     "name": "stdout",
     "text": [
      "What Is Feelings?\n"
     ]
    }
   ],
   "source": [
    "metin = \"what is Soul?\"\n",
    "new_metin = metin.replace(\"Soul\", \"feeliNGS\") # kelimeyi bularak yerine belirleneni yerleştirir\n",
    "print(new_metin.title())"
   ]
  },
  {
   "cell_type": "code",
   "execution_count": 124,
   "metadata": {},
   "outputs": [
    {
     "output_type": "stream",
     "name": "stdout",
     "text": [
      "False\nFalse\n"
     ]
    }
   ],
   "source": [
    "email = \"bkeles74@gmail.com\" #**************************** BURAYI ARAŞTIR********\n",
    "print(email.startswith(\"@\", 0, 17))\n",
    "print(email.endswith(\"@\",0, 12))"
   ]
  },
  {
   "cell_type": "code",
   "execution_count": null,
   "metadata": {},
   "outputs": [],
   "source": [
    "#Changing  a  String*****************\n",
    "\n",
    "#### string.method(arguments)\n",
    "\n"
   ]
  }
 ]
}