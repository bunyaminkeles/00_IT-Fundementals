{
 "metadata": {
  "language_info": {
   "codemirror_mode": {
    "name": "ipython",
    "version": 3
   },
   "file_extension": ".py",
   "mimetype": "text/x-python",
   "name": "python",
   "nbconvert_exporter": "python",
   "pygments_lexer": "ipython3",
   "version": "3.7.8"
  },
  "orig_nbformat": 2,
  "kernelspec": {
   "name": "python378jvsc74a57bd057baa5815c940fdaff4d14510622de9616cae602444507ba5d0b6727c008cbd6",
   "display_name": "Python 3.7.8 64-bit"
  },
  "metadata": {
   "interpreter": {
    "hash": "57baa5815c940fdaff4d14510622de9616cae602444507ba5d0b6727c008cbd6"
   }
  }
 },
 "nbformat": 4,
 "nbformat_minor": 2,
 "cells": [
  {
   "cell_type": "code",
   "execution_count": null,
   "metadata": {},
   "outputs": [],
   "source": [
    "giris_sayisi = int(input(\"Kaç sayı gireceksiniz: \"))\n",
    "dongu_konrol = 0\n",
    "tutucu = 0\n",
    "while dongu_konrol < giris_sayisi:\n",
    "    giris=int(input(\"Bir sayı giriniz : \"))\n",
    "    if giris%2 != 0:\n",
    "        if giris>tutucu:\n",
    "            tutucu=giris\n",
    "            print(tutucu)\n",
    "    dongu_konrol+=1\n",
    "    if dongu_konrol>giris_sayisi:\n",
    "        break\n",
    "print(\"\\nToplam\",giris_sayisi,\"giriş yaptınız.\")\n",
    "print(\"Girdiğiniz sayıların tek olanlarının en büyüğü : \",tutucu)"
   ]
  },
  {
   "cell_type": "code",
   "execution_count": null,
   "metadata": {},
   "outputs": [],
   "source": [
    "list1 = []\n",
    "number = int(input(\"Enter how many number will be list consist of: \"))\n",
    "for i in range(number):\n",
    "    numb = int(input(\"Enter numb: \"))\n",
    "    list1.append(numb)\n",
    "    list1.sort()\n",
    "print(\"The biggest number is in list:\", list1[-1],\"\\nThe lowest number is in list:\", list1[0])"
   ]
  },
  {
   "cell_type": "code",
   "execution_count": null,
   "metadata": {},
   "outputs": [],
   "source": [
    "i = int(input('How many numbers will you enter? : '))\n",
    "n_list = list()\n",
    "while i > 0:\n",
    "    n = float(input(\"Please enter the number : \"))\n",
    "    n_list.append(n)\n",
    "    i -= 1\n",
    "n_list.sort(reverse=True)\n",
    "print(\"The largest number is : \",n_list[0])"
   ]
  },
  {
   "cell_type": "code",
   "execution_count": null,
   "metadata": {},
   "outputs": [],
   "source": [
    "piece = int(input(\"How many numbers will you enter? \"))\n",
    "number = [int(input(\"Please enter the number : \")) for i in range(piece)]\n",
    "print(f\"The largest number is {sorted(number)[-1]}\" )"
   ]
  },
  {
   "cell_type": "code",
   "execution_count": 1,
   "metadata": {},
   "outputs": [
    {
     "output_type": "stream",
     "name": "stdout",
     "text": [
      "0 saysının karesi 0\n1 saysının karesi 1\n2 saysının karesi 4\n3 saysının karesi 9\n4 saysının karesi 16\n"
     ]
    }
   ],
   "source": [
    "mylist = [\"a\",\"b\",\"c\",\"d\",\"e\"]\n",
    "a = 0\n",
    "while a < len(mylist):\n",
    "    print(f\"{a} saysının karesi {a**2}\")\n",
    "    a+=1"
   ]
  },
  {
   "cell_type": "code",
   "execution_count": 10,
   "metadata": {},
   "outputs": [
    {
     "output_type": "stream",
     "name": "stdout",
     "text": [
      "little lower\n",
      "little higher\n",
      "you are a mindreader\n"
     ]
    }
   ],
   "source": [
    "answer =int(input(\"bir sayı giriniz\"))\n",
    "\n",
    "soru = \"what number am I thinking\"\n",
    "while True:\n",
    "    guess = int(input(soru))\n",
    "\n",
    "    if guess < answer:\n",
    "        print(\"little higher\")\n",
    "    elif guess > answer:\n",
    "        print(\"little lower\")\n",
    "    else:\n",
    "        print(\"you are a mindreader\")\n",
    "        break"
   ]
  },
  {
   "cell_type": "code",
   "execution_count": null,
   "metadata": {},
   "outputs": [],
   "source": [
    "flowers = [\"rose\", \"orchid\", \"tulip\"]\n",
    "count1 = len(flowers)\n",
    "count2 = aaa\n",
    "\n",
    "while count1 > 0:\n",
    "    print(flowers[0:2])\n",
    "    count1 += "
   ]
  },
  {
   "cell_type": "code",
   "execution_count": 17,
   "metadata": {},
   "outputs": [
    {
     "output_type": "stream",
     "name": "stdout",
     "text": [
      "1 2 3 4 5 6 "
     ]
    }
   ],
   "source": [
    "for i in [1,2,3,4,5,6]:\n",
    "    print(i, end=\" \")"
   ]
  },
  {
   "cell_type": "code",
   "execution_count": 19,
   "metadata": {},
   "outputs": [
    {
     "output_type": "stream",
     "name": "stdout",
     "text": [
      "spr sum aut win "
     ]
    }
   ],
   "source": [
    "seasons = [\"spr\",\"sum\",\"aut\",\"win\"]\n",
    "for season in seasons:\n",
    "    print(season, end=\" \")"
   ]
  },
  {
   "cell_type": "code",
   "execution_count": 26,
   "metadata": {},
   "outputs": [
    {
     "output_type": "stream",
     "name": "stdout",
     "text": [
      "n1\nn2\n"
     ]
    }
   ],
   "source": [
    "for i in {\"n1\": \"one\", \"n2\": \"two\"}:\n",
    "    print(i)"
   ]
  },
  {
   "cell_type": "code",
   "execution_count": 28,
   "metadata": {},
   "outputs": [
    {
     "output_type": "stream",
     "name": "stdout",
     "text": [
      "c l a r u s w a y "
     ]
    }
   ],
   "source": [
    "x = \"clarusway\"\n",
    "\n",
    "for i in x:\n",
    "    print(i, end=\" \")"
   ]
  },
  {
   "cell_type": "code",
   "execution_count": 6,
   "metadata": {},
   "outputs": [
    {
     "output_type": "stream",
     "name": "stdout",
     "text": [
      "You are NOT in risky group\n"
     ]
    }
   ],
   "source": [
    "age = input(\"Are you a cigarette addict older than 75 years old?: Yes/No\")\n",
    "chronic = input(\"Do you have a severe chronic disease?: Yes/No\")\n",
    "immune = input(\"Is your immune system too weak?: Yes/No\")\n",
    "if age and chronic and immune == \"Yes\":\n",
    "    print(\"You are in risky group\")\n",
    "else:\n",
    "    print(\"You are NOT in risky group\")\n"
   ]
  },
  {
   "cell_type": "code",
   "execution_count": 4,
   "metadata": {},
   "outputs": [],
   "source": [
    "age = input(\"Are you a cigarette addict older than 75 years old?: Yes/No\")\n",
    "if age != \"Yes\":\n",
    "    True\n",
    "print(\"\")\n"
   ]
  },
  {
   "cell_type": "code",
   "execution_count": null,
   "metadata": {},
   "outputs": [],
   "source": [
    "sayı = int(input(\"enter a number 1-10\")) \n",
    "for i in range(11):\n",
    "    #print(f\"{sayı}x{i}= \", sayı * i)\n",
    "    print(\"{} x {} =\".format(sayı, i), sayı * i)"
   ]
  },
  {
   "cell_type": "code",
   "execution_count": null,
   "metadata": {},
   "outputs": [],
   "source": [
    "for i in names.items() :\n",
    "    print(i)"
   ]
  },
  {
   "cell_type": "code",
   "execution_count": null,
   "metadata": {},
   "outputs": [],
   "source": [
    "names = {\n",
    "    \"ali\" : 33,\n",
    "    \"veli\": 44,\n",
    "    \"ayşe\": 2\n",
    "    }\n",
    "for a, b in names.items() :\n",
    "    print(a, b)\n",
    "print(names)"
   ]
  },
  {
   "cell_type": "code",
   "execution_count": null,
   "metadata": {},
   "outputs": [],
   "source": [
    "user = {\n",
    "    \"name\": \"Daniel\",\n",
    "    \"surname\":\"Smith\",\n",
    "    \"age\":\"35\"\n",
    "}\n",
    "for i in user.values():\n",
    "    print(i, end=\"-\")"
   ]
  },
  {
   "cell_type": "code",
   "execution_count": null,
   "metadata": {},
   "outputs": [],
   "source": [
    "user = {\n",
    "    \"name\": \"Daniel\",\n",
    "    \"surname\":\"Smith\",\n",
    "    \"age\":\"35\"\n",
    "}\n",
    "for i in user:\n",
    "    print(\"-\".join(i))"
   ]
  },
  {
   "cell_type": "code",
   "execution_count": 17,
   "metadata": {},
   "outputs": [
    {
     "output_type": "stream",
     "name": "stdout",
     "text": [
      "0\n1\n2\n3\n4\n{0, 1, 2, 3, 4}\n(0, 1, 2, 3, 4)\n0 1 2 3 4\n"
     ]
    }
   ],
   "source": [
    "b = range(5)\n",
    "for i in b:\n",
    "    print(i)\n",
    "print(set(b))\n",
    "print(tuple(b))\n",
    "print(*(b))\n",
    "\n",
    "\n"
   ]
  },
  {
   "cell_type": "code",
   "execution_count": 3,
   "metadata": {},
   "outputs": [
    {
     "output_type": "stream",
     "name": "stdout",
     "text": [
      "k e l e s\n"
     ]
    }
   ],
   "source": [
    "print(*\"keles\")"
   ]
  },
  {
   "cell_type": "code",
   "execution_count": null,
   "metadata": {},
   "outputs": [],
   "source": [
    "myword = input()\n",
    "print(\"-\".join(myword))"
   ]
  },
  {
   "cell_type": "code",
   "execution_count": null,
   "metadata": {},
   "outputs": [],
   "source": [
    "myword = input(\"give a word :\")\n",
    "count = 0\n",
    "for i in myword :\n",
    "    count +=1\n",
    "    if count < len(myword) :\n",
    "        i = i + \"-\"\n",
    "    print(i, end=\"\")"
   ]
  },
  {
   "cell_type": "code",
   "execution_count": null,
   "metadata": {},
   "outputs": [],
   "source": [
    "course = \"clarusway\"\n",
    "for i in course :\n",
    "    print(i, end=\" \")"
   ]
  },
  {
   "cell_type": "code",
   "execution_count": 1,
   "metadata": {},
   "outputs": [
    {
     "output_type": "stream",
     "name": "stdout",
     "text": [
      "[1, 2, 3, 4, 5]\n"
     ]
    }
   ],
   "source": [
    "mylst = []\n",
    "for i in range(1,6):\n",
    "    mylst.append(i)\n",
    "print(mylst)"
   ]
  },
  {
   "cell_type": "code",
   "execution_count": null,
   "metadata": {},
   "outputs": [],
   "source": [
    "names = [\"Ahmet\", \"Aisha\", \"Adam\", \"Joseph\", \"Gabriel\"]\n",
    "for i in names:\n",
    "    print(\"hello\", i)\n"
   ]
  },
  {
   "cell_type": "code",
   "execution_count": null,
   "metadata": {},
   "outputs": [],
   "source": [
    "sent = input(\"enter a statement\")\n",
    "words = sent.split()\n",
    "i = 0\n",
    "longest = 0\n",
    "while i < len(words) :\n",
    "    if len(words (i)) > longest :\n",
    "        longest = len(words(i))\n",
    "    i += 1\n",
    "print(\"the length of word is\", longest)"
   ]
  },
  {
   "cell_type": "code",
   "execution_count": null,
   "metadata": {},
   "outputs": [],
   "source": [
    "answer = 47\n",
    "question = 'What number am I thinking of?  '\n",
    "print (\"Let's play the guessing game!\")\n",
    "while True:\n",
    "    guess = int(input(question))\n",
    "    if guess < answer:\n",
    "        print('Little higher')\n",
    "    elif guess > answer:\n",
    "        print('Little lower')\n",
    "    else:  # guess == answer\n",
    "        print('Are you a MINDREADER!!!')\n",
    "        break"
   ]
  },
  {
   "cell_type": "code",
   "execution_count": 28,
   "metadata": {},
   "outputs": [
    {
     "output_type": "stream",
     "name": "stdout",
     "text": [
      "keles 11\nali 22\nveli 33\n[('keles', '11'), ('ali', '22'), ('veli', '33')]\n"
     ]
    }
   ],
   "source": [
    "names1 = [\"keles\", \"ali\", \"veli\"]\n",
    "yas = [\"11\", \"22\", \"33\"]\n",
    "xx = zip(names1, yas)\n",
    "for x, y in zip(names1, yas) :\n",
    "    print(x, y)\n",
    "    \n",
    "print(list(xx))"
   ]
  },
  {
   "cell_type": "code",
   "execution_count": 2,
   "metadata": {},
   "outputs": [
    {
     "output_type": "stream",
     "name": "stdout",
     "text": [
      "33 is not a prime number\n"
     ]
    }
   ],
   "source": [
    "n=int(input('Enter a number to check if it is a prime number : '))\n",
    "count=0\n",
    "for i in range(1, n+1):\n",
    "    if n%i==0 : count += 1\n",
    "    else : count += 0\n",
    "if count < 3: print(f'{n} is a prime number')\n",
    "else : print(f'{n} is not a prime number')"
   ]
  },
  {
   "cell_type": "code",
   "execution_count": 9,
   "metadata": {},
   "outputs": [
    {
     "output_type": "stream",
     "name": "stdout",
     "text": [
      "1 : one\n2 : two\n3 : three\n4 : four\n5 : five\n"
     ]
    }
   ],
   "source": [
    "text = [\"one\", \"two\", \"three\", \"four\", \"five\"]\n",
    "numbers = [\"1\", \"2\", 3, 4, 5]\n",
    "for y, x in zip(text, numbers):\n",
    "    print(x, \":\", y)\n"
   ]
  },
  {
   "cell_type": "code",
   "execution_count": 18,
   "metadata": {},
   "outputs": [
    {
     "output_type": "stream",
     "name": "stdout",
     "text": [
      "('one', 1, 'a') ('two', 2, 'b') ('three', 3, 'c') ('four', 4, 'd') ('five', 5, 'e')\n"
     ]
    }
   ],
   "source": [
    "text = [\"one\", \"two\", \"three\", \"four\", \"five\"]\n",
    "numbers = [1, 2, 3, 4, 5]\n",
    "city = [\"a\", \"b\", \"c\", \"d\", \"e\"]\n",
    "list(zip(text, numbers, city))"
   ]
  },
  {
   "cell_type": "code",
   "execution_count": 17,
   "metadata": {},
   "outputs": [
    {
     "output_type": "stream",
     "name": "stdout",
     "text": [
      "('one', 1, 'a') ('two', 2, 'b') ('three', 3, 'c') ('four', 4, 'd') ('five', 5, 'e')\n"
     ]
    }
   ],
   "source": [
    "print(* zip(text, numbers, city))"
   ]
  },
  {
   "cell_type": "code",
   "execution_count": 34,
   "metadata": {},
   "outputs": [
    {
     "output_type": "stream",
     "name": "stdout",
     "text": [
      "[1, 3, 5, 7, 9]\n[2, 4, 6, 8]\n"
     ]
    }
   ],
   "source": [
    "numEvens = []\n",
    "numOdds = [] \n",
    "for i in range(1,10):\n",
    "    if i%2 == 0 :\n",
    "        numEvens.append(i)\n",
    "    else:\n",
    "        numOdds.append(i)\n",
    "print(numOdds)\n",
    "print(numEvens)"
   ]
  },
  {
   "cell_type": "code",
   "execution_count": 43,
   "metadata": {},
   "outputs": [
    {
     "output_type": "stream",
     "name": "stdout",
     "text": [
      "Th nummbers of even numbers : 5\nTh nummbers of odd numbers : 4\n"
     ]
    }
   ],
   "source": [
    "examList = [11,2,24,61,48,33,3, 0, 5]\n",
    "evens = 0\n",
    "odds = 0\n",
    "for i in examList :\n",
    "    if i % 2 != 0 :\n",
    "        evens +=1\n",
    "    else:\n",
    "        odds +=1\n",
    "print(\"Th nummbers of even numbers :\", evens ) # tekler\n",
    "print(\"Th nummbers of odd numbers :\", odds ) # çiftler\n"
   ]
  },
  {
   "cell_type": "code",
   "execution_count": 54,
   "metadata": {},
   "outputs": [
    {
     "output_type": "stream",
     "name": "stdout",
     "text": [
      "1\n22\n333\n4444\n55555\n666666\n7777777\n88888888\n999999999\n"
     ]
    }
   ],
   "source": [
    "for i in range(1,10) :\n",
    "    print(i * str(i))"
   ]
  },
  {
   "cell_type": "code",
   "execution_count": 80,
   "metadata": {},
   "outputs": [
    {
     "output_type": "stream",
     "name": "stdout",
     "text": [
      "2775\n"
     ]
    }
   ],
   "source": [
    "toplam = 0\n",
    "for i in range(1, 75) :\n",
    "    toplam = toplam + i\n",
    "print(toplam)"
   ]
  },
  {
   "cell_type": "code",
   "execution_count": 81,
   "metadata": {},
   "outputs": [
    {
     "output_type": "stream",
     "name": "stdout",
     "text": [
      "2775\n"
     ]
    }
   ],
   "source": [
    "liste = []\n",
    "for i in range(75):\n",
    "    liste.append(i)\n",
    "summ = sum(liste)\n",
    "print(summ)"
   ]
  },
  {
   "cell_type": "code",
   "execution_count": 83,
   "metadata": {},
   "outputs": [
    {
     "output_type": "stream",
     "name": "stdout",
     "text": [
      "I am happy\nI am confident\nYou are happy\nYou are confident\n"
     ]
    }
   ],
   "source": [
    "\n",
    "# *****************nested loop**************************\n",
    "who = [\"I am \", \"You are \"]\n",
    "mood =[\"happy\", \"confident\"]\n",
    "\n",
    "for i in who :\n",
    "    for ii in mood:\n",
    "        print(i + ii)"
   ]
  },
  {
   "cell_type": "code",
   "execution_count": 85,
   "metadata": {},
   "outputs": [
    {
     "output_type": "stream",
     "name": "stdout",
     "text": [
      "susan happy\nsusan sad\ntom happy\ntom sad\nedward happy\nedward sad\n"
     ]
    }
   ],
   "source": [
    "names = [\"susan \", \"tom \", \"edward \"] \n",
    "mood = [\"happy\", \"sad\"]\n",
    "for i in names:\n",
    "    for j in mood:\n",
    "        print (i + j)"
   ]
  },
  {
   "cell_type": "code",
   "execution_count": 87,
   "metadata": {},
   "outputs": [
    {
     "output_type": "stream",
     "name": "stdout",
     "text": [
      "[1, 9, 25]\n"
     ]
    }
   ],
   "source": [
    "# ***************************************list comprehension *****************************************\n",
    "my_list = [1, 2, 3, 4, 5, 6]\n",
    "new_list = []\n",
    "for i in my_list :\n",
    "    if i % 2 :\n",
    "        new_list.append(i ** 2)\n",
    "print(new_list)"
   ]
  },
  {
   "cell_type": "code",
   "execution_count": 89,
   "metadata": {},
   "outputs": [
    {
     "output_type": "stream",
     "name": "stdout",
     "text": [
      "[1, 9, 25]\n"
     ]
    }
   ],
   "source": [
    "boş = []\n",
    "boş.append(my_list[0] ** 2)\n",
    "boş.append(my_list[2] ** 2)\n",
    "boş.append(my_list[4] ** 2)\n",
    "print(boş)"
   ]
  },
  {
   "cell_type": "code",
   "execution_count": 92,
   "metadata": {},
   "outputs": [
    {
     "output_type": "execute_result",
     "data": {
      "text/plain": [
       "[0, 4, 16]"
      ]
     },
     "metadata": {},
     "execution_count": 92
    }
   ],
   "source": [
    "#[expression for item in iterable]\n",
    "[i for i in range (5)]\n",
    "[i ** 2 for i in range (5)] # expression burada body oluyor ////    for item in iterable\n",
    "[i ** 2 for i in range (5) if i % 2 == 0]"
   ]
  },
  {
   "cell_type": "code",
   "execution_count": null,
   "metadata": {},
   "outputs": [],
   "source": [
    "condition = True\n",
    "\n",
    "if condition :\n",
    "    a = 1\n",
    "else:\n",
    "    a = 0\n",
    "print(a)"
   ]
  },
  {
   "cell_type": "code",
   "execution_count": 96,
   "metadata": {},
   "outputs": [
    {
     "output_type": "stream",
     "name": "stdout",
     "text": [
      "1\n1\n"
     ]
    }
   ],
   "source": [
    "# *******************************************TERNARY \"if\" condition yapısı *********************************\n",
    "# execute-body1 if condition else execute-body2 \n",
    "a = 1 if 2 < 4 else 0\n",
    "print(a)\n",
    "print(1 if 2 < 4 else 0)"
   ]
  },
  {
   "cell_type": "code",
   "execution_count": 100,
   "metadata": {},
   "outputs": [
    {
     "output_type": "execute_result",
     "data": {
      "text/plain": [
       "[4, 16, 36]"
      ]
     },
     "metadata": {},
     "execution_count": 100
    }
   ],
   "source": [
    "my_list = [1, 2, 3, 4, 5, 6]\n",
    "\n",
    "[i ** 2 for i in my_list if not i % 2]\n",
    "# i nin karesini al my_list içinde bulunan sayılardan, eğer i nin modulusu 1 ise"
   ]
  },
  {
   "cell_type": "code",
   "execution_count": 101,
   "metadata": {},
   "outputs": [
    {
     "output_type": "execute_result",
     "data": {
      "text/plain": [
       "12"
      ]
     },
     "metadata": {},
     "execution_count": 101
    }
   ],
   "source": [
    "my_list=[1,2,3,4,5,6]\n",
    "sum([i for i in my_list if not i % 2])"
   ]
  },
  {
   "cell_type": "code",
   "execution_count": 108,
   "metadata": {},
   "outputs": [
    {
     "output_type": "stream",
     "name": "stdout",
     "text": [
      "[4, 16, 36]\n"
     ]
    }
   ],
   "source": [
    "aa = [i ** 2 for i in my_list if not i % 2]\n",
    "print(aa)"
   ]
  },
  {
   "cell_type": "code",
   "execution_count": 106,
   "metadata": {},
   "outputs": [
    {
     "output_type": "stream",
     "name": "stdout",
     "text": [
      "<generator object <genexpr> at 0x0000024228211EC8>\n"
     ]
    }
   ],
   "source": [
    "bb = (i ** 2 for i in my_list if not i % 2)\n",
    "print(bb)"
   ]
  },
  {
   "cell_type": "code",
   "execution_count": 107,
   "metadata": {},
   "outputs": [
    {
     "output_type": "stream",
     "name": "stdout",
     "text": [
      "4 16 36\n"
     ]
    }
   ],
   "source": [
    "print(*bb)"
   ]
  },
  {
   "cell_type": "code",
   "execution_count": 112,
   "metadata": {},
   "outputs": [
    {
     "output_type": "stream",
     "name": "stdout",
     "text": [
      "4\n"
     ]
    }
   ],
   "source": [
    "aa = (i ** 2 for i in my_list if not i % 2)\n",
    "print(next(aa))"
   ]
  },
  {
   "cell_type": "code",
   "execution_count": 113,
   "metadata": {},
   "outputs": [
    {
     "output_type": "stream",
     "name": "stdout",
     "text": [
      "16\n"
     ]
    }
   ],
   "source": [
    "print(next(aa))"
   ]
  },
  {
   "cell_type": "code",
   "execution_count": 114,
   "metadata": {},
   "outputs": [
    {
     "output_type": "stream",
     "name": "stdout",
     "text": [
      "36\n"
     ]
    }
   ],
   "source": [
    "print(next(aa))"
   ]
  }
 ]
}