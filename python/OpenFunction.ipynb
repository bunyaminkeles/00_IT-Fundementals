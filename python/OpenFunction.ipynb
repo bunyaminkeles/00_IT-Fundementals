{
 "cells": [
  {
   "cell_type": "code",
   "execution_count": 2,
   "metadata": {},
   "outputs": [
    {
     "output_type": "stream",
     "name": "stdout",
     "text": [
      "Orca is a kind of Dolphin.\nBlue Whale is the largest animal known on earth.\nSharks are the sister group to the Rays (batoids).\nThe Tuna Fish can weigh up to 260 kg.\nSquid and Octopus are in the same class.\n"
     ]
    }
   ],
   "source": [
    "sea = open(\"fishes.txt\", 'r')   \n",
    "print(sea.read())  # displays the entire text content\n",
    "sea.close()  # be sure to close the file\n"
   ]
  },
  {
   "cell_type": "code",
   "execution_count": 6,
   "metadata": {},
   "outputs": [
    {
     "output_type": "stream",
     "name": "stdout",
     "text": [
      "Orca is a kind of Dolphin.\nBlue W\n\nhale is the largest anima\n\nOrca is a kind of Dolphin.\nBlue W\n\n34\nh\n"
     ]
    }
   ],
   "source": [
    "sea = open(\"fishes.txt\", 'r')   \n",
    "\n",
    "print(sea.read(33))  # displays the first 33 chars of the text\n",
    "print()\n",
    "print(sea.read(25))  # displays the next 25 chars of the text\n",
    "print()\n",
    "sea.seek(0)  # changes the stream (cursor) position to zero\n",
    "print(sea.read(33))  # displays the first 33 chars again\n",
    "print()\n",
    "print(sea.tell())  # returns the current stream (cursor) position\n",
    "print(sea.read(1))\n",
    "\n",
    "sea.close()"
   ]
  },
  {
   "cell_type": "code",
   "execution_count": 28,
   "metadata": {},
   "outputs": [
    {
     "output_type": "stream",
     "name": "stdout",
     "text": [
      "I want to sing\nLike the birds sing,\n\nNot worrying\n50\n16\nLike the birds sing,\n\n\n"
     ]
    }
   ],
   "source": [
    "rumi = open(\"rumi.txt\", 'r', encoding=\"utf-8\")   \n",
    "\n",
    "print(rumi.read(35))\n",
    "print(rumi.read(13))\n",
    "\n",
    "print(rumi.tell())\n",
    "print(rumi.seek(16))\n",
    "print(rumi.read(21))\n",
    "print()\n",
    "rumi.close ()"
   ]
  },
  {
   "cell_type": "code",
   "execution_count": 46,
   "metadata": {},
   "outputs": [
    {
     "output_type": "stream",
     "name": "stdout",
     "text": [
      "I want to sing\nLike the birds sing,\nNot worrying about\nWho hears or\nWhat they think\n"
     ]
    }
   ],
   "source": [
    "rumi = open(\"rumi.txt\", 'r', encoding=\"utf-8\") \n",
    "print(rumi.read()) \n",
    "sea.close ()"
   ]
  },
  {
   "cell_type": "code",
   "execution_count": 61,
   "metadata": {},
   "outputs": [
    {
     "output_type": "stream",
     "name": "stdout",
     "text": [
      "I want to sing\n\nLike the birds sing,\n\nNot worrying about\n\nWho hears or\n\nWhat they think\n"
     ]
    }
   ],
   "source": [
    "rumi = open(\"rumi.txt\", 'r', encoding=\"utf-8\") \n",
    "print(rumi.readline())\n",
    "print(rumi.readline())\n",
    "print(rumi.readline(19))\n",
    "print(rumi.readline(13))\n",
    "print(rumi.readline(16))\n",
    "rumi.close ()"
   ]
  },
  {
   "cell_type": "code",
   "execution_count": 63,
   "metadata": {},
   "outputs": [
    {
     "output_type": "stream",
     "name": "stdout",
     "text": [
      "I want to sing\n\n['Like the birds sing,\\n', 'Not worrying about\\n', 'Who hears or\\n', 'What they think']\n"
     ]
    }
   ],
   "source": [
    "rumi = open(\"rumi.txt\", 'r', encoding=\"utf-8\")\n",
    "print(rumi.readline()) # readline satır yazdırır.. cursorun kaldığı yerden devam edilir.\n",
    "print(rumi.readlines()) # readlines list tipinde sonuç döndürür ve bütün satırları döndürür.\n",
    "rumi.close ()"
   ]
  },
  {
   "cell_type": "code",
   "execution_count": 67,
   "metadata": {},
   "outputs": [
    {
     "output_type": "stream",
     "name": "stdout",
     "text": [
      "I want to sing\n\nLike the birds sing,\n\nNot worrying about\n\nWho hears or\n\nWhat they think\n"
     ]
    }
   ],
   "source": [
    "f = open(\"rumi.txt\", 'r', encoding=\"utf-8\") \n",
    "for line in f.readlines() :\n",
    "    print(line)\n",
    "f.close ()"
   ]
  },
  {
   "cell_type": "code",
   "execution_count": 77,
   "metadata": {},
   "outputs": [
    {
     "output_type": "stream",
     "name": "stdout",
     "text": [
      "I want to sing\nLike the birds sing,\nNot worrying about\nWho hears or\nWhat they think\n"
     ]
    }
   ],
   "source": [
    "with open(\"rumi.txt\", \"r\", encoding=\"utf-8\") as f  :\n",
    "    print(f.read())"
   ]
  },
  {
   "cell_type": "code",
   "execution_count": 78,
   "metadata": {},
   "outputs": [
    {
     "output_type": "stream",
     "name": "stdout",
     "text": [
      "I want to sing\nLike the birds sing,\n\nNot worrying\n50\n16\nLike the birds sing,\n\n"
     ]
    }
   ],
   "source": [
    "with open(\"rumi.txt\", \"r\", encoding=\"utf-8\") as f  :\n",
    "    print(f.read(35))\n",
    "    print(f.read(13))\n",
    "    print(f.tell())\n",
    "    print(f.seek(16))\n",
    "    print(f.read(21))"
   ]
  },
  {
   "cell_type": "code",
   "execution_count": null,
   "metadata": {},
   "outputs": [],
   "source": []
  }
 ],
 "metadata": {
  "kernelspec": {
   "name": "python394jvsc74a57bd06fae30b75c6de6020889af9669f15d4840c9cab22f6dd170537e846061df4561",
   "display_name": "Python 3.9.4 64-bit"
  },
  "language_info": {
   "codemirror_mode": {
    "name": "ipython",
    "version": 3
   },
   "file_extension": ".py",
   "mimetype": "text/x-python",
   "name": "python",
   "nbconvert_exporter": "python",
   "pygments_lexer": "ipython3",
   "version": "3.9.4"
  },
  "metadata": {
   "interpreter": {
    "hash": "6fae30b75c6de6020889af9669f15d4840c9cab22f6dd170537e846061df4561"
   }
  }
 },
 "nbformat": 4,
 "nbformat_minor": 4
}