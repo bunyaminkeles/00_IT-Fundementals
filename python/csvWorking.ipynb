{
 "metadata": {
  "language_info": {
   "codemirror_mode": {
    "name": "ipython",
    "version": 3
   },
   "file_extension": ".py",
   "mimetype": "text/x-python",
   "name": "python",
   "nbconvert_exporter": "python",
   "pygments_lexer": "ipython3",
   "version": "3.9.4"
  },
  "orig_nbformat": 2,
  "kernelspec": {
   "name": "python394jvsc74a57bd06fae30b75c6de6020889af9669f15d4840c9cab22f6dd170537e846061df4561",
   "display_name": "Python 3.9.4 64-bit"
  },
  "metadata": {
   "interpreter": {
    "hash": "6fae30b75c6de6020889af9669f15d4840c9cab22f6dd170537e846061df4561"
   }
  }
 },
 "nbformat": 4,
 "nbformat_minor": 2,
 "cells": [
  {
   "cell_type": "code",
   "execution_count": 4,
   "metadata": {},
   "outputs": [
    {
     "output_type": "stream",
     "name": "stdout",
     "text": [
      "no,fruit,amount\n1,Banana,4 lb\n2,Orange,5 lb\n3,Apple,2 lb\n4,Strawberry,6 lb\n5,Cherry,3 lb\n"
     ]
    }
   ],
   "source": [
    "fruits = ['Banana\\n', 'Orange\\n', 'Apple\\n', 'Strawberry\\n', 'Cherry\\n']\n",
    "with open(\"fruits.csv\", \"r\", encoding = \"utf-8\") as file :\n",
    "    print(file.read())"
   ]
  },
  {
   "cell_type": "code",
   "execution_count": 4,
   "metadata": {},
   "outputs": [],
   "source": [
    "import csv"
   ]
  },
  {
   "cell_type": "code",
   "execution_count": 8,
   "metadata": {},
   "outputs": [
    {
     "output_type": "stream",
     "name": "stdout",
     "text": [
      "['no', 'fruit', 'amount']\n['1', 'Banana', '4 lb']\n['2', 'Orange', '5 lb']\n['3', 'Apple', '2 lb']\n['4', 'Strawberry', '6 lb']\n['5', 'Cherry', '3 lb']\n"
     ]
    }
   ],
   "source": [
    "with open(\"fruits.csv\", 'r', newline = '', encoding = 'utf-8') as file:\n",
    "    csv_rows = csv.reader(file, delimiter= \",\")  # gives the same output as the previous one\n",
    "                                 \n",
    "    for row in csv_rows: \n",
    "        print(row)"
   ]
  },
  {
   "cell_type": "code",
   "execution_count": 10,
   "metadata": {},
   "outputs": [
    {
     "output_type": "stream",
     "name": "stdout",
     "text": [
      "['no,fruit,amount']\n['1,Banana,4 lb']\n['2,Orange,5 lb']\n['3,Apple,2 lb']\n['4,Strawberry,6 lb']\n['5,Cherry,3 lb']\n"
     ]
    }
   ],
   "source": [
    "with open(\"fruits.csv\", 'r', newline = '', encoding = 'utf-8') as file:\n",
    "    csv_rows = csv.reader(file, delimiter = ':')  # we specified a char \":\" that is not used\n",
    "                                                  # in the csv file as a value of delimiter\n",
    "    for row in csv_rows: \n",
    "        print(row)  "
   ]
  },
  {
   "cell_type": "code",
   "execution_count": 2,
   "metadata": {},
   "outputs": [
    {
     "output_type": "stream",
     "name": "stdout",
     "text": [
      "people.csv\n"
     ]
    }
   ],
   "source": [
    "echo people.csv"
   ]
  },
  {
   "cell_type": "code",
   "execution_count": 22,
   "metadata": {},
   "outputs": [],
   "source": [
    "import pandas"
   ]
  },
  {
   "cell_type": "code",
   "execution_count": 11,
   "metadata": {},
   "outputs": [
    {
     "output_type": "stream",
     "name": "stdout",
     "text": [
      "Collecting pandas\n",
      "  Using cached pandas-1.2.4-cp39-cp39-win_amd64.whl (9.3 MB)\n",
      "Collecting numpy>=1.16.5\n",
      "  Using cached numpy-1.20.3-cp39-cp39-win_amd64.whl (13.7 MB)\n",
      "Requirement already satisfied: python-dateutil>=2.7.3 in c:\\users\\bunya\\appdata\\roaming\\python\\python39\\site-packages (from pandas) (2.8.1)\n",
      "Collecting pytz>=2017.3\n",
      "  Using cached pytz-2021.1-py2.py3-none-any.whl (510 kB)\n",
      "Requirement already satisfied: six>=1.5 in c:\\users\\bunya\\appdata\\roaming\\python\\python39\\site-packages (from python-dateutil>=2.7.3->pandas) (1.15.0)\n",
      "Installing collected packages: numpy, pytz, pandas\n",
      "Successfully installed numpy-1.20.3 pandas-1.2.4 pytz-2021.1\n",
      "Note: you may need to restart the kernel to use updated packages.\n",
      "  WARNING: The script f2py.exe is installed in 'C:\\Users\\bunya\\AppData\\Local\\Programs\\Python\\Python39\\Scripts' which is not on PATH.\n",
      "  Consider adding this directory to PATH or, if you prefer to suppress this warning, use --no-warn-script-location.\n",
      "WARNING: You are using pip version 20.2.3; however, version 21.1.1 is available.\n",
      "You should consider upgrading via the 'C:\\Users\\bunya\\AppData\\Local\\Programs\\Python\\Python39\\python.exe -m pip install --upgrade pip' command.\n"
     ]
    }
   ],
   "source": [
    "pip install pandas"
   ]
  },
  {
   "cell_type": "code",
   "execution_count": 23,
   "metadata": {},
   "outputs": [],
   "source": [
    "import pandas as pd"
   ]
  },
  {
   "cell_type": "code",
   "execution_count": 39,
   "metadata": {},
   "outputs": [],
   "source": [
    "vaccine = pd.read_csv(\"vaccination-metadata.csv\")"
   ]
  },
  {
   "cell_type": "code",
   "execution_count": 40,
   "metadata": {},
   "outputs": [
    {
     "output_type": "execute_result",
     "data": {
      "text/plain": [
       "    ISO3                 VACCINE_NAME                    PRODUCT_NAME  \\\n",
       "0    AUS            Novavax - Covavax                         Covavax   \n",
       "1    TJK        AstraZeneca - AZD1222                         AZD1222   \n",
       "2    BES          Moderna - mRNA-1273                       mRNA-1273   \n",
       "3    PSE         Gamaleya - Sputnik V                       Sputnik V   \n",
       "4    DJI   Beijing CNBG - Inactivated  Inactivated SARS-CoV-2 vaccine   \n",
       "..   ...                          ...                             ...   \n",
       "607  MUS             Bharat - Covaxin                         Covaxin   \n",
       "608  HUN       Janssen - Ad26.COV 2.5                    Ad26.COV 2.5   \n",
       "609  NZL       Janssen - Ad26.COV 2.5                    Ad26.COV 2.5   \n",
       "610  MNP  Pfizer BioNTech - Comirnaty                       Comirnaty   \n",
       "611  ISR          Moderna - mRNA-1273                       mRNA-1273   \n",
       "\n",
       "                                        COMPANY_NAME AUTHORIZATION_DATE  \\\n",
       "0                                            Novavax                NaN   \n",
       "1                                        AstraZeneca                NaN   \n",
       "2                                            Moderna                NaN   \n",
       "3                        Gamaleya Research Institute                NaN   \n",
       "4    Beijing Institute of Biological Products (CNBG)                NaN   \n",
       "..                                               ...                ...   \n",
       "607                                   Bharat Biotech         2021-03-18   \n",
       "608                          Janssen Pharmaceuticals                NaN   \n",
       "609                          Janssen Pharmaceuticals                NaN   \n",
       "610                                  Pfizer BioNTech         2020-12-11   \n",
       "611                                          Moderna                NaN   \n",
       "\n",
       "     START_DATE  END_DATE  COMMENT DATA_SOURCE  \n",
       "0           NaN       NaN      NaN   REPORTING  \n",
       "1    2021-04-14       NaN      NaN   REPORTING  \n",
       "2    2021-02-22       NaN      NaN   REPORTING  \n",
       "3           NaN       NaN      NaN   REPORTING  \n",
       "4           NaN       NaN      NaN   REPORTING  \n",
       "..          ...       ...      ...         ...  \n",
       "607         NaN       NaN      NaN   REPORTING  \n",
       "608  2021-04-14       NaN      NaN   REPORTING  \n",
       "609         NaN       NaN      NaN   REPORTING  \n",
       "610  2020-12-19       NaN      NaN   REPORTING  \n",
       "611  2021-03-03       NaN      NaN   REPORTING  \n",
       "\n",
       "[612 rows x 9 columns]"
      ],
      "text/html": "<div>\n<style scoped>\n    .dataframe tbody tr th:only-of-type {\n        vertical-align: middle;\n    }\n\n    .dataframe tbody tr th {\n        vertical-align: top;\n    }\n\n    .dataframe thead th {\n        text-align: right;\n    }\n</style>\n<table border=\"1\" class=\"dataframe\">\n  <thead>\n    <tr style=\"text-align: right;\">\n      <th></th>\n      <th>ISO3</th>\n      <th>VACCINE_NAME</th>\n      <th>PRODUCT_NAME</th>\n      <th>COMPANY_NAME</th>\n      <th>AUTHORIZATION_DATE</th>\n      <th>START_DATE</th>\n      <th>END_DATE</th>\n      <th>COMMENT</th>\n      <th>DATA_SOURCE</th>\n    </tr>\n  </thead>\n  <tbody>\n    <tr>\n      <th>0</th>\n      <td>AUS</td>\n      <td>Novavax - Covavax</td>\n      <td>Covavax</td>\n      <td>Novavax</td>\n      <td>NaN</td>\n      <td>NaN</td>\n      <td>NaN</td>\n      <td>NaN</td>\n      <td>REPORTING</td>\n    </tr>\n    <tr>\n      <th>1</th>\n      <td>TJK</td>\n      <td>AstraZeneca - AZD1222</td>\n      <td>AZD1222</td>\n      <td>AstraZeneca</td>\n      <td>NaN</td>\n      <td>2021-04-14</td>\n      <td>NaN</td>\n      <td>NaN</td>\n      <td>REPORTING</td>\n    </tr>\n    <tr>\n      <th>2</th>\n      <td>BES</td>\n      <td>Moderna - mRNA-1273</td>\n      <td>mRNA-1273</td>\n      <td>Moderna</td>\n      <td>NaN</td>\n      <td>2021-02-22</td>\n      <td>NaN</td>\n      <td>NaN</td>\n      <td>REPORTING</td>\n    </tr>\n    <tr>\n      <th>3</th>\n      <td>PSE</td>\n      <td>Gamaleya - Sputnik V</td>\n      <td>Sputnik V</td>\n      <td>Gamaleya Research Institute</td>\n      <td>NaN</td>\n      <td>NaN</td>\n      <td>NaN</td>\n      <td>NaN</td>\n      <td>REPORTING</td>\n    </tr>\n    <tr>\n      <th>4</th>\n      <td>DJI</td>\n      <td>Beijing CNBG - Inactivated</td>\n      <td>Inactivated SARS-CoV-2 vaccine</td>\n      <td>Beijing Institute of Biological Products (CNBG)</td>\n      <td>NaN</td>\n      <td>NaN</td>\n      <td>NaN</td>\n      <td>NaN</td>\n      <td>REPORTING</td>\n    </tr>\n    <tr>\n      <th>...</th>\n      <td>...</td>\n      <td>...</td>\n      <td>...</td>\n      <td>...</td>\n      <td>...</td>\n      <td>...</td>\n      <td>...</td>\n      <td>...</td>\n      <td>...</td>\n    </tr>\n    <tr>\n      <th>607</th>\n      <td>MUS</td>\n      <td>Bharat - Covaxin</td>\n      <td>Covaxin</td>\n      <td>Bharat Biotech</td>\n      <td>2021-03-18</td>\n      <td>NaN</td>\n      <td>NaN</td>\n      <td>NaN</td>\n      <td>REPORTING</td>\n    </tr>\n    <tr>\n      <th>608</th>\n      <td>HUN</td>\n      <td>Janssen - Ad26.COV 2.5</td>\n      <td>Ad26.COV 2.5</td>\n      <td>Janssen Pharmaceuticals</td>\n      <td>NaN</td>\n      <td>2021-04-14</td>\n      <td>NaN</td>\n      <td>NaN</td>\n      <td>REPORTING</td>\n    </tr>\n    <tr>\n      <th>609</th>\n      <td>NZL</td>\n      <td>Janssen - Ad26.COV 2.5</td>\n      <td>Ad26.COV 2.5</td>\n      <td>Janssen Pharmaceuticals</td>\n      <td>NaN</td>\n      <td>NaN</td>\n      <td>NaN</td>\n      <td>NaN</td>\n      <td>REPORTING</td>\n    </tr>\n    <tr>\n      <th>610</th>\n      <td>MNP</td>\n      <td>Pfizer BioNTech - Comirnaty</td>\n      <td>Comirnaty</td>\n      <td>Pfizer BioNTech</td>\n      <td>2020-12-11</td>\n      <td>2020-12-19</td>\n      <td>NaN</td>\n      <td>NaN</td>\n      <td>REPORTING</td>\n    </tr>\n    <tr>\n      <th>611</th>\n      <td>ISR</td>\n      <td>Moderna - mRNA-1273</td>\n      <td>mRNA-1273</td>\n      <td>Moderna</td>\n      <td>NaN</td>\n      <td>2021-03-03</td>\n      <td>NaN</td>\n      <td>NaN</td>\n      <td>REPORTING</td>\n    </tr>\n  </tbody>\n</table>\n<p>612 rows × 9 columns</p>\n</div>"
     },
     "metadata": {},
     "execution_count": 40
    }
   ],
   "source": [
    " \n",
    "vaccine"
   ]
  },
  {
   "cell_type": "code",
   "execution_count": 30,
   "metadata": {},
   "outputs": [],
   "source": [
    "bayanlar = titanic[titanic[\"Sex\"] == \"Female\"]"
   ]
  },
  {
   "cell_type": "code",
   "execution_count": 31,
   "metadata": {},
   "outputs": [],
   "source": [
    "bayanlar.to_csv(\"titanic_sex.csv\")"
   ]
  },
  {
   "cell_type": "code",
   "execution_count": 43,
   "metadata": {},
   "outputs": [
    {
     "output_type": "execute_result",
     "data": {
      "text/plain": [
       "[0, -10]"
      ]
     },
     "metadata": {},
     "execution_count": 43
    }
   ],
   "source": [
    "L = [\"right 20\", \"right 30\", \"left 50\", \"up 10\", \"down 20\"]\n",
    "\n",
    "x = y = 0\n",
    "for i in range (len(L)) :\n",
    "    if L[i].startswith(\"r\") : x = x + int(L[i].split(\" \")[1])\n",
    "    elif L[i].startswith(\"l\") : x = x - int(L[i].split(\" \")[1])\n",
    "    elif L[i].startswith(\"u\") : y = y + int(L[i].split(\" \")[1])\n",
    "    elif L[i].startswith(\"d\") : y = y - int(L[i].split(\" \")[1])\n",
    "\n",
    "[x, y]\n"
   ]
  },
  {
   "cell_type": "code",
   "execution_count": 41,
   "metadata": {},
   "outputs": [
    {
     "output_type": "execute_result",
     "data": {
      "text/plain": [
       "'20'"
      ]
     },
     "metadata": {},
     "execution_count": 41
    }
   ],
   "source": [
    "\"right 20\".split()[1]"
   ]
  },
  {
   "cell_type": "code",
   "execution_count": 47,
   "metadata": {},
   "outputs": [
    {
     "output_type": "stream",
     "name": "stdout",
     "text": [
      "True\n"
     ]
    }
   ],
   "source": [
    "print(\"ahttps://www.google.com\".startswith(\"ahttps://\"))"
   ]
  },
  {
   "cell_type": "code",
   "execution_count": 48,
   "metadata": {},
   "outputs": [
    {
     "output_type": "stream",
     "name": "stdout",
     "text": [
      "False\n"
     ]
    }
   ],
   "source": [
    "print(\"ahttps://www.google.com\".startswith(\"ahttp://\"))"
   ]
  },
  {
   "cell_type": "code",
   "execution_count": 49,
   "metadata": {},
   "outputs": [
    {
     "output_type": "error",
     "ename": "TypeError",
     "evalue": "slice indices must be integers or None or have an __index__ method",
     "traceback": [
      "\u001b[1;31m---------------------------------------------------------------------------\u001b[0m",
      "\u001b[1;31mTypeError\u001b[0m                                 Traceback (most recent call last)",
      "\u001b[1;32m<ipython-input-49-cb0c0d491072>\u001b[0m in \u001b[0;36m<module>\u001b[1;34m\u001b[0m\n\u001b[1;32m----> 1\u001b[1;33m \u001b[0mprint\u001b[0m\u001b[1;33m(\u001b[0m\u001b[1;34m\"ahttps://www.google.com.uk\"\u001b[0m\u001b[1;33m.\u001b[0m\u001b[0mendswith\u001b[0m\u001b[1;33m(\u001b[0m\u001b[1;34m\".com\"\u001b[0m\u001b[1;33m,\u001b[0m \u001b[1;34m\"co.uk\"\u001b[0m\u001b[1;33m)\u001b[0m\u001b[1;33m)\u001b[0m\u001b[1;33m\u001b[0m\u001b[1;33m\u001b[0m\u001b[0m\n\u001b[0m",
      "\u001b[1;31mTypeError\u001b[0m: slice indices must be integers or None or have an __index__ method"
     ]
    }
   ],
   "source": [
    "print(\"ahttps://www.google.com.uk\".endswith(\".com\", \"co.uk\"))"
   ]
  },
  {
   "cell_type": "code",
   "execution_count": 50,
   "metadata": {},
   "outputs": [],
   "source": [
    "ops = {\"+\" : (lambda x, y : x+y), \"-\" : (lambda x, y : x-y), \"/\": (lambda x, y : x/y)} "
   ]
  },
  {
   "cell_type": "code",
   "execution_count": 54,
   "metadata": {},
   "outputs": [
    {
     "output_type": "execute_result",
     "data": {
      "text/plain": [
       "8"
      ]
     },
     "metadata": {},
     "execution_count": 54
    }
   ],
   "source": [
    "ops[\"+\"](3,5)"
   ]
  },
  {
   "cell_type": "code",
   "execution_count": 55,
   "metadata": {},
   "outputs": [
    {
     "output_type": "execute_result",
     "data": {
      "text/plain": [
       "-2"
      ]
     },
     "metadata": {},
     "execution_count": 55
    }
   ],
   "source": [
    "ops[\"-\"](3,5)"
   ]
  },
  {
   "cell_type": "code",
   "execution_count": 56,
   "metadata": {},
   "outputs": [
    {
     "output_type": "execute_result",
     "data": {
      "text/plain": [
       "11"
      ]
     },
     "metadata": {},
     "execution_count": 56
    }
   ],
   "source": [
    "dic_ = {\"bir\" : 11, \"iki\" : 22}\n",
    "dic_[\"bir\"]"
   ]
  },
  {
   "cell_type": "code",
   "execution_count": 6,
   "metadata": {},
   "outputs": [
    {
     "output_type": "stream",
     "name": "stdout",
     "text": [
      "[5, 15, 25, 50]\n"
     ]
    }
   ],
   "source": [
    "list1 = [5, 20, 15, 20, 25, 50, 20]\n",
    "while 20 in list1: \n",
    "    list1.remove(20)\n",
    "print(list1)"
   ]
  },
  {
   "cell_type": "code",
   "execution_count": 61,
   "metadata": {},
   "outputs": [
    {
     "output_type": "execute_result",
     "data": {
      "text/plain": [
       "[5, 15, 25, 50]"
      ]
     },
     "metadata": {},
     "execution_count": 61
    }
   ],
   "source": [
    "list1 = [5, 20, 15, 20, 25, 50, 20]\n",
    "xx =[*filter(lambda x : x != 20, list1)]\n",
    "xx"
   ]
  },
  {
   "cell_type": "code",
   "execution_count": 50,
   "metadata": {},
   "outputs": [
    {
     "output_type": "stream",
     "name": "stdout",
     "text": [
      "[5, 15, 25, 50]\n"
     ]
    }
   ],
   "source": [
    "list1 = [5, 20, 15, 20, 25, 50, 20]\n",
    "twen = []\n",
    "for i in list1 :\n",
    "    if i != 20:\n",
    "        twen.append(i)\n",
    "print(twen)\n"
   ]
  },
  {
   "cell_type": "code",
   "execution_count": null,
   "metadata": {},
   "outputs": [],
   "source": [
    "unique_in_order('AAAABBBCCDAABBB') == ['A', 'B', 'C', 'D', 'A', 'B']\n",
    "unique_in_order('ABBCcAD')         == ['A', 'B', 'C', 'c', 'A', 'D']\n",
    "unique_in_order([1,2,2,3,3])       == [1,2,3]\n"
   ]
  },
  {
   "cell_type": "code",
   "execution_count": 8,
   "metadata": {},
   "outputs": [],
   "source": [
    "def unique_in_order(iterable):\n",
    "    liste = []\n",
    "    if len(iterable) == 0:\n",
    "        return liste\n",
    "    else:\n",
    "        liste = [iterable[0]]\n",
    "        for i in iterable:\n",
    "            if i == liste[-1]:\n",
    "                pass\n",
    "            else:\n",
    "                liste.append(i)\n",
    "    return liste"
   ]
  },
  {
   "cell_type": "code",
   "execution_count": 9,
   "metadata": {},
   "outputs": [],
   "source": [
    "def uniquein_order(iterable):\n",
    "    x=\"\"\n",
    "    liste=[]\n",
    "    for i in iterable:\n",
    "        if i != x:\n",
    "            liste.append(i)\n",
    "            x=i\n",
    "    return liste"
   ]
  },
  {
   "cell_type": "code",
   "execution_count": 62,
   "metadata": {},
   "outputs": [
    {
     "output_type": "stream",
     "name": "stdout",
     "text": [
      "['ai', 'ai']\n"
     ]
    }
   ],
   "source": [
    "import re\n",
    "txt = \"The rain in Spain\"\n",
    "x = re.findall(\"ai\", txt)\n",
    "print(x)"
   ]
  },
  {
   "cell_type": "code",
   "execution_count": 64,
   "metadata": {},
   "outputs": [
    {
     "output_type": "stream",
     "name": "stdout",
     "text": [
      "The first white-space character is located in position: 3\n"
     ]
    }
   ],
   "source": [
    "txt = \"The rain in Spain\"\n",
    "x = re.search(\"\\s\", txt)\n",
    "\n",
    "print(\"The first white-space character is located in position:\", x.start())"
   ]
  },
  {
   "cell_type": "code",
   "execution_count": 84,
   "metadata": {},
   "outputs": [
    {
     "output_type": "stream",
     "name": "stdout",
     "text": [
      "['Ruhumun', 'senden,', 'ilahi,', 'şudur', 'ancak', 'emeli:', 'Değmesin', 'mabedimin', 'göğsüne', 'namahrem', 'eli.', 'Bu', 'ezanlar-ki', 'şahadetleri', 'dinin', 'temeli,', 'Ebedi', 'yurdumun', 'üstünde', 'benim', 'inlemeli.']\n"
     ]
    }
   ],
   "source": [
    "text = \"\"\"Ruhumun senden, ilahi, şudur ancak emeli:\n",
    "Değmesin mabedimin göğsüne namahrem eli.\n",
    "Bu ezanlar-ki şahadetleri dinin temeli,\n",
    "Ebedi yurdumun üstünde benim inlemeli.\"\"\"\n",
    "x = re.split(\"\\s\", text)\n",
    "print(x)"
   ]
  },
  {
   "cell_type": "code",
   "execution_count": 89,
   "metadata": {},
   "outputs": [
    {
     "output_type": "stream",
     "name": "stdout",
     "text": [
      "['Ruhumun senden', 'ilahi', 'şudur ancak emeli:\\nDeğmesin mabedimin göğsüne namahrem eli.\\nBu ezanlar-ki şahadetleri dinin temeli,\\nEbedi yurdumun üstünde benim inlemeli.']"
     ]
    }
   ],
   "source": [
    "teks = text.split(\", \")\n",
    "print(teks, end=\"\")"
   ]
  },
  {
   "cell_type": "code",
   "execution_count": 103,
   "metadata": {},
   "outputs": [
    {
     "output_type": "stream",
     "name": "stdout",
     "text": [
      "[['I', 'want', 'to', 'sing'], ['Like', 'the', 'birds', 'sing,'], ['Not', 'worrying', 'about'], ['Who', 'hears', 'or'], ['What', 'they', 'think']]\n"
     ]
    }
   ],
   "source": [
    "f = open(\"rumi.txt\", \"r\", encoding =\"utf-8\")\n",
    "\n",
    "list_of_lists = [(line.strip()).split() for line in f]\n",
    "\n",
    "f.close()\n",
    "\n",
    "print(list_of_lists)"
   ]
  },
  {
   "cell_type": "code",
   "execution_count": 98,
   "metadata": {},
   "outputs": [
    {
     "output_type": "stream",
     "name": "stdout",
     "text": [
      "[['Korkma,', 'sönmez', 'bu', 'şafaklarda', 'yüzen', 'al', 'sancak;'], ['Sönmeden', 'yurdumun', 'üstünde', 'tüten', 'en', 'son', 'ocak.'], ['O', 'benim', 'milletimin', 'yıldızıdır,', 'parlayacak;'], ['O', 'benimdir,', 'o', 'benim', 'milletimindir', 'ancak.'], [], ['Çatma,', 'kurban', 'olayım,', 'çehreni', 'ey', 'nazlı', 'hilal!'], ['Kahraman', 'ırkıma', 'bir', 'gül!', 'Ne', 'bu', 'şiddet,', 'bu', 'celal?'], ['Sana', 'olmaz', 'dökülen', 'kanlarımız', 'sonra', 'helal...'], ['Hakkıdır,', \"hakk'a\", 'tapan,', 'milletimin', 'istiklal!'], [], ['Ben', 'ezelden', 'beridir', 'hür', 'yaşadım,', 'hür', 'yaşarım.'], ['Hangi', 'çılgın', 'bana', 'zincir', 'vuracakmış?', 'Şaşarım!'], ['Kükremiş', 'sel', 'gibiyim,', 'bendimi', 'çiğner,', 'aşarım.'], ['Yırtarım', 'dağları,', 'enginlere', 'sığmam,', 'taşarım.'], [], ['Garbın', 'afakını', 'sarmışsa', 'çelik', 'zırhlı', 'duvar,'], ['Benim', 'iman', 'dolu', 'göğsüm', 'gibi', 'serhaddim', 'var.'], ['Ulusun,', 'korkma!', 'Nasıl', 'böyle', 'bir', 'imanı', 'boğar,'], [\"'Medeniyet!'\", 'dediğin', 'tek', 'dişi', 'kalmış', 'canavar?'], [], ['Arkadaş!', 'Yurduma', 'alçakları', 'uğratma,', 'sakın.'], ['Siper', 'et', 'gövdeni,', 'dursun', 'bu', 'hayasızca', 'akın.'], ['Doğacaktır', 'sana', \"va'dettigi\", 'günler', \"hakk'ın...\"], ['Kim', 'bilir,', 'belki', 'yarın,', 'belki', 'yarından', 'da', 'yakın.'], [], ['Bastığın', 'yerleri', \"'toprak!'\", 'diyerek', 'geçme,', 'tanı:'], ['Düşün', 'altında', 'binlerce', 'kefensiz', 'yatanı.'], ['Sen', 'şehit', 'oğlusun,', 'incitme,', 'yazıktır,', 'atanı:'], ['Verme,', 'dünyaları', 'alsan', 'da,', 'bu', 'cennet', 'vatanı.'], [], ['Kim', 'bu', 'cennet', 'vatanın', 'uğruna', 'olmaz', 'ki', 'feda?'], ['Şuheda', 'fışkıracak', 'toprağı', 'sıksan,', 'şuheda!'], ['Canı,', 'cananı,', 'bütün', 'varımı', 'alsın', 'da', 'hüda,'], ['Etmesin', 'tek', 'vatanımdan', 'beni', 'dünyada', 'cüda.'], [], ['Ruhumun', 'senden,', 'ilahi,', 'şudur', 'ancak', 'emeli:'], ['Değmesin', 'mabedimin', 'göğsüne', 'namahrem', 'eli.'], ['Bu', 'ezanlar-ki', 'şahadetleri', 'dinin', 'temeli,'], ['Ebedi', 'yurdumun', 'üstünde', 'benim', 'inlemeli.']]\n"
     ]
    }
   ],
   "source": [
    "a_file = open(\"istiklal.txt\", \"r\", encoding = \"utf-8\" )\n",
    "\n",
    "list_of_lists = []\n",
    "for line in a_file:\n",
    "  stripped_line = line.strip()\n",
    "  line_list = stripped_line.split()\n",
    "  list_of_lists.append(line_list)\n",
    "\n",
    "a_file.close()\n",
    "\n",
    "print(list_of_lists)"
   ]
  },
  {
   "cell_type": "code",
   "execution_count": 97,
   "metadata": {},
   "outputs": [
    {
     "output_type": "stream",
     "name": "stdout",
     "text": [
      "[['Korkma,', 'sönmez', 'bu', 'şafaklarda', 'yüzen', 'al', 'sancak;'], ['Sönmeden', 'yurdumun', 'üstünde', 'tüten', 'en', 'son', 'ocak.'], ['O', 'benim', 'milletimin', 'yıldızıdır,', 'parlayacak;'], ['O', 'benimdir,', 'o', 'benim', 'milletimindir', 'ancak.'], [], ['Çatma,', 'kurban', 'olayım,', 'çehreni', 'ey', 'nazlı', 'hilal!'], ['Kahraman', 'ırkıma', 'bir', 'gül!', 'Ne', 'bu', 'şiddet,', 'bu', 'celal?'], ['Sana', 'olmaz', 'dökülen', 'kanlarımız', 'sonra', 'helal...'], ['Hakkıdır,', \"hakk'a\", 'tapan,', 'milletimin', 'istiklal!'], [], ['Ben', 'ezelden', 'beridir', 'hür', 'yaşadım,', 'hür', 'yaşarım.'], ['Hangi', 'çılgın', 'bana', 'zincir', 'vuracakmış?', 'Şaşarım!'], ['Kükremiş', 'sel', 'gibiyim,', 'bendimi', 'çiğner,', 'aşarım.'], ['Yırtarım', 'dağları,', 'enginlere', 'sığmam,', 'taşarım.'], [], ['Garbın', 'afakını', 'sarmışsa', 'çelik', 'zırhlı', 'duvar,'], ['Benim', 'iman', 'dolu', 'göğsüm', 'gibi', 'serhaddim', 'var.'], ['Ulusun,', 'korkma!', 'Nasıl', 'böyle', 'bir', 'imanı', 'boğar,'], [\"'Medeniyet!'\", 'dediğin', 'tek', 'dişi', 'kalmış', 'canavar?'], [], ['Arkadaş!', 'Yurduma', 'alçakları', 'uğratma,', 'sakın.'], ['Siper', 'et', 'gövdeni,', 'dursun', 'bu', 'hayasızca', 'akın.'], ['Doğacaktır', 'sana', \"va'dettigi\", 'günler', \"hakk'ın...\"], ['Kim', 'bilir,', 'belki', 'yarın,', 'belki', 'yarından', 'da', 'yakın.'], [], ['Bastığın', 'yerleri', \"'toprak!'\", 'diyerek', 'geçme,', 'tanı:'], ['Düşün', 'altında', 'binlerce', 'kefensiz', 'yatanı.'], ['Sen', 'şehit', 'oğlusun,', 'incitme,', 'yazıktır,', 'atanı:'], ['Verme,', 'dünyaları', 'alsan', 'da,', 'bu', 'cennet', 'vatanı.'], [], ['Kim', 'bu', 'cennet', 'vatanın', 'uğruna', 'olmaz', 'ki', 'feda?'], ['Şuheda', 'fışkıracak', 'toprağı', 'sıksan,', 'şuheda!'], ['Canı,', 'cananı,', 'bütün', 'varımı', 'alsın', 'da', 'hüda,'], ['Etmesin', 'tek', 'vatanımdan', 'beni', 'dünyada', 'cüda.'], [], ['Ruhumun', 'senden,', 'ilahi,', 'şudur', 'ancak', 'emeli:'], ['Değmesin', 'mabedimin', 'göğsüne', 'namahrem', 'eli.'], ['Bu', 'ezanlar-ki', 'şahadetleri', 'dinin', 'temeli,'], ['Ebedi', 'yurdumun', 'üstünde', 'benim', 'inlemeli.']]\n"
     ]
    }
   ],
   "source": [
    "a_file = open(\"istiklal.txt\", \"r\", encoding = \"utf-8\")\n",
    "\n",
    "list_of_lists = [(line.strip()).split() for line in a_file]\n",
    "\n",
    "a_file.close()\n",
    "\n",
    "print(list_of_lists)"
   ]
  },
  {
   "cell_type": "code",
   "execution_count": null,
   "metadata": {},
   "outputs": [],
   "source": []
  }
 ]
}