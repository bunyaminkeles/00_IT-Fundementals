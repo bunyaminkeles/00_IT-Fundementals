{
 "metadata": {
  "language_info": {
   "codemirror_mode": {
    "name": "ipython",
    "version": 3
   },
   "file_extension": ".py",
   "mimetype": "text/x-python",
   "name": "python",
   "nbconvert_exporter": "python",
   "pygments_lexer": "ipython3",
   "version": "3.9.4"
  },
  "orig_nbformat": 2,
  "kernelspec": {
   "name": "python394jvsc74a57bd06fae30b75c6de6020889af9669f15d4840c9cab22f6dd170537e846061df4561",
   "display_name": "Python 3.9.4 64-bit"
  },
  "metadata": {
   "interpreter": {
    "hash": "6fae30b75c6de6020889af9669f15d4840c9cab22f6dd170537e846061df4561"
   }
  }
 },
 "nbformat": 4,
 "nbformat_minor": 2,
 "cells": [
  {
   "cell_type": "code",
   "execution_count": null,
   "metadata": {},
   "outputs": [],
   "source": [
    "# mode olarak \"a\" veya \"w\" kullanılır\n",
    "with open(\"rumi.txt\", \"a\", encoding=\"utf-8\") as rumi :\n",
    "    "
   ]
  },
  {
   "cell_type": "code",
   "execution_count": 1,
   "metadata": {},
   "outputs": [],
   "source": [
    "with open(\"ilk_dosyam.txt\", \"w\", encoding=\"utf-8\") as dosyam :\n",
    "    dosyam.write(\"bu benim ilk satırım\")"
   ]
  },
  {
   "cell_type": "code",
   "execution_count": 3,
   "metadata": {},
   "outputs": [
    {
     "output_type": "stream",
     "name": "stdout",
     "text": [
      "bu benim ilk satırım\n"
     ]
    }
   ],
   "source": [
    "with open(\"ilk_dosyam.txt\", \"r\", encoding=\"utf-8\") as dosyam : # tek satır\n",
    "    print(dosyam.read())"
   ]
  },
  {
   "cell_type": "code",
   "execution_count": 6,
   "metadata": {},
   "outputs": [],
   "source": [
    "with open(\"ilk_dosyam.txt\", \"w\", encoding=\"utf-8\") as dosyam :\n",
    "    dosyam.write(\"bu benim ilk satırım.\\nAma aslında ikinci satırım.\\n\") # iki satır"
   ]
  },
  {
   "cell_type": "code",
   "execution_count": 5,
   "metadata": {},
   "outputs": [
    {
     "output_type": "stream",
     "name": "stdout",
     "text": [
      "bu benim ilk satırım. ama aslında ikinci satırım.\n\n"
     ]
    }
   ],
   "source": [
    "with open(\"ilk_dosyam.txt\", \"r\", encoding=\"utf-8\") as dosyam :\n",
    "    print(dosyam.read())"
   ]
  },
  {
   "cell_type": "code",
   "execution_count": 11,
   "metadata": {},
   "outputs": [],
   "source": [
    "with open(\"ilk_dosyam.txt\", \"w\", encoding=\"utf-8\") as dosyam :\n",
    "    dosyam.write(\"Bu benim ilk satırım. \\nAma aslında ikinci satırım.\\nBu da benim üçüncü satırım.\") # üç satır"
   ]
  },
  {
   "cell_type": "code",
   "execution_count": 12,
   "metadata": {},
   "outputs": [
    {
     "output_type": "stream",
     "name": "stdout",
     "text": [
      "Bu benim ilk satırım. \nAma aslında ikinci satırım.\nBu da benim üçüncü satırım.\n"
     ]
    }
   ],
   "source": [
    "with open(\"ilk_dosyam.txt\", \"r\", encoding=\"utf-8\") as dosyam :\n",
    "    print(dosyam.read())"
   ]
  },
  {
   "cell_type": "code",
   "execution_count": 10,
   "metadata": {},
   "outputs": [],
   "source": [
    "fruits =[\"Banana\", \"Orange\", \"Apple\", \"Strawberry\", \"Cherry\"]\n",
    "with open(\"fruits.txt\", \"w\", encoding=\"utf-8\") as myfile :\n",
    "    for meyve in fruits :\n",
    "        myfile.write(meyve + \"\\n\")"
   ]
  },
  {
   "cell_type": "code",
   "execution_count": 17,
   "metadata": {},
   "outputs": [
    {
     "output_type": "stream",
     "name": "stdout",
     "text": [
      "['Banana\\n', 'Orange\\n', 'Apple\\n', 'Strawberry\\n', 'Cherry\\n']\n"
     ]
    }
   ],
   "source": [
    "fruits =[\"Banana\", \"Orange\", \"Apple\", \"Strawberry\", \"Cherry\"]\n",
    "\n",
    "with open(\"fruits.txt\", 'r', encoding=\"utf-8\") as file:\n",
    "    print(file.readlines())"
   ]
  },
  {
   "cell_type": "code",
   "execution_count": 18,
   "metadata": {},
   "outputs": [],
   "source": [
    "with open(\"new_file.txt\", \"w\", encoding=\"utf-8\") as dosyam :\n",
    "    dosyam.write(\"Live to help others live.\")"
   ]
  },
  {
   "cell_type": "code",
   "execution_count": 19,
   "metadata": {},
   "outputs": [],
   "source": [
    "colors = ['red', 'green', 'yellow', 'white', 'black']\n",
    "with open(\"new_file.txt\", 'w', encoding=\"utf-8\") as file:\n",
    "    for i in colors:\n",
    "        file.write( i + \"\\n\")  # adds a newline character"
   ]
  },
  {
   "cell_type": "code",
   "execution_count": 23,
   "metadata": {},
   "outputs": [
    {
     "output_type": "stream",
     "name": "stdout",
     "text": [
      "Banana\nOrange\nApple\nStrawberry\nCherry\n\n"
     ]
    }
   ],
   "source": [
    "fruits = ['Banana\\n', 'Orange\\n', 'Apple\\n', 'Strawberry\\n', 'Cherry\\n']\n",
    "with open(\"fruits.txt\", \"w\", encoding = \"utf-8\") as file :\n",
    "    file.writelines(fruits)\n",
    "\n",
    "with open(\"fruits.txt\", \"r\", encoding = \"utf-8\") as file :\n",
    "    print(file.read())\n"
   ]
  },
  {
   "cell_type": "code",
   "execution_count": 27,
   "metadata": {},
   "outputs": [
    {
     "output_type": "stream",
     "name": "stdout",
     "text": [
      "Banana\nOrange\nApple\nStrawberry\nCherry\nMelon\n\n['Banana\\n', 'Orange\\n', 'Apple\\n', 'Strawberry\\n', 'Cherry\\n', 'Melon\\n']\n"
     ]
    }
   ],
   "source": [
    "with open(\"fruits.txt\", \"a\", encoding = \"utf-8\") as file :\n",
    "    file.write(\"Melon\\n\")\n",
    "\n",
    "with open(\"fruits.txt\", \"r\", encoding = \"utf-8\") as file :\n",
    "    print(file.read())\n",
    "\n",
    "with open(\"fruits.txt\", \"r\", encoding = \"utf-8\") as file :\n",
    "    print(file.readlines())"
   ]
  },
  {
   "cell_type": "code",
   "execution_count": 28,
   "metadata": {},
   "outputs": [],
   "source": [
    "with open(\"new_file.txt\", \"w\", encoding =\"utf-8\") as file :\n",
    "    file.write(\"Hello Richard. This is my file.\")"
   ]
  },
  {
   "cell_type": "code",
   "execution_count": 29,
   "metadata": {},
   "outputs": [
    {
     "output_type": "stream",
     "name": "stdout",
     "text": [
      "Hello Richard. This is my file.\n"
     ]
    }
   ],
   "source": [
    "with open(\"new_file.txt\", 'r', encoding=\"utf-8\") as file:\n",
    "    print(file.read())"
   ]
  },
  {
   "cell_type": "code",
   "execution_count": null,
   "metadata": {},
   "outputs": [],
   "source": []
  }
 ]
}