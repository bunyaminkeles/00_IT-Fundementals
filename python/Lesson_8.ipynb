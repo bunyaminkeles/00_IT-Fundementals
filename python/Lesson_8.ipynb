{
 "metadata": {
  "language_info": {
   "codemirror_mode": {
    "name": "ipython",
    "version": 3
   },
   "file_extension": ".py",
   "mimetype": "text/x-python",
   "name": "python",
   "nbconvert_exporter": "python",
   "pygments_lexer": "ipython3",
   "version": "3.7.8-final"
  },
  "orig_nbformat": 2,
  "kernelspec": {
   "name": "python3",
   "display_name": "Python 3.7.8 64-bit",
   "metadata": {
    "interpreter": {
     "hash": "57baa5815c940fdaff4d14510622de9616cae602444507ba5d0b6727c008cbd6"
    }
   }
  }
 },
 "nbformat": 4,
 "nbformat_minor": 2,
 "cells": [
  {
   "cell_type": "code",
   "execution_count": 5,
   "metadata": {},
   "outputs": [
    {
     "output_type": "stream",
     "name": "stdout",
     "text": [
      "True\nFalse\nFalse\n"
     ]
    }
   ],
   "source": [
    "##################################### CHANGING STRING#################\n",
    "keles = \"bunyamin keles\"\n",
    "print(keles.startswith(\"ya\",3))\n",
    "print(keles.endswith(\"kes\"))\n",
    "print(keles.startswith(\"ke\",3, 8))"
   ]
  },
  {
   "cell_type": "code",
   "execution_count": null,
   "metadata": {},
   "outputs": [],
   "source": [
    "####string.method(arguments)\n",
    "\n",
    "#str.replace(old, new[,count])#### eski değer ile yeni değeri değiştiriyor\n",
    "\n",
    "#str.swapcase() ### büyük harfleri küçüğe, küçük harfleri büyük yapıyor\n",
    "\n",
    "#str.capitalize() ## ilk karakteri büyük yapıyor\n",
    "\n",
    "#str.upper() ## bütün harfleri büyük yapar\n",
    "\n",
    "#str.lower() @bütün harfleri küçük yapar\n",
    "\n",
    "#str.title() ## stringin bütün kelimelerin ilk harflerini büyük yapar"
   ]
  },
  {
   "cell_type": "code",
   "execution_count": 11,
   "metadata": {},
   "outputs": [
    {
     "output_type": "stream",
     "name": "stdout",
     "text": [
      "I Live And Work In Virginia\nI l+ve and work +n V+rg+NIA\nI L+ve And Work In V+rg+n+a\n"
     ]
    }
   ],
   "source": [
    "#string.method1().method2().method3()..\n",
    "str = \"I live and work in VirgiNIA\"\n",
    "title_str = str.title()\n",
    "changed_str = str.replace(\"i\", \"+\")\n",
    "print(title_str)\n",
    "print(changed_str)\n",
    "print(title_str.replace(\"i\", \"+\")) # title ile değiştirdiği stringin içindeki \"i\" leri \"+\" yapar\n"
   ]
  },
  {
   "cell_type": "code",
   "execution_count": 18,
   "metadata": {},
   "outputs": [
    {
     "output_type": "stream",
     "name": "stdout",
     "text": [
      "The Better The Family, The Better The Society\nTHE BETTER THE FAMILY, THE BETTER THE SOCIETY\nTHE BETTER THE FAMILY, THE BETTER THE SOCIETY\n"
     ]
    }
   ],
   "source": [
    "text = \"the better the family, the better the society\"\n",
    "print(text.title())\n",
    "print(text.swapcase())\n",
    "print(text.upper())\n"
   ]
  },
  {
   "cell_type": "code",
   "execution_count": 21,
   "metadata": {},
   "outputs": [
    {
     "output_type": "stream",
     "name": "stdout",
     "text": [
      "The  Better  The  Family,  The  Better  The  Society  "
     ]
    }
   ],
   "source": [
    "txt = \"the better the family, the better the society\"\n",
    "txt1 = txt.split(\" \")\n",
    "for i in txt1:\n",
    "  print(i.strip().capitalize()+\" \", end=\" \")"
   ]
  },
  {
   "cell_type": "code",
   "execution_count": 27,
   "metadata": {},
   "outputs": [
    {
     "output_type": "stream",
     "name": "stdout",
     "text": [
      "THE BETTER THE FAMILY, THE BETTER THE SOCIETY\nThe better the family, the better the society\nThe Better The Family, The Better The Society\n"
     ]
    }
   ],
   "source": [
    "txt = \"the better the family, the better the society\"\n",
    "print(txt.swapcase())\n",
    "print(txt.capitalize())\n",
    "print(txt.upper().title())"
   ]
  },
  {
   "cell_type": "code",
   "execution_count": 34,
   "metadata": {},
   "outputs": [
    {
     "output_type": "stream",
     "name": "stdout",
     "text": [
      "Sodome and Gomore\n"
     ]
    }
   ],
   "source": [
    "text = \"S0d0me and G0m0re\"\n",
    "print(text.replace(\"0\", \"o\"))\n"
   ]
  },
  {
   "cell_type": "code",
   "execution_count": 38,
   "metadata": {},
   "outputs": [
    {
     "output_type": "stream",
     "name": "stdout",
     "text": [
      "    başta ve sonda boşluk var       \nbaşta ve sonda boşluk var\nbaşta ve sonda boşluk var       \n    başta ve sonda boşluk var\n"
     ]
    }
   ],
   "source": [
    "#####################editig a string############### STRING CLASSININI METHOTLARI\n",
    "#string.strip(), REMOVE ALL SPACES\n",
    "#string.rstrip(), REMOVES SPACES from the right side\n",
    "#string.lstrip(), REMOVES SPACES from the left side\n",
    "space_str = \"    başta ve sonda boşluk var       \"\n",
    "print(space_str)\n",
    "print(space_str.strip())\n",
    "print(space_str.lstrip())\n",
    "print(space_str.rstrip())"
   ]
  },
  {
   "cell_type": "code",
   "execution_count": 40,
   "metadata": {},
   "outputs": [
    {
     "output_type": "stream",
     "name": "stdout",
     "text": [
      "nteroperabilit\nteroperabilit\n"
     ]
    }
   ],
   "source": [
    "orn =  \"interoperability\"\n",
    "print(orn.strip(\"yi\")) #başa ve sona bakıp y veya i arar ve bulursa bunları siler\n",
    "print(orn.strip(\"yin\"))\n"
   ]
  },
  {
   "cell_type": "code",
   "execution_count": 61,
   "metadata": {},
   "outputs": [
    {
     "output_type": "stream",
     "name": "stdout",
     "text": [
      "roperability\ninteroperabili\n"
     ]
    }
   ],
   "source": [
    "orn1 =  \"interoperability\"\n",
    "print(orn1.lstrip(\"niyte\")) #sola bakıp y veya i arar ve bulursa bunları siler\n",
    "print(orn1.rstrip(\"iy\")) #sağa bakıp y veya i arar ve bulursa bunları siler\n"
   ]
  },
  {
   "cell_type": "code",
   "execution_count": 48,
   "metadata": {},
   "outputs": [
    {
     "output_type": "stream",
     "name": "stdout",
     "text": [
      "interoperability\n            interoperability\ninteroperability             \n"
     ]
    }
   ],
   "source": [
    "orn1 =  \"            interoperability             \"\n",
    "print(orn1.strip()) #baştan ve sondan boşluk bulursa bunları siler\n",
    "print(orn1.rstrip()) #sağa bakıp boşluk bulursa bunları siler\n",
    "print(orn1.lstrip()) #sola bakıp boşluk bulursa bunları siler\n"
   ]
  },
  {
   "cell_type": "code",
   "execution_count": 55,
   "metadata": {},
   "outputs": [
    {
     "output_type": "stream",
     "name": "stdout",
     "text": [
      "YOU CAN LEARN ALMOST EVERYTHING IN PRE-CLASS\nYOU CAN LEARN ALMOST EVERYTHING IN PRE-CLASS\nYOU CAN LEARN ALMOST EVERYTHING IN PRE-CLASS\n"
     ]
    }
   ],
   "source": [
    "text = \"tyou can learn almost everything in pre-classz\"\n",
    "print(text.lstrip(\"t\").rstrip(\"z\").upper())\n",
    "print(text.strip(\"tz\").upper())\n",
    "print(text.upper().strip(\"TZ\"))"
   ]
  },
  {
   "cell_type": "code",
   "execution_count": 59,
   "metadata": {},
   "outputs": [
    {
     "output_type": "stream",
     "name": "stdout",
     "text": [
      "IN GOD WE TRUST\nIN GOD WE TRUST\n"
     ]
    }
   ],
   "source": [
    "text = \"In God wee Trust\"\n",
    "print(text.replace(\"e\", \"\", 1).upper())\n",
    "print(text.replace(\"ee\", \"e\").upper())\n",
    "print(text.replace(\"ee\", \"e\").upper())"
   ]
  },
  {
   "cell_type": "code",
   "execution_count": null,
   "metadata": {},
   "outputs": [],
   "source": []
  }
 ]
}