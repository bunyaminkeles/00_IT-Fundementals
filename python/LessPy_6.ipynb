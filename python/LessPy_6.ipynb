{
 "metadata": {
  "language_info": {
   "codemirror_mode": {
    "name": "ipython",
    "version": 3
   },
   "file_extension": ".py",
   "mimetype": "text/x-python",
   "name": "python",
   "nbconvert_exporter": "python",
   "pygments_lexer": "ipython3",
   "version": "3.7.8-final"
  },
  "orig_nbformat": 2,
  "kernelspec": {
   "name": "python3",
   "display_name": "Python 3.7.8 64-bit",
   "metadata": {
    "interpreter": {
     "hash": "57baa5815c940fdaff4d14510622de9616cae602444507ba5d0b6727c008cbd6"
    }
   }
  }
 },
 "nbformat": 4,
 "nbformat_minor": 2,
 "cells": [
  {
   "cell_type": "code",
   "execution_count": 6,
   "metadata": {},
   "outputs": [
    {
     "output_type": "stream",
     "name": "stdout",
     "text": [
      "Phoenix\nP\nhoenix\nPhoeni\nhei\nPonx\nnix\nPhoe\n"
     ]
    }
   ],
   "source": [
    "# slice yapma, [start:stop:step]\n",
    "\n",
    "city =\"Phoenix\"\n",
    "\n",
    "print(city)\n",
    "print(city[0]) #indexleme\n",
    "print(city[1:]) #1 den sona kadar, son dahil\n",
    "print(city[:6]) # en baştan başla 6-1' e kadar git\n",
    "print(city[1::2]) # birden baştan başla en sona kadar birer atlayarak git\n",
    "print(city[::2]) # en baştan başla en sona kadar ikişer atlayarak git\n",
    "print(city[-3:])  # sondan başla -3 stringden başla ve sona kadar git\n",
    "print(city[:-3])  # sondan başla -3 stringden başla ve başa kadar git"
   ]
  },
  {
   "cell_type": "code",
   "execution_count": 11,
   "metadata": {},
   "outputs": [
    {
     "output_type": "stream",
     "name": "stdout",
     "text": [
      "Phoe\nnix\nhoe\nPhoenix\nxineohP\n"
     ]
    }
   ],
   "source": [
    "print(city[:-3])\n",
    "print(city[-3:])\n",
    "print(city[-6:-3]) # sondan -6.stringden başla, sondan -3-1 e kadar git\n",
    "print(city[::]) soldan sola\n",
    "print(city[::-1]) sağdan sağ"
   ]
  },
  {
   "cell_type": "code",
   "execution_count": 28,
   "metadata": {},
   "outputs": [
    {
     "output_type": "stream",
     "name": "stdout",
     "text": [
      "gna\ngna\n"
     ]
    }
   ],
   "source": [
    "Fruit =\"Orange\"\n",
    "print(Fruit[4:1:-1])\n",
    "print(Fruit[-2:-5:-1])"
   ]
  },
  {
   "cell_type": "code",
   "execution_count": 36,
   "metadata": {},
   "outputs": [
    {
     "output_type": "stream",
     "name": "stdout",
     "text": [
      "Ora\ne\negnarO\n"
     ]
    }
   ],
   "source": [
    "print(Fruit[:-3])\n",
    "print(Fruit[-1])\n",
    "print(Fruit[::-1])"
   ]
  },
  {
   "cell_type": "code",
   "execution_count": 35,
   "metadata": {},
   "outputs": [
    {
     "output_type": "stream",
     "name": "stdout",
     "text": [
      "\ngna\n\nnar\n"
     ]
    }
   ],
   "source": [
    "#stringin soldan sağa işlemesi için negatif step gerekir\n",
    "print(Fruit[4:1]) #negatif step olmadığı için \"\" çıkar\n",
    "print(Fruit[4:1:-1])\n",
    "print(Fruit[-3:-6]) #negatif step olmadığı için \"\" çıkar\n",
    "print(Fruit[-3:-6:-1])"
   ]
  },
  {
   "cell_type": "code",
   "execution_count": 39,
   "metadata": {},
   "outputs": [
    {
     "output_type": "execute_result",
     "data": {
      "text/plain": [
       "5"
      ]
     },
     "metadata": {},
     "execution_count": 39
    }
   ],
   "source": [
    "#len fonksiyonu... uzunluk ölçer\n",
    "vegat= \"Tomato\"\n",
    "len (\"vegat\")"
   ]
  },
  {
   "cell_type": "code",
   "execution_count": 41,
   "metadata": {},
   "outputs": [
    {
     "output_type": "stream",
     "name": "stdout",
     "text": [
      "uppercase\nuppercase\nuppercase\n"
     ]
    }
   ],
   "source": [
    "#string formatlama konusu#############\n",
    "# basic operators are  + = *\n",
    "strOne = \"upper\"\n",
    "strTwo = \"case\"\n",
    "combStr = strOne + strTwo\n",
    "print(strOne+strTwo)\n",
    "print(\"upper\"+\"case\")\n",
    "print(combStr)\n"
   ]
  },
  {
   "cell_type": "code",
   "execution_count": 46,
   "metadata": {},
   "outputs": [
    {
     "output_type": "stream",
     "name": "stdout",
     "text": [
      "upper\nupperupperupper\nupperupperupper\nu p p e r u p p e r u p p e r\n"
     ]
    }
   ],
   "source": [
    "strOne = \"upper\"\n",
    "strTwo = 3 * \"upper\" # string * işlemi ile yanyana tekrar edilebilir\n",
    "combStr = strOne * 3\n",
    "print(strOne)\n",
    "print(strTwo)\n",
    "print(combStr)\n",
    "print(* combStr) #stringden önce * gelirse , string elemanlarına ayrılır"
   ]
  },
  {
   "cell_type": "code",
   "execution_count": 55,
   "metadata": {},
   "outputs": [
    {
     "output_type": "stream",
     "name": "stdout",
     "text": [
      "I   a m   a n g r y . . .\n1 4 5 3\nc l a r u s w a y\n"
     ]
    }
   ],
   "source": [
    "#elemanlarına ayırma işlemi yapma\n",
    "str1 = \"I am angry...\"\n",
    "str2 = \"1453\"\n",
    "str3 = \"clarusway\"\n",
    "print (* str1)\n",
    "print (* str2)\n",
    "print (* str3)"
   ]
  },
  {
   "cell_type": "code",
   "execution_count": 61,
   "metadata": {},
   "outputs": [
    {
     "output_type": "stream",
     "name": "stdout",
     "text": [
      "13\n4\n9\n"
     ]
    }
   ],
   "source": [
    "print(len(str1))\n",
    "print(len(str2))\n",
    "print(len(str3))"
   ]
  },
  {
   "cell_type": "code",
   "execution_count": 64,
   "metadata": {},
   "outputs": [
    {
     "output_type": "stream",
     "name": "stdout",
     "text": [
      "uppercase\nuppercaseletter\nuppercaseletterend\n"
     ]
    }
   ],
   "source": [
    "#stringlerde += işlemleri\n",
    "str_one = \"upper\"\n",
    "str_one += \"case\"\n",
    "print(str_one)\n",
    "str_one += \"letter\"\n",
    "print(str_one)\n",
    "str_one += \"end\"\n",
    "print(str_one)"
   ]
  },
  {
   "cell_type": "code",
   "execution_count": 68,
   "metadata": {},
   "outputs": [
    {
     "output_type": "stream",
     "name": "stdout",
     "text": [
      "ahmet\n"
     ]
    }
   ],
   "source": [
    "x = \"a\"\n",
    "x += \"h\"\n",
    "x += \"m\"\n",
    "x += \"e\"\n",
    "x += \"t\"\n",
    "print(x)"
   ]
  },
  {
   "cell_type": "code",
   "execution_count": 71,
   "metadata": {},
   "outputs": [
    {
     "output_type": "stream",
     "name": "stdout",
     "text": [
      "ahmetahmetahmet\n"
     ]
    }
   ],
   "source": [
    "x =\"ahmet\"\n",
    "x *= 3\n",
    "print(x)"
   ]
  },
  {
   "cell_type": "code",
   "execution_count": 73,
   "metadata": {},
   "outputs": [
    {
     "output_type": "stream",
     "name": "stdout",
     "text": [
      "I bought apple and Tomato only 4 pounds\n"
     ]
    }
   ],
   "source": [
    "#f string kullanma\n",
    "#format fonksiyonu kullanma\n",
    "fruit =\"apple\"\n",
    "vegatable = \"Tomato\"\n",
    "pound = 4\n",
    "print(\"I bought {} and {} only {} pounds\".format(fruit, vegatable, pound))"
   ]
  },
  {
   "cell_type": "code",
   "execution_count": 77,
   "metadata": {},
   "outputs": [
    {
     "output_type": "stream",
     "name": "stdout",
     "text": [
      "apple and Tomato can be bought just 4 pounds\n"
     ]
    }
   ],
   "source": [
    "print(\"{0} and {1} can be bought just {2} pounds\".format(fruit, vegatable, pound))"
   ]
  },
  {
   "cell_type": "code",
   "execution_count": 76,
   "metadata": {},
   "outputs": [
    {
     "output_type": "stream",
     "name": "stdout",
     "text": [
      "Tomato and apple can be bought just 4 pounds\n"
     ]
    }
   ],
   "source": [
    "print(\"{1} and {0} can be bought just {2} pounds\".format(fruit, vegatable, pound))"
   ]
  },
  {
   "cell_type": "code",
   "execution_count": 79,
   "metadata": {},
   "outputs": [
    {
     "output_type": "stream",
     "name": "stdout",
     "text": [
      "you know that banana and cucumber can be consumed only 5 pound in a day\n"
     ]
    }
   ],
   "source": [
    "print(\"you know that {fruit} and {vegatable} can be consumed only {pound} pound in a day\".format(vegatable=\"cucumber\", fruit=\"banana\", pound=\"5\"))"
   ]
  },
  {
   "cell_type": "code",
   "execution_count": 93,
   "metadata": {},
   "outputs": [
    {
     "output_type": "stream",
     "name": "stdout",
     "text": [
      "just tell me what is the length of the apple\nthe length of the apple is_ 5 dir\n"
     ]
    }
   ],
   "source": [
    "print(\"just tell me what is the length of the {}\".format(fruit))\n",
    "print(\"the length of the {} is_\".\\\n",
    "    format(fruit), len(fruit),\"dir\")"
   ]
  },
  {
   "cell_type": "code",
   "execution_count": 97,
   "metadata": {},
   "outputs": [
    {
     "output_type": "stream",
     "name": "stdout",
     "text": [
      "you know that banana and cucumber can be consumed only 5 pound in a day\n"
     ]
    }
   ],
   "source": [
    "#positional argument must be before keyword argument, sadece banana olan positional olduğundan en başta gelmeli...\n",
    "\n",
    "print(\"you know that {} and {vegatable} can be consumed only {pound} pound in a day\".format(\"banana\", vegatable=\"cucumber\", pound=\"5\"))"
   ]
  },
  {
   "cell_type": "code",
   "execution_count": 8,
   "metadata": {},
   "outputs": [
    {
     "output_type": "stream",
     "name": "stdout",
     "text": [
      "1----2----3----4-----5\n"
     ]
    }
   ],
   "source": [
    "#keyword argumentler indeks numarasına göre çalışmaz..\n",
    "\n",
    "print(\"{b}----{c}----{}----{a}-----{}\".format(\"3\", \"5\", b=\"1\", c=\"2\", a=\"4\"))"
   ]
  },
  {
   "cell_type": "code",
   "execution_count": 11,
   "metadata": {},
   "outputs": [
    {
     "output_type": "stream",
     "name": "stdout",
     "text": [
      "I will find a job.\n"
     ]
    }
   ],
   "source": [
    "print(\"{3} {2} {4} {1} {0}\".format(\"job.\",\"a\",\"will\",\"I\",\"find\"))"
   ]
  },
  {
   "cell_type": "code",
   "execution_count": 10,
   "metadata": {},
   "outputs": [
    {
     "output_type": "stream",
     "name": "stdout",
     "text": [
      "job. a\n"
     ]
    }
   ],
   "source": [
    "print(\"{} {}\".format(\"job.\",\"a\"))"
   ]
  },
  {
   "cell_type": "code",
   "execution_count": 37,
   "metadata": {},
   "outputs": [
    {
     "output_type": "stream",
     "name": "stdout",
     "text": [
      "Python Data Types And Useful Operations\n"
     ]
    }
   ],
   "source": [
    "section_3_5 = \"python data types and useful operations\"\n",
    "print(str.title(section_3_5))"
   ]
  },
  {
   "cell_type": "code",
   "execution_count": 45,
   "metadata": {},
   "outputs": [
    {
     "output_type": "stream",
     "name": "stdout",
     "text": [
      "[]\n"
     ]
    }
   ],
   "source": [
    "print(False and 5 and {0} or [])"
   ]
  },
  {
   "cell_type": "code",
   "execution_count": 46,
   "metadata": {},
   "outputs": [
    {
     "output_type": "stream",
     "name": "stdout",
     "text": [
      "140140.0\n"
     ]
    }
   ],
   "source": [
    "print(float(\"140\" * int(input(\"Enter a number:\" ))))"
   ]
  },
  {
   "cell_type": "code",
   "execution_count": 47,
   "metadata": {},
   "outputs": [
    {
     "output_type": "stream",
     "name": "stdout",
     "text": [
      "51\n"
     ]
    }
   ],
   "source": [
    "print(int(\"5\" + \"1\"))"
   ]
  },
  {
   "cell_type": "code",
   "execution_count": 48,
   "metadata": {},
   "outputs": [
    {
     "output_type": "stream",
     "name": "stdout",
     "text": [
      "The less you sleep and eat, the better your life will be.\n"
     ]
    }
   ],
   "source": [
    "var1 = \"sleep\"\n",
    "var2 = \"eat\"\n",
    "var3 = \"better\"\n",
    "var4 = \"life\"\n",
    "\n",
    "sentence = f\"The less you {var1} and {var2}, the {var3} your {var4} will be.\"\n",
    "print(sentence)"
   ]
  },
  {
   "cell_type": "code",
   "execution_count": 57,
   "metadata": {},
   "outputs": [
    {
     "output_type": "stream",
     "name": "stdout",
     "text": [
      "I live in Sarajevo.\n"
     ]
    }
   ],
   "source": [
    "city = \"SARAJEVO\"\n",
    "text = f\"I live in {city.title()}.\"\n",
    "print(text)"
   ]
  },
  {
   "cell_type": "code",
   "execution_count": null,
   "metadata": {},
   "outputs": [],
   "source": []
  }
 ]
}