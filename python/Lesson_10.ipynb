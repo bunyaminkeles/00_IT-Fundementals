{
 "metadata": {
  "language_info": {
   "codemirror_mode": {
    "name": "ipython",
    "version": 3
   },
   "file_extension": ".py",
   "mimetype": "text/x-python",
   "name": "python",
   "nbconvert_exporter": "python",
   "pygments_lexer": "ipython3",
   "version": "3.7.8-final"
  },
  "orig_nbformat": 2,
  "kernelspec": {
   "name": "python378jvsc74a57bd057baa5815c940fdaff4d14510622de9616cae602444507ba5d0b6727c008cbd6",
   "display_name": "Python 3.7.8 64-bit"
  },
  "metadata": {
   "interpreter": {
    "hash": "57baa5815c940fdaff4d14510622de9616cae602444507ba5d0b6727c008cbd6"
   }
  }
 },
 "nbformat": 4,
 "nbformat_minor": 2,
 "cells": [
  {
   "cell_type": "code",
   "execution_count": 4,
   "metadata": {},
   "outputs": [
    {
     "output_type": "stream",
     "name": "stdout",
     "text": [
      "[1, 2, 3, 4, 5]\n"
     ]
    }
   ],
   "source": [
    "numb = [1,2,3,4]\n",
    "numb.insert(4,5)\n",
    "print(numb)"
   ]
  },
  {
   "cell_type": "code",
   "execution_count": 5,
   "metadata": {},
   "outputs": [
    {
     "output_type": "stream",
     "name": "stdout",
     "text": [
      "[1, 4, 9]\n"
     ]
    }
   ],
   "source": [
    "sayi = [1,4,7,9]\n",
    "sayi.remove(7)\n",
    "print(sayi)"
   ]
  },
  {
   "cell_type": "code",
   "execution_count": 10,
   "metadata": {},
   "outputs": [
    {
     "output_type": "stream",
     "name": "stdout",
     "text": [
      "[5, 9, 10, 41, 52, 54, 87]\n"
     ]
    }
   ],
   "source": [
    "sayi2 = [10,5,9,41,52,87,54]\n",
    "sayi2.sort()\n",
    "print(sayi2)"
   ]
  },
  {
   "cell_type": "code",
   "execution_count": 11,
   "metadata": {},
   "outputs": [
    {
     "output_type": "stream",
     "name": "stdout",
     "text": [
      "['four', 'nine', 'one']\n"
     ]
    }
   ],
   "source": [
    "list_1 = ['one', 'four', 'nine']\n",
    "list_1.sort()\n",
    "print(list_1)"
   ]
  },
  {
   "cell_type": "code",
   "execution_count": 14,
   "metadata": {},
   "outputs": [
    {
     "output_type": "stream",
     "name": "stdout",
     "text": [
      "$\n"
     ]
    }
   ],
   "source": [
    "print(chr(36))"
   ]
  },
  {
   "cell_type": "code",
   "execution_count": 15,
   "metadata": {},
   "outputs": [
    {
     "output_type": "stream",
     "name": "stdout",
     "text": [
      "[True, False]\n['@', '*-', 'False']\n[[3], [44], [-12]]\n[[-13, 75], [44, -40], [-1, 99]]\n"
     ]
    }
   ],
   "source": [
    "list_3 = [True, False]\n",
    "list_4 = [\"@\", \"*-\", \"False\"]\n",
    "list_5 = [[3],[44],[-12]]\n",
    "list_6 = [[-13, 75],[44, -40],[-1, 99]]\n",
    "print(list_3)\n",
    "print(list_4)\n",
    "print(list_5)\n",
    "print(list_6)"
   ]
  },
  {
   "cell_type": "code",
   "execution_count": 63,
   "metadata": {},
   "outputs": [
    {
     "output_type": "stream",
     "name": "stdout",
     "text": [
      "64\n42\n70\n['*-', '@', 'False']\n"
     ]
    },
    {
     "output_type": "error",
     "ename": "TypeError",
     "evalue": "sort() takes at most 2 arguments (3 given)",
     "traceback": [
      "\u001b[1;31m---------------------------------------------------------------------------\u001b[0m",
      "\u001b[1;31mTypeError\u001b[0m                                 Traceback (most recent call last)",
      "\u001b[1;32m<ipython-input-63-0dacd7c55871>\u001b[0m in \u001b[0;36m<module>\u001b[1;34m\u001b[0m\n\u001b[0;32m      5\u001b[0m \u001b[1;33m\u001b[0m\u001b[0m\n\u001b[0;32m      6\u001b[0m \u001b[0mprint\u001b[0m\u001b[1;33m(\u001b[0m\u001b[0mlist_4\u001b[0m\u001b[1;33m)\u001b[0m\u001b[1;33m\u001b[0m\u001b[1;33m\u001b[0m\u001b[0m\n\u001b[1;32m----> 7\u001b[1;33m \u001b[0mprint\u001b[0m\u001b[1;33m(\u001b[0m\u001b[0mlist_4\u001b[0m\u001b[1;33m.\u001b[0m\u001b[0msort\u001b[0m\u001b[1;33m(\u001b[0m\u001b[1;34m'@'\u001b[0m\u001b[1;33m,\u001b[0m \u001b[1;34m'*-'\u001b[0m\u001b[1;33m,\u001b[0m \u001b[1;34m'False'\u001b[0m\u001b[1;33m)\u001b[0m\u001b[1;33m)\u001b[0m\u001b[1;33m\u001b[0m\u001b[1;33m\u001b[0m\u001b[0m\n\u001b[0m",
      "\u001b[1;31mTypeError\u001b[0m: sort() takes at most 2 arguments (3 given)"
     ]
    }
   ],
   "source": [
    "#****************ord fonksiyonu **********************\n",
    "print(ord(\"@\"))\n",
    "print(ord(\"*\"))\n",
    "print(ord(\"F\"))\n",
    "\n",
    "print(list_4)\n",
    "print(list_4.sort('@', '*-', 'False'))\n"
   ]
  },
  {
   "cell_type": "code",
   "execution_count": 23,
   "metadata": {},
   "outputs": [
    {
     "output_type": "stream",
     "name": "stdout",
     "text": [
      "[[44, -40], [-1, 99], [-13, 75]]\n"
     ]
    }
   ],
   "source": [
    "list_6.sort(reverse = True) # *********tersten sıralama yapar*****************\n",
    "print(list_6)"
   ]
  },
  {
   "cell_type": "code",
   "execution_count": 26,
   "metadata": {},
   "outputs": [
    {
     "output_type": "stream",
     "name": "stdout",
     "text": [
      "a\n"
     ]
    }
   ],
   "source": [
    "#******************Accessing Lists ***********************\n",
    "#list_name[index no]\n",
    "word = [\"h\", \"a\", \"p\", \"p\", \"y\"]\n",
    "print(word[1])"
   ]
  },
  {
   "cell_type": "code",
   "execution_count": 27,
   "metadata": {},
   "outputs": [
    {
     "output_type": "stream",
     "name": "stdout",
     "text": [
      "blue\n"
     ]
    }
   ],
   "source": [
    "colors = [\"red\", \"purple\", \"blue\", \"yellow\", \"green\"]\n",
    "print(colors[2])"
   ]
  },
  {
   "cell_type": "code",
   "execution_count": 33,
   "metadata": {},
   "outputs": [
    {
     "output_type": "stream",
     "name": "stdout",
     "text": [
      "True\n"
     ]
    },
    {
     "output_type": "execute_result",
     "data": {
      "text/plain": [
       "bool"
      ]
     },
     "metadata": {},
     "execution_count": 33
    }
   ],
   "source": [
    "word2 = [\"h\", \"a\", 1, [\"p\", 5], True]\n",
    "print(word2[4])\n",
    "type(word2[4])"
   ]
  },
  {
   "cell_type": "code",
   "execution_count": 36,
   "metadata": {},
   "outputs": [
    {
     "output_type": "execute_result",
     "data": {
      "text/plain": [
       "list"
      ]
     },
     "metadata": {},
     "execution_count": 36
    }
   ],
   "source": [
    "variable = word2[3]\n",
    "type(variable)"
   ]
  },
  {
   "cell_type": "code",
   "execution_count": 37,
   "metadata": {},
   "outputs": [
    {
     "output_type": "stream",
     "name": "stdout",
     "text": [
      "[['ankara', 'istanbul', 'çorum', 'kırıkkale']]\n"
     ]
    }
   ],
   "source": [
    "city = [\"ankara\", \"istanbul\", \"çorum\", \"kırıkkale\"]\n",
    "city_list =[]\n",
    "city_list.append(city)\n",
    "print(city_list)"
   ]
  },
  {
   "cell_type": "code",
   "execution_count": 41,
   "metadata": {},
   "outputs": [
    {
     "output_type": "stream",
     "name": "stdout",
     "text": [
      "1\n['ankara', 'istanbul', 'çorum', 'kırıkkale']\n"
     ]
    }
   ],
   "source": [
    "city = [[\"ankara\", \"istanbul\", \"çorum\", \"kırıkkale\"]]\n",
    "print(len(city))\n",
    "print(city[0])"
   ]
  },
  {
   "cell_type": "code",
   "execution_count": 45,
   "metadata": {},
   "outputs": [
    {
     "output_type": "stream",
     "name": "stdout",
     "text": [
      "['ankara', 'istanbul', 'çorum', 'kırıkkale']\nistanbul\nb\n"
     ]
    }
   ],
   "source": [
    "print(city[0])\n",
    "print(city[0][1])\n",
    "print(city[0][1][5])"
   ]
  },
  {
   "cell_type": "code",
   "execution_count": 2,
   "metadata": {},
   "outputs": [
    {
     "output_type": "stream",
     "name": "stdout",
     "text": [
      "newlineend 3\n"
     ]
    }
   ],
   "source": [
    "#**********slicing a list*********\n",
    "print(\"new\" \"line\" \"end\", 3)"
   ]
  },
  {
   "cell_type": "code",
   "execution_count": 3,
   "metadata": {},
   "outputs": [
    {
     "output_type": "stream",
     "name": "stdout",
     "text": [
      "yawusralc\n"
     ]
    }
   ],
   "source": [
    "str1 = \"clarsuway\"\n",
    "print(str1[::-1])"
   ]
  },
  {
   "cell_type": "code",
   "execution_count": 4,
   "metadata": {},
   "outputs": [
    {
     "output_type": "stream",
     "name": "stdout",
     "text": [
      "\\nhello\n"
     ]
    }
   ],
   "source": [
    "print(r\"\\nhello\")"
   ]
  },
  {
   "cell_type": "code",
   "execution_count": null,
   "metadata": {},
   "outputs": [],
   "source": [
    "perişan = \"keles\""
   ]
  },
  {
   "cell_type": "code",
   "execution_count": 16,
   "metadata": {},
   "outputs": [
    {
     "output_type": "stream",
     "name": "stdout",
     "text": [
      "[10, 9, 8, 7, 6, 5, 4, 3, 2, 1]\n"
     ]
    }
   ],
   "source": [
    "my_list = list(range(1,11))\n",
    "print(my_list[::-1])"
   ]
  },
  {
   "cell_type": "code",
   "execution_count": 34,
   "metadata": {},
   "outputs": [
    {
     "output_type": "stream",
     "name": "stdout",
     "text": [
      "[1, 2, 3, 4, 5, 6, 7, 8, 9, 10]\n[10, 9, 8, 7, 6, 5, 4, 3, 2, 1]\n"
     ]
    }
   ],
   "source": [
    "my_list = list(range(1,11))\n",
    "print(my_list)\n",
    "my_list.sort(reverse = True)\n",
    "print(my_list)\n",
    "\n"
   ]
  },
  {
   "cell_type": "code",
   "execution_count": 97,
   "metadata": {},
   "outputs": [
    {
     "output_type": "stream",
     "name": "stdout",
     "text": [
      "['eggplant', 'spinach', 'leek']\n"
     ]
    }
   ],
   "source": [
    "grocer = [\"banana\", [\"orange\", [\"apple\", \"eggplant\", \"melon\", \"spinach\", \"cheese\", \"leek\" ], \"water\"], \"mandarin\"]\n",
    "print(grocer[1][1][1:6:2])"
   ]
  },
  {
   "cell_type": "code",
   "execution_count": 151,
   "metadata": {},
   "outputs": [
    {
     "output_type": "stream",
     "name": "stdout",
     "text": [
      "My two favorite flowers are tulip and rose, two favorite colors are blue and green.\n"
     ]
    }
   ],
   "source": [
    "#\"My two favorite flowers are tulip and rose, two favorite colors are blue and green.\"\n",
    "flowers = [[\"jasmine\", [\"lavender\", \"rose\"], \"tulip\"]]\n",
    "colors = [\"red\", (\"blue\", [\"yellow\", \"green\"]), \"pink\"]\n",
    "text = \"My two favorite flowers are {} and {}, two favorite colors are {} and {}.\"\\\n",
    "    .format(flowers[0][2],flowers[0][1][1], colors[1][0], colors[1][1][1])\n",
    "print(text)"
   ]
  },
  {
   "cell_type": "code",
   "execution_count": 171,
   "metadata": {},
   "outputs": [
    {
     "output_type": "stream",
     "name": "stdout",
     "text": [
      "I am 40 years old. \n\tI have two children. \n\t\tData Science is my IT domain.\n"
     ]
    }
   ],
   "source": [
    "#I am 40 years old.\n",
    "    #I have two children.\n",
    "        #Data Science is my IT domain.\n",
    "\n",
    "#sentence = \"I am 40 years old. I have two children. Data Science is my IT domain.\"\n",
    "escapes = [\"\\n\\t\", (\"\\t\", \"\\t\\t\"), [\"\\n\", \"\\n\\t\\t\"]]\n",
    "sentence = \"I am 40 years old. {}I have two children. {}{}Data Science is my IT domain.\" \\\n",
    "    .format(escapes[0], escapes[2][0], escapes[1][1]\n",
    "    )\n",
    "    print(sentence)"
   ]
  },
  {
   "cell_type": "code",
   "execution_count": null,
   "metadata": {},
   "outputs": [],
   "source": []
  }
 ]
}