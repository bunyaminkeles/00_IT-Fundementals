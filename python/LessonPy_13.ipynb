{
 "metadata": {
  "language_info": {
   "codemirror_mode": {
    "name": "ipython",
    "version": 3
   },
   "file_extension": ".py",
   "mimetype": "text/x-python",
   "name": "python",
   "nbconvert_exporter": "python",
   "pygments_lexer": "ipython3",
   "version": "3.7.8-final"
  },
  "orig_nbformat": 2,
  "kernelspec": {
   "name": "python378jvsc74a57bd057baa5815c940fdaff4d14510622de9616cae602444507ba5d0b6727c008cbd6",
   "display_name": "Python 3.7.8 64-bit"
  },
  "metadata": {
   "interpreter": {
    "hash": "57baa5815c940fdaff4d14510622de9616cae602444507ba5d0b6727c008cbd6"
   }
  }
 },
 "nbformat": 4,
 "nbformat_minor": 2,
 "cells": [
  {
   "cell_type": "code",
   "execution_count": 3,
   "metadata": {},
   "outputs": [
    {
     "output_type": "stream",
     "name": "stdout",
     "text": [
      "1\n2\n3\n4\n5\n6\nnow, number is bigger or equal to 6\n"
     ]
    }
   ],
   "source": [
    "# ***************** Loops*******\n",
    "number = 1\n",
    "\n",
    "while number <= 6:\n",
    "    print(number)\n",
    "    number += 1\n",
    "print('now, number is bigger or equal to 6')"
   ]
  },
  {
   "cell_type": "code",
   "execution_count": 4,
   "metadata": {},
   "outputs": [
    {
     "output_type": "stream",
     "name": "stdout",
     "text": [
      "square of 0 is : 0\nsquare of 1 is : 1\nsquare of 2 is : 4\nsquare of 3 is : 9\nsquare of 4 is : 16\n"
     ]
    }
   ],
   "source": [
    "my_list=[\"a\", \"b\", \"c\", \"d\", \"e\"]\n",
    "\n",
    "a = 0\n",
    "\n",
    "while a < len(my_list):\n",
    "    print('square of {} is : {}'.format(a, a**2))\n",
    "    a+=1"
   ]
  },
  {
   "cell_type": "code",
   "execution_count": 5,
   "metadata": {},
   "outputs": [
    {
     "output_type": "stream",
     "name": "stdout",
     "text": [
      "Let's play the guessing game!\n",
      "Little lower\n",
      "Little lower\n",
      "Little higher\n",
      "Little higher\n",
      "Little higher\n",
      "Little higher\n",
      "Little lower\n",
      "Are you a MINDREADER!!!\n"
     ]
    }
   ],
   "source": [
    "answer = 44\n",
    "\n",
    "question = 'What number am I thinking of?  '\n",
    "print (\"Let's play the guessing game!\")\n",
    "\n",
    "while True:\n",
    "    guess = int(input(question))\n",
    "\n",
    "    if guess < answer:\n",
    "        print('Little higher')\n",
    "    elif guess > answer:\n",
    "        print('Little lower')\n",
    "    else:  # guess == answer\n",
    "        print('Are you a MINDREADER!!!')\n",
    "        break"
   ]
  },
  {
   "cell_type": "code",
   "execution_count": 72,
   "metadata": {
    "tags": []
   },
   "outputs": [
    {
     "output_type": "stream",
     "name": "stdout",
     "text": [
      "['Rose', 'Orchid', 'Tulip']\n['Rose', 'Orchid', 'Tulip']\n['Rose', 'Orchid', 'Tulip']\n"
     ]
    }
   ],
   "source": [
    "flowers = ['Rose', 'Orchid', 'Tulip']\n",
    "count1 = len(flowers)\n",
    "#count2 = dukkan\n",
    "\n",
    "while count1 > 0 :\n",
    "    print(flowers[0:3])\n",
    "    count1 -= 1\n",
    "    #count2 += 1"
   ]
  },
  {
   "cell_type": "code",
   "execution_count": 16,
   "metadata": {},
   "outputs": [
    {
     "output_type": "stream",
     "name": "stdout",
     "text": [
      "1\n2\n3\n4\n5\nspring\nsummer\nautumn\nwinter\n"
     ]
    }
   ],
   "source": [
    "for i in [1, 2, 3, 4, 5] :\n",
    "    print(i)\n",
    "\n",
    "seasons = ['spring', 'summer', 'autumn', 'winter']\n",
    "\n",
    "for season in seasons :\n",
    "    print(season)"
   ]
  },
  {
   "cell_type": "code",
   "execution_count": 17,
   "metadata": {},
   "outputs": [
    {
     "output_type": "stream",
     "name": "stdout",
     "text": [
      "n1\nn2\n"
     ]
    }
   ],
   "source": [
    "for i in {'n1' : 'one', 'n2' : 'two'} : print(i)"
   ]
  },
  {
   "cell_type": "code",
   "execution_count": 27,
   "metadata": {},
   "outputs": [
    {
     "output_type": "stream",
     "name": "stdout",
     "text": [
      "1\n4\n9\n16\n"
     ]
    }
   ],
   "source": [
    "iterable = [1, 2, 3, 4]\n",
    "for i in iterable : print(i**2)"
   ]
  },
  {
   "cell_type": "code",
   "execution_count": 26,
   "metadata": {},
   "outputs": [
    {
     "output_type": "stream",
     "name": "stdout",
     "text": [
      "red apple\nred banana\nred cherry\nbig apple\nbig banana\nbig cherry\ntasty apple\ntasty banana\ntasty cherry\n"
     ]
    }
   ],
   "source": [
    "adj = [\"red\", \"big\", \"tasty\"]\n",
    "fruits = [\"apple\", \"banana\", \"cherry\"]\n",
    "\n",
    "for x in adj:\n",
    "  for y in fruits:\n",
    "    print(x, y)"
   ]
  },
  {
   "cell_type": "code",
   "execution_count": 34,
   "metadata": {},
   "outputs": [
    {
     "output_type": "stream",
     "name": "stdout",
     "text": [
      "c\nl\na\nr\nu\ns\nw\na\ny\n"
     ]
    }
   ],
   "source": [
    "course = 'clarusway'\n",
    "\n",
    "for i in course :\n",
    "    print(i)"
   ]
  },
  {
   "cell_type": "code",
   "execution_count": 35,
   "metadata": {},
   "outputs": [
    {
     "output_type": "stream",
     "name": "stdout",
     "text": [
      "I love you\nI love you\nI love you\n"
     ]
    }
   ],
   "source": [
    "times = int(input(\"How many times should I say 'I love you'\"))\n",
    "\n",
    "for i in range(times):\n",
    "    print('I love you')\n"
   ]
  },
  {
   "cell_type": "code",
   "execution_count": 37,
   "metadata": {},
   "outputs": [
    {
     "output_type": "stream",
     "name": "stdout",
     "text": [
      "5x0 =  0\n5x1 =  5\n5x2 =  10\n5x3 =  15\n5x4 =  20\n"
     ]
    }
   ],
   "source": [
    "# **********************************************çarpım tablosu\n",
    "n = int(input('enter a number between 1-10'))\n",
    "\n",
    "for i in range(11):\n",
    "    print('{}x{} = '.format(n, i), n*i)"
   ]
  },
  {
   "cell_type": "code",
   "execution_count": 40,
   "metadata": {},
   "outputs": [
    {
     "output_type": "stream",
     "name": "stdout",
     "text": [
      "[0, 1, 2, 3, 4, 5, 6, 7, 8, 9, 10]\n{0, 1, 2, 3, 4, 5, 6, 7, 8, 9}\n(0, 1, 2, 3, 4, 5, 6, 7, 8, 9, 10)\n"
     ]
    }
   ],
   "source": [
    "b = list(range(11))\n",
    "print(b)\n",
    "\n",
    "a = set(range(0,10))\n",
    "print(a)\n",
    "\n",
    "c = tuple(range(11))\n",
    "print(c)\n",
    "\n"
   ]
  },
  {
   "cell_type": "code",
   "execution_count": 51,
   "metadata": {},
   "outputs": [
    {
     "output_type": "stream",
     "name": "stdout",
     "text": [
      "range(0, 5)\n0 1 2 3 4\n5 7 9 11 13 15 17 19 21 23\nb u n y a m i n k e l e s\n"
     ]
    }
   ],
   "source": [
    "print(range(5))  # it will not print the numbers in sequence\n",
    "\n",
    "print(*range(5))  # '*' separates its elements\n",
    "\n",
    "print(*range(5,25,2)) #5 den 25 e kadar 2 şerli\n",
    "\n",
    "print(*('bunyaminkeles'))"
   ]
  },
  {
   "cell_type": "code",
   "execution_count": 52,
   "metadata": {},
   "outputs": [
    {
     "output_type": "stream",
     "name": "stdout",
     "text": [
      "10 8 6 4 2\n"
     ]
    }
   ],
   "source": [
    "print(*range(10,0,-2))"
   ]
  },
  {
   "cell_type": "code",
   "execution_count": 53,
   "metadata": {},
   "outputs": [
    {
     "output_type": "stream",
     "name": "stdout",
     "text": [
      "one : 1\ntwo : 2\nthree : 3\nfour : 4\nfive : 5\n"
     ]
    }
   ],
   "source": [
    "text = ['one','two','three','four','five']\n",
    "numbers = [1, 2, 3, 4, 5]\n",
    "for x, y in zip(text, numbers):\n",
    "    print(x, ':', y)"
   ]
  },
  {
   "cell_type": "code",
   "execution_count": 55,
   "metadata": {},
   "outputs": [
    {
     "output_type": "stream",
     "name": "stdout",
     "text": [
      "I am happy\nI am confident\nYou are happy\nYou are confident\n"
     ]
    }
   ],
   "source": [
    "who = ['I am ', 'You are ']\n",
    "mood = ['happy', 'confident']\n",
    "for i in who:\n",
    "    for ii in mood:\n",
    "        print(i + ii)"
   ]
  },
  {
   "cell_type": "code",
   "execution_count": 119,
   "metadata": {},
   "outputs": [
    {
     "output_type": "stream",
     "name": "stdout",
     "text": [
      "500\n",
      "You saved more than half, keep saving!\n",
      "Yippee! You can buy your PS4\n"
     ]
    }
   ],
   "source": [
    "ps4_price = int(500)\n",
    "saved_amount = int(input('Please enter your saved amount: '))\n",
    "if saved_amount <= ps4_price / 2:\n",
    "    print(\"You must save more, keep saving!\")\n",
    "elif saved_amount > ps4_price / 2:\n",
    "    print(\"You saved more than half, keep saving!\")\n",
    "if saved_amount > ps4_price:\n",
    "    print(\"Yippee! You can buy your PS4\")\n"
   ]
  },
  {
   "cell_type": "code",
   "execution_count": 128,
   "metadata": {},
   "outputs": [
    {
     "output_type": "stream",
     "name": "stdout",
     "text": [
      "your mark is Not Bad\n"
     ]
    }
   ],
   "source": [
    "math_mark = int(input('Please enter the mark: '))\n",
    "if math_mark >= 85:\n",
    "    print (\"your mark is excellent\")\n",
    "elif math_mark >=70 and math_mark <=84:\n",
    "    print (\"your mark is Good\")\n",
    "elif math_mark >= 60 and math_mark <=69:\n",
    "    print (\"your mark is Medium\")\n",
    "elif math_mark >= 45 and math_mark <=59:\n",
    "    print (\"your mark is Not Bad\")\n",
    "else:\n",
    "    print (\"your mark is Failed\")"
   ]
  },
  {
   "cell_type": "code",
   "execution_count": 5,
   "metadata": {},
   "outputs": [
    {
     "output_type": "stream",
     "name": "stdout",
     "text": [
      "its true\nits false\n"
     ]
    }
   ],
   "source": [
    "if True:\n",
    "    print(\"its true\")\n",
    "if False:\n",
    "    print(\"its true\")\n",
    "else:\n",
    "    print(\"its false\")"
   ]
  },
  {
   "cell_type": "code",
   "execution_count": 10,
   "metadata": {},
   "outputs": [
    {
     "output_type": "stream",
     "name": "stdout",
     "text": [
      "its true\nits false\nits false\n"
     ]
    }
   ],
   "source": [
    "if 1:\n",
    "    print(\"its true\")\n",
    "if None:\n",
    "    print(\"its true\")\n",
    "else:\n",
    "    print(\"its false\")\n",
    "if {}:\n",
    "    print(\"its true\")\n",
    "else:\n",
    "    print(\"its false\")"
   ]
  },
  {
   "cell_type": "code",
   "execution_count": 23,
   "metadata": {},
   "outputs": [
    {
     "output_type": "stream",
     "name": "stdout",
     "text": [
      "True\n"
     ]
    }
   ],
   "source": [
    "grocery_store_open = True\n",
    "minced_meat = True\n",
    "hamb_bread = True\n",
    "lettuce = True\n",
    "pepper = False\n",
    "haburger = (minced_meat and hamb_bread and grocery_store_open and lettuce or pepper)\n",
    "print(haburger)"
   ]
  },
  {
   "cell_type": "code",
   "execution_count": 24,
   "metadata": {},
   "outputs": [
    {
     "output_type": "stream",
     "name": "stdout",
     "text": [
      "Bon Appetit\n"
     ]
    }
   ],
   "source": [
    "if haburger:\n",
    "    print(\"Bon Appetit\")"
   ]
  },
  {
   "cell_type": "code",
   "execution_count": 31,
   "metadata": {},
   "outputs": [
    {
     "output_type": "stream",
     "name": "stdout",
     "text": [
      "True\nset()\n"
     ]
    }
   ],
   "source": [
    "aa = set(\"twelve plus one\")\n",
    "bb = set(\"eleven plus two\")\n",
    "print(a==b)\n",
    "print(aa-bb)\n"
   ]
  },
  {
   "cell_type": "code",
   "execution_count": 51,
   "metadata": {},
   "outputs": [
    {
     "output_type": "stream",
     "name": "stdout",
     "text": [
      "your answer is False\n"
     ]
    }
   ],
   "source": [
    "print(\"your answer is\", input(\"bir yanıt gir Yes/No\").title().strip() == \"Yes\")\n"
   ]
  },
  {
   "cell_type": "code",
   "execution_count": 54,
   "metadata": {},
   "outputs": [
    {
     "output_type": "stream",
     "name": "stdout",
     "text": [
      "I know you\n"
     ]
    }
   ],
   "source": [
    "# *****************if else structure**********\n",
    "youre = \"keles\"\n",
    "if youre == \"keles\":\n",
    "    print(\"I know you\")\n",
    "else:\n",
    "    print(\"who r u\")"
   ]
  },
  {
   "cell_type": "code",
   "execution_count": 58,
   "metadata": {},
   "outputs": [
    {
     "output_type": "stream",
     "name": "stdout",
     "text": [
      "6 is even\n"
     ]
    }
   ],
   "source": [
    "number = int(input(\"enter a number :\"))\n",
    "if number %2 == 0:\n",
    "    print(\"{} is even\".format(number))\n",
    "else:\n",
    "    print(\"{} is odd\".format(number))"
   ]
  },
  {
   "cell_type": "code",
   "execution_count": 60,
   "metadata": {},
   "outputs": [
    {
     "output_type": "stream",
     "name": "stdout",
     "text": [
      "your number is pozitif\n"
     ]
    }
   ],
   "source": [
    "number = float(input(\"enter a number :\"))\n",
    "if number < 0:\n",
    "    print(\"your answer is negative\")\n",
    "else:\n",
    "    print(\"your number is positive\")"
   ]
  },
  {
   "cell_type": "code",
   "execution_count": 65,
   "metadata": {},
   "outputs": [
    {
     "output_type": "stream",
     "name": "stdout",
     "text": [
      "65.0 is large number is\n"
     ]
    }
   ],
   "source": [
    "no1 = float(input(\"enter first number :\"))\n",
    "no2 = float(input(\"enter second number :\"))\n",
    "if no1 > no2:\n",
    "    print(\"{} is the large number\".format(no1))\n",
    "else:\n",
    "    print(\"{} is large number\".format(no2))\n"
   ]
  },
  {
   "cell_type": "code",
   "execution_count": 66,
   "metadata": {},
   "outputs": [
    {
     "output_type": "stream",
     "name": "stdout",
     "text": [
      "55.0\n"
     ]
    }
   ],
   "source": [
    "no1 = float(input(\"enter first number :\"))\n",
    "no2 = float(input(\"enter second number :\"))\n",
    "if no1 > no2:\n",
    "    larger = no1\n",
    "else:\n",
    "    larger = no2\n",
    "print(larger)"
   ]
  },
  {
   "cell_type": "code",
   "execution_count": 69,
   "metadata": {},
   "outputs": [
    {
     "output_type": "stream",
     "name": "stdout",
     "text": [
      "No\n"
     ]
    }
   ],
   "source": [
    "bool_value = True\n",
    "if bool_value:\n",
    "    print(\"Yes\")\n",
    "else:\n",
    "    print(\"No\")"
   ]
  },
  {
   "cell_type": "code",
   "execution_count": 87,
   "metadata": {},
   "outputs": [
    {
     "output_type": "stream",
     "name": "stdout",
     "text": [
      "9.0\n"
     ]
    }
   ],
   "source": [
    "no11 = float(input(\"enter first number :\"))\n",
    "no21 = float(input(\"enter second number :\"))\n",
    "no31 = float(input(\"enter first number :\"))\n",
    "if no11 > no21 and no11 > no31 : \n",
    "    big = no11\n",
    "    print(big)\n",
    "elif no21 > no11 and no21 > no31: \n",
    "    big = no21\n",
    "    print(big)\n",
    "else:\n",
    "    print(no31)"
   ]
  },
  {
   "cell_type": "code",
   "execution_count": null,
   "metadata": {},
   "outputs": [],
   "source": []
  }
 ]
}