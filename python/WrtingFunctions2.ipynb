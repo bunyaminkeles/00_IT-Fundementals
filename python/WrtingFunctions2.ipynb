{
 "metadata": {
  "language_info": {
   "codemirror_mode": {
    "name": "ipython",
    "version": 3
   },
   "file_extension": ".py",
   "mimetype": "text/x-python",
   "name": "python",
   "nbconvert_exporter": "python",
   "pygments_lexer": "ipython3",
   "version": "3.9.4"
  },
  "orig_nbformat": 2,
  "kernelspec": {
   "name": "python394jvsc74a57bd06fae30b75c6de6020889af9669f15d4840c9cab22f6dd170537e846061df4561",
   "display_name": "Python 3.9.4 64-bit"
  },
  "metadata": {
   "interpreter": {
    "hash": "6fae30b75c6de6020889af9669f15d4840c9cab22f6dd170537e846061df4561"
   }
  }
 },
 "nbformat": 4,
 "nbformat_minor": 2,
 "cells": [
  {
   "cell_type": "code",
   "execution_count": 6,
   "metadata": {},
   "outputs": [
    {
     "output_type": "stream",
     "name": "stdout",
     "text": [
      "Bu benim ilk satırım. \nAma aslında ikinci satırım.\nBu da benim üçüncü satırım.\n"
     ]
    }
   ],
   "source": [
    "with open(\"ilk_dosyam.txt\", \"r\", encoding= \"utf-8\") as frst:\n",
    "    print(frst.read())\n"
   ]
  },
  {
   "cell_type": "code",
   "execution_count": 12,
   "metadata": {},
   "outputs": [],
   "source": []
  },
  {
   "cell_type": "code",
   "execution_count": 14,
   "metadata": {},
   "outputs": [
    {
     "output_type": "stream",
     "name": "stdout",
     "text": [
      "['Banana\\n', '\\n', 'Orange\\n', '\\n', 'Apple\\n', '\\n', 'Strawberry\\n', '\\n', 'Cherry\\n', '\\n']\n"
     ]
    }
   ],
   "source": [
    "with open(\"fruits24.txt\", \"r\", encoding= \"utf-8\") as ff:\n",
    "    #print(ff.read())\n",
    "    print(ff.readlines())"
   ]
  },
  {
   "cell_type": "code",
   "execution_count": null,
   "metadata": {},
   "outputs": [],
   "source": [
    "with open(\"fruits24.txt\", \"r\", encoding= \"utf-8\") as ff:\n",
    "    #print(ff.read())\n",
    "    print(ff.readlines())"
   ]
  },
  {
   "cell_type": "code",
   "execution_count": 15,
   "metadata": {},
   "outputs": [
    {
     "output_type": "execute_result",
     "data": {
      "text/plain": [
       "['Jasmine', 'Rose', 'Lily', 'Daisy', 'Tulip']"
      ]
     },
     "metadata": {},
     "execution_count": 15
    }
   ],
   "source": [
    "flowers = ['Jasmine', 'Rose', 'Lily', 'Daisy', 'Tulip']"
   ]
  },
  {
   "cell_type": "code",
   "execution_count": 27,
   "metadata": {},
   "outputs": [],
   "source": [
    "flowers = ['Jasmine', 'Rose', 'Lily', 'Daisy', 'Tulip']\n",
    "with open(\"flowers.txt\", \"w\", encoding= \"utf-8\") as flw:\n",
    "    for i in flowers :\n",
    "        flw.write(i + \"\\n\\n\")\n",
    "    "
   ]
  },
  {
   "cell_type": "code",
   "execution_count": 28,
   "metadata": {},
   "outputs": [
    {
     "output_type": "stream",
     "name": "stdout",
     "text": [
      "['Jasmine\\n', '\\n', 'Rose\\n', '\\n', 'Lily\\n', '\\n', 'Daisy\\n', '\\n', 'Tulip\\n', '\\n']\n"
     ]
    }
   ],
   "source": [
    "with open(\"flowers.txt\", \"r\", encoding= \"utf-8\") as flw:\n",
    "    print(flw.readlines())"
   ]
  },
  {
   "cell_type": "code",
   "execution_count": 34,
   "metadata": {},
   "outputs": [],
   "source": [
    "flowers = ['Jasmine', 'Rose', 'Lily', 'Daisy', 'Tulip']\n",
    "with open(\"flowers.txt\", \"w\", encoding= \"utf-8\") as flw:\n",
    "    for i in flowers :\n",
    "        flw.write(i + \"\\n\")"
   ]
  },
  {
   "cell_type": "code",
   "execution_count": 35,
   "metadata": {},
   "outputs": [
    {
     "output_type": "stream",
     "name": "stdout",
     "text": [
      "Jasmine\nRose\nLily\nDaisy\nTulip\n\n"
     ]
    }
   ],
   "source": [
    "with open(\"flowers.txt\", \"r\", encoding= \"utf-8\") as flw:\n",
    "    print(flw.read())"
   ]
  },
  {
   "cell_type": "code",
   "execution_count": 40,
   "metadata": {},
   "outputs": [],
   "source": [
    "flowers = ['Jasmine\\n', 'Rose\\n', 'Lily\\n', 'Daisy\\n', 'Tulip\\n']\n",
    "with open(\"flowers.txt\", \"w\", encoding= \"utf-8\") as flw:\n",
    "    flw.writelines(flowers)\n"
   ]
  },
  {
   "cell_type": "code",
   "execution_count": 41,
   "metadata": {},
   "outputs": [
    {
     "output_type": "stream",
     "name": "stdout",
     "text": [
      "Jasmine\nRose\nLily\nDaisy\nTulip\n\n"
     ]
    }
   ],
   "source": [
    "    \n",
    "with open(\"flowers.txt\", \"r\", encoding= \"utf-8\") as flw:\n",
    "    print(flw.read())"
   ]
  },
  {
   "cell_type": "code",
   "execution_count": 43,
   "metadata": {},
   "outputs": [
    {
     "output_type": "stream",
     "name": "stdout",
     "text": [
      "Banana\nOrange\nApple\nStrawberry\nCherry\nMelon\nMelon\n"
     ]
    }
   ],
   "source": [
    "with open(\"fruits.txt\", \"a\", encoding= \"utf-8\") as frt:\n",
    "    frt.write(\"Melon\")\n",
    "\n",
    "with open(\"fruits.txt\", \"r\", encoding= \"utf-8\") as frt:\n",
    "    print(frt.read())"
   ]
  },
  {
   "cell_type": "code",
   "execution_count": 48,
   "metadata": {},
   "outputs": [
    {
     "output_type": "error",
     "ename": "NameError",
     "evalue": "name 'strw' is not defined",
     "traceback": [
      "\u001b[1;31m---------------------------------------------------------------------------\u001b[0m",
      "\u001b[1;31mNameError\u001b[0m                                 Traceback (most recent call last)",
      "\u001b[1;32m<ipython-input-48-ba6758c7f60a>\u001b[0m in \u001b[0;36m<module>\u001b[1;34m\u001b[0m\n\u001b[0;32m      1\u001b[0m \u001b[1;32mwith\u001b[0m \u001b[0mopen\u001b[0m\u001b[1;33m(\u001b[0m\u001b[1;34m\"fruits.txt\"\u001b[0m\u001b[1;33m,\u001b[0m \u001b[1;34m\"r\"\u001b[0m\u001b[1;33m,\u001b[0m \u001b[0mencoding\u001b[0m\u001b[1;33m=\u001b[0m \u001b[1;34m\"utf-8\"\u001b[0m\u001b[1;33m)\u001b[0m \u001b[1;32mas\u001b[0m \u001b[0mfrt\u001b[0m\u001b[1;33m:\u001b[0m\u001b[1;33m\u001b[0m\u001b[1;33m\u001b[0m\u001b[0m\n\u001b[1;32m----> 2\u001b[1;33m     \u001b[0mstrw\u001b[0m \u001b[1;33m=\u001b[0m \u001b[0mstrw\u001b[0m\u001b[1;33m.\u001b[0m\u001b[0mreplace\u001b[0m\u001b[1;33m(\u001b[0m\u001b[1;34m\"Strawberry\"\u001b[0m\u001b[1;33m,\u001b[0m \u001b[1;34m\"strawberry\"\u001b[0m\u001b[1;33m)\u001b[0m\u001b[1;33m\u001b[0m\u001b[1;33m\u001b[0m\u001b[0m\n\u001b[0m",
      "\u001b[1;31mNameError\u001b[0m: name 'strw' is not defined"
     ]
    }
   ],
   "source": [
    "with open(\"fruits.txt\", \"r\", encoding= \"utf-8\") as frt:\n",
    "    strw = strw.replace(\"Strawberry\", \"strawberry\")"
   ]
  },
  {
   "cell_type": "code",
   "execution_count": null,
   "metadata": {},
   "outputs": [],
   "source": [
    "with open(\"fruits.txt\", \"w\", encoding= \"utf-8\") as frt:\r\n",
    "    frt.write(strw)\r\n",
    "\r\n",
    "with open(\"fruits.txt\", \"r\", encoding= \"utf-8\") as frt:\r\n",
    "    frt.read()"
   ]
  },
  {
   "cell_type": "code",
   "execution_count": 77,
   "metadata": {},
   "outputs": [
    {
     "output_type": "stream",
     "name": "stdout",
     "text": [
      "['Korkma, sönmez bu şafaklarda yüzen al sancak;\\n', 'Sönmeden yurdumun üstünde tüten en son ocak.\\n', 'O benim milletimin yıldızıdır, parlayacak;\\n', 'O benimdir, o benim milletimindir ancak.\\n', 'Çatma, kurban olayım, çehreni ey nazlı hilal!\\n', 'Kahraman ırkıma bir gül! Ne bu şiddet, bu celal?\\n', 'Sana olmaz dökülen kanlarımız sonra helal...\\n', \"Hakkıdır, hakk'a tapan, milletimin istiklal!\\n\", 'Ben ezelden beridir hür yaşadım, hür yaşarım.\\n', 'Hangi çılgın bana zincir vuracakmış? Şaşarım!\\n', 'Kükremiş sel gibiyim, bendimi çiğner, aşarım.\\n', 'Yırtarım dağları, enginlere sığmam, taşarım.\\n', 'Garbın afakını sarmışsa çelik zırhlı duvar,\\n', 'Benim iman dolu göğsüm gibi serhaddim var.\\n', 'Ulusun, korkma! Nasıl böyle bir imanı boğar,\\n', \"'Medeniyet!' dediğin tek dişi kalmış canavar?\\n\", 'Arkadaş! Yurduma alçakları uğratma, sakın.\\n', 'Siper et gövdeni, dursun bu hayasızca akın.\\n', \"Doğacaktır sana va'dettigi günler hakk'ın...\\n\", 'Kim bilir, belki yarın, belki yarından da yakın.\\n', \"Bastığın yerleri 'toprak!' diyerek geçme, tanı:\\n\", 'Düşün altında binlerce kefensiz yatanı.\\n', 'Sen şehit oğlusun, incitme, yazıktır, atanı:\\n', 'Verme, dünyaları alsan da, bu cennet vatanı.\\n', 'Kim bu cennet vatanın uğruna olmaz ki feda?\\n', 'Şuheda fışkıracak toprağı sıksan, şuheda!\\n', 'Canı, cananı, bütün varımı alsın da hüda,\\n', 'Etmesin tek vatanımdan beni dünyada cüda.\\n', 'Ruhumun senden, ilahi, şudur ancak emeli:\\n', 'Değmesin mabedimin göğsüne namahrem eli.\\n', 'Bu ezanlar-ki şahadetleri dinin temeli,\\n', 'Ebedi yurdumun üstünde benim inlemeli.']\n"
     ]
    }
   ],
   "source": [
    "with open(\"istiklal.txt\", \"r\", encoding= \"utf-8\") as ist:\n",
    "   lines = ist.readlines()\n",
    "print(lines)"
   ]
  },
  {
   "cell_type": "code",
   "execution_count": 78,
   "metadata": {},
   "outputs": [
    {
     "output_type": "stream",
     "name": "stdout",
     "text": [
      "Korkma, sönmez bu şafaklarda yüzen al sancak;\nSönmeden yurdumun üstünde tüten en son ocak.\nO benim milletimin yıldızıdır, parlayacak;\nO benimdir, o benim milletimindir ancak.\n\nÇatma, kurban olayım, çehreni ey nazlı hilal!\nKahraman ırkıma bir gül! Ne bu şiddet, bu celal?\nSana olmaz dökülen kanlarımız sonra helal...\nHakkıdır, hakk'a tapan, milletimin istiklal!\n\nBen ezelden beridir hür yaşadım, hür yaşarım.\nHangi çılgın bana zincir vuracakmış? Şaşarım!\nKükremiş sel gibiyim, bendimi çiğner, aşarım.\nYırtarım dağları, enginlere sığmam, taşarım.\n\nGarbın afakını sarmışsa çelik zırhlı duvar,\nBenim iman dolu göğsüm gibi serhaddim var.\nUlusun, korkma! Nasıl böyle bir imanı boğar,\n'Medeniyet!' dediğin tek dişi kalmış canavar?\n\nArkadaş! Yurduma alçakları uğratma, sakın.\nSiper et gövdeni, dursun bu hayasızca akın.\nDoğacaktır sana va'dettigi günler hakk'ın...\nKim bilir, belki yarın, belki yarından da yakın.\n\nBastığın yerleri 'toprak!' diyerek geçme, tanı:\nDüşün altında binlerce kefensiz yatanı.\nSen şehit oğlusun, incitme, yazıktır, atanı:\nVerme, dünyaları alsan da, bu cennet vatanı.\n\nKim bu cennet vatanın uğruna olmaz ki feda?\nŞuheda fışkıracak toprağı sıksan, şuheda!\nCanı, cananı, bütün varımı alsın da hüda,\nEtmesin tek vatanımdan beni dünyada cüda.\n\nRuhumun senden, ilahi, şudur ancak emeli:\nDeğmesin mabedimin göğsüne namahrem eli.\nBu ezanlar-ki şahadetleri dinin temeli,\nEbedi yurdumun üstünde benim inlemeli.\n\n"
     ]
    }
   ],
   "source": [
    "counter = 0\n",
    "with open(\"istiklal.txt\", \"w\", encoding=\"utf-8\") as f :\n",
    "\n",
    "    for i in lines :\n",
    "        counter += 1\n",
    "        if counter % 4 == 0 :\n",
    "            f.write(i + \"\\n\")\n",
    "        else :\n",
    "            f.write(i)\n",
    "\n",
    "with open(\"istiklal.txt\", \"r\", encoding= \"utf-8\") as f:\n",
    "    print(f.read())\n"
   ]
  },
  {
   "cell_type": "code",
   "execution_count": 98,
   "metadata": {},
   "outputs": [
    {
     "output_type": "stream",
     "name": "stdout",
     "text": [
      "['Korkma, sönmez bu şafaklarda yüzen al sancak;\\n', 'Sönmeden yurdumun üstünde tüten en son ocak.\\n', 'O benim milletimin yıldızıdır, parlayacak;\\n', 'O benimdir, o benim milletimindir ancak.\\n', '\\n', 'Çatma, kurban olayım, çehreni ey nazlı hilal!\\n', 'Kahraman ırkıma bir gül! Ne bu şiddet, bu celal?\\n', 'Sana olmaz dökülen kanlarımız sonra helal...\\n', \"Hakkıdır, hakk'a tapan, milletimin istiklal!\\n\", '\\n', 'Ben ezelden beridir hür yaşadım, hür yaşarım.\\n', 'Hangi çılgın bana zincir vuracakmış? Şaşarım!\\n', 'Kükremiş sel gibiyim, bendimi çiğner, aşarım.\\n', 'Yırtarım dağları, enginlere sığmam, taşarım.\\n', '\\n', 'Garbın afakını sarmışsa çelik zırhlı duvar,\\n', 'Benim iman dolu göğsüm gibi serhaddim var.\\n', 'Ulusun, korkma! Nasıl böyle bir imanı boğar,\\n', \"'Medeniyet!' dediğin tek dişi kalmış canavar?\\n\", '\\n', 'Arkadaş! Yurduma alçakları uğratma, sakın.\\n', 'Siper et gövdeni, dursun bu hayasızca akın.\\n', \"Doğacaktır sana va'dettigi günler hakk'ın...\\n\", 'Kim bilir, belki yarın, belki yarından da yakın.\\n', '\\n', \"Bastığın yerleri 'toprak!' diyerek geçme, tanı:\\n\", 'Düşün altında binlerce kefensiz yatanı.\\n', 'Sen şehit oğlusun, incitme, yazıktır, atanı:\\n', 'Verme, dünyaları alsan da, bu cennet vatanı.\\n', '\\n', 'Kim bu cennet vatanın uğruna olmaz ki feda?\\n', 'Şuheda fışkıracak toprağı sıksan, şuheda!\\n', 'Canı, cananı, bütün varımı alsın da hüda,\\n', 'Etmesin tek vatanımdan beni dünyada cüda.\\n', '\\n', 'Ruhumun senden, ilahi, şudur ancak emeli:\\n', 'Değmesin mabedimin göğsüne namahrem eli.\\n', 'Bu ezanlar-ki şahadetleri dinin temeli,\\n', 'Ebedi yurdumun üstünde benim inlemeli.\\n', '\\n']\n"
     ]
    }
   ],
   "source": [
    "with open(\"istiklal.txt\", \"r\", encoding= \"utf-8\") as f:\n",
    "    new_line = f.readlines()\n",
    "print(new_line)"
   ]
  },
  {
   "cell_type": "code",
   "execution_count": 99,
   "metadata": {},
   "outputs": [
    {
     "output_type": "stream",
     "name": "stdout",
     "text": [
      "Korkma, sönmez bu şafaklarda yüzen al sancak;\nSönmeden yurdumun üstünde tüten en son ocak.\nO benim milletimin yıldızıdır, parlayacak;\nO benimdir, o benim milletimindir ancak.\n\nÇatma, kurban olayım, çehreni ey nazlı hilal!\nKahraman ırkıma bir gül! Ne bu şiddet, bu celal?\nSana olmaz dökülen kanlarımız sonra helal...\nHakkıdır, hakk'a tapan, milletimin istiklal!\n\nBen ezelden beridir hür yaşadım, hür yaşarım.\nHangi çılgın bana zincir vuracakmış? Şaşarım!\nKükremiş sel gibiyim, bendimi çiğner, aşarım.\nYırtarım dağları, enginlere sığmam, taşarım.\n\nGarbın afakını sarmışsa çelik zırhlı duvar,\nBenim iman dolu göğsüm gibi serhaddim var.\nUlusun, korkma! Nasıl böyle bir imanı boğar,\n'Medeniyet!' dediğin tek dişi kalmış canavar?\n\nArkadaş! Yurduma alçakları uğratma, sakın.\nSiper et gövdeni, dursun bu hayasızca akın.\nDoğacaktır sana va'dettigi günler hakk'ın...\nKim bilir, belki yarın, belki yarından da yakın.\n\nBastığın yerleri 'toprak!' diyerek geçme, tanı:\nDüşün altında binlerce kefensiz yatanı.\nSen şehit oğlusun, incitme, yazıktır, atanı:\nVerme, dünyaları alsan da, bu cennet vatanı.\n\nKim bu cennet vatanın uğruna olmaz ki feda?\nŞuheda fışkıracak toprağı sıksan, şuheda!\nCanı, cananı, bütün varımı alsın da hüda,\nEtmesin tek vatanımdan beni dünyada cüda.\n\nRuhumun senden, ilahi, şudur ancak emeli:\nDeğmesin mabedimin göğsüne namahrem eli.\nBu ezanlar-ki şahadetleri dinin temeli,\nEbedi yurdumun üstünde benim inlemeli.\n\n\nKorkma, sönmez bu şafaklarda yüzen al sancak;\nSönmeden yurdumun üstünde tüten en son ocak.\nO benim milletimin yıldızıdır, parlayacak;\nO benimdir, o benim milletimindir ancak.\nÇatma, kurban olayım, çehreni ey nazlı hilal!\nKahraman ırkıma bir gül! Ne bu şiddet, bu celal?\nSana olmaz dökülen kanlarımız sonra helal...\nHakkıdır, hakk'a tapan, milletimin istiklal!\nBen ezelden beridir hür yaşadım, hür yaşarım.\nHangi çılgın bana zincir vuracakmış? Şaşarım!\nKükremiş sel gibiyim, bendimi çiğner, aşarım.\nYırtarım dağları, enginlere sığmam, taşarım.\nGarbın afakını sarmışsa çelik zırhlı duvar,\nBenim iman dolu göğsüm gibi serhaddim var.\nUlusun, korkma! Nasıl böyle bir imanı boğar,\n'Medeniyet!' dediğin tek dişi kalmış canavar?\nArkadaş! Yurduma alçakları uğratma, sakın.\nSiper et gövdeni, dursun bu hayasızca akın.\nDoğacaktır sana va'dettigi günler hakk'ın...\nKim bilir, belki yarın, belki yarından da yakın.\nBastığın yerleri 'toprak!' diyerek geçme, tanı:\nDüşün altında binlerce kefensiz yatanı.\nSen şehit oğlusun, incitme, yazıktır, atanı:\nVerme, dünyaları alsan da, bu cennet vatanı.\nKim bu cennet vatanın uğruna olmaz ki feda?\nŞuheda fışkıracak toprağı sıksan, şuheda!\nCanı, cananı, bütün varımı alsın da hüda,\nEtmesin tek vatanımdan beni dünyada cüda.\nRuhumun senden, ilahi, şudur ancak emeli:\nDeğmesin mabedimin göğsüne namahrem eli.\nBu ezanlar-ki şahadetleri dinin temeli,\nEbedi yurdumun üstünde benim inlemeli.\n\n"
     ]
    }
   ],
   "source": [
    "\n",
    "with open(\"istiklal.txt\", \"a\", encoding= \"utf-8\") as f:\n",
    "    f.write(\"\\n\")\n",
    "\n",
    "    for i in new_line :\n",
    "        if i == \"\\n\" :\n",
    "            i.replace(\"\\n\", \"\")\n",
    "        else :\n",
    "            f.write(i)\n",
    "\n",
    "with open(\"istiklal.txt\", \"r\", encoding= \"utf-8\") as f:\n",
    "    print(f.read())"
   ]
  },
  {
   "cell_type": "code",
   "execution_count": 103,
   "metadata": {},
   "outputs": [
    {
     "output_type": "stream",
     "name": "stdout",
     "text": [
      "dict_keys([1, 2])\n"
     ]
    }
   ],
   "source": [
    "word = {1 : \"1\", 2 : \"2\"}\n",
    "\n",
    "keys = word.keys()\n",
    "print(keys)"
   ]
  },
  {
   "cell_type": "code",
   "execution_count": 104,
   "metadata": {},
   "outputs": [
    {
     "output_type": "stream",
     "name": "stdout",
     "text": [
      "{3: 1}\n"
     ]
    }
   ],
   "source": [
    "word_1 = {}\n",
    "word_1[3] = 1\n",
    "print(word_1)"
   ]
  },
  {
   "cell_type": "code",
   "execution_count": 105,
   "metadata": {},
   "outputs": [
    {
     "output_type": "stream",
     "name": "stdout",
     "text": [
      "{3: 1, 1: 1}\n"
     ]
    }
   ],
   "source": [
    "word_1[1] = 1\n",
    "print(word_1)"
   ]
  },
  {
   "cell_type": "code",
   "execution_count": 108,
   "metadata": {},
   "outputs": [
    {
     "output_type": "stream",
     "name": "stdout",
     "text": [
      "{3: 4, 1: 1}\n"
     ]
    }
   ],
   "source": [
    "word_1[3] += 1 \n",
    "print(word_1)"
   ]
  },
  {
   "cell_type": "code",
   "execution_count": 117,
   "metadata": {},
   "outputs": [
    {
     "output_type": "stream",
     "name": "stdout",
     "text": [
      "{'b': 6, 'i': 2, 'r': 6, ' ': 3, 'e': 5, ',': 1, \"'\": 1, '.': 1}\n"
     ]
    }
   ],
   "source": [
    "string = \"bir berber, bir'e berber.\"\n",
    "word_dict = {}\n",
    "\n",
    "for n in string :\n",
    "    keys = word_dict.keys()\n",
    "    if n in keys :\n",
    "        word_dict[n] += 1\n",
    "    else :\n",
    "        word_dict[n] = 1\n",
    "print(word_dict)"
   ]
  },
  {
   "cell_type": "code",
   "execution_count": 128,
   "metadata": {},
   "outputs": [
    {
     "output_type": "stream",
     "name": "stdout",
     "text": [
      "{'int': 2, 'str': 3, 'bool': 1, 'list': 1, 'tuple': 1, 'dict': 2, 'set': 1}\n"
     ]
    }
   ],
   "source": [
    "veri = [\"a\", \"b\", True, (False, 1), {\"1\" : 2}, [1, 2], {\"2\" : \"two\"}, {2, \"3\"}, \"c\", 23, 0]\n",
    "tipler = [\"int\",\"str\",\"bool\",\"list\",\"tuple\",\"dict\",\"set\"]\n",
    "toplam = {}.fromkeys(tipler, 0)\n",
    "\n",
    "for i in range(len(veri)) :\n",
    "    if type(veri[i]) == int : toplam[\"int\"] += 1\n",
    "    elif type(veri[i]) == str : toplam[\"str\"] += 1\n",
    "    elif type(veri[i]) == dict : toplam[\"dict\"] += 1\n",
    "    elif type(veri[i]) == set : toplam[\"set\"] += 1\n",
    "    elif type(veri[i]) == bool : toplam[\"bool\"] += 1\n",
    "    elif type(veri[i]) == tuple : toplam[\"tuple\"] += 1\n",
    "    elif type(veri[i]) == list : toplam[\"list\"] += 1\n",
    "\n",
    "print(toplam)\n",
    "\n"
   ]
  },
  {
   "cell_type": "code",
   "execution_count": 129,
   "metadata": {},
   "outputs": [
    {
     "output_type": "execute_result",
     "data": {
      "text/plain": [
       "'c:\\\\Users\\\\bunya\\\\Desktop\\\\Py'"
      ]
     },
     "metadata": {},
     "execution_count": 129
    }
   ],
   "source": [
    "pwd"
   ]
  },
  {
   "cell_type": "code",
   "execution_count": 133,
   "metadata": {},
   "outputs": [],
   "source": [
    "import os\n"
   ]
  },
  {
   "cell_type": "code",
   "execution_count": 137,
   "metadata": {},
   "outputs": [
    {
     "output_type": "execute_result",
     "data": {
      "text/plain": [
       "['.ipynb_checkpoints',\n",
       " '.tmp.drivedownload',\n",
       " '.vs',\n",
       " 'clarusway',\n",
       " 'desktop.ini',\n",
       " 'Diğer',\n",
       " 'ESL',\n",
       " 'Google Drive.lnk',\n",
       " 'Html',\n",
       " 'jamovi-1.6.16.0-win64.exe',\n",
       " 'Malpraktis',\n",
       " 'Microsoft Teams.lnk',\n",
       " 'my-github',\n",
       " 'Py',\n",
       " 'Slack.lnk',\n",
       " 'SQL',\n",
       " 'uTorrent Web.lnk',\n",
       " 'Visual Studio Code.lnk',\n",
       " 'WhatsApp.lnk',\n",
       " 'workshop_git',\n",
       " 'Yeni Microsoft Excel Çalışma Sayfası.xlsx',\n",
       " 'YenidenPy',\n",
       " 'Zoom.lnk',\n",
       " '_TezVerisi.sav']"
      ]
     },
     "metadata": {},
     "execution_count": 137
    }
   ],
   "source": [
    "os.listdir(\"C:\\\\Users\\\\bunya\\\\Desktop\\\\\")"
   ]
  },
  {
   "cell_type": "code",
   "execution_count": 138,
   "metadata": {},
   "outputs": [],
   "source": [
    "import glob"
   ]
  },
  {
   "cell_type": "code",
   "execution_count": 139,
   "metadata": {},
   "outputs": [
    {
     "output_type": "stream",
     "name": "stdout",
     "text": [
      "fishes.txt\nflowers.txt\nfruits.txt\nfruits24.txt\nilk_dosyam.txt\nistiklal.txt\nistiklal_2.txt\nnew_file.txt\nrumi.txt\n"
     ]
    }
   ],
   "source": [
    "for file in glob.glob(\"*.txt\") :\n",
    "    print(file)"
   ]
  },
  {
   "cell_type": "code",
   "execution_count": 140,
   "metadata": {},
   "outputs": [],
   "source": [
    "import shutil"
   ]
  },
  {
   "cell_type": "code",
   "execution_count": 141,
   "metadata": {},
   "outputs": [
    {
     "output_type": "execute_result",
     "data": {
      "text/plain": [
       "'../fruits2.csv'"
      ]
     },
     "metadata": {},
     "execution_count": 141
    }
   ],
   "source": [
    "shutil.copy(\"fruits.csv\", \"../fruits2.csv\")"
   ]
  },
  {
   "cell_type": "code",
   "execution_count": 142,
   "metadata": {},
   "outputs": [],
   "source": [
    "def my_fact(n) :\n",
    "    if n == 0 : return 1\n",
    "\n",
    "    else:\n",
    "        return n * my_fact(n-1)"
   ]
  },
  {
   "cell_type": "code",
   "execution_count": 143,
   "metadata": {},
   "outputs": [
    {
     "output_type": "execute_result",
     "data": {
      "text/plain": [
       "6"
      ]
     },
     "metadata": {},
     "execution_count": 143
    }
   ],
   "source": [
    "my_fact(3)"
   ]
  },
  {
   "cell_type": "code",
   "execution_count": 8,
   "metadata": {},
   "outputs": [
    {
     "output_type": "stream",
     "name": "stdout",
     "text": [
      "{' ': 1, 'a': 1, 'e': 1, 'i': 1, 'l': 2, 'g': 1}\n"
     ]
    }
   ],
   "source": [
    "sentence = input()\n",
    "x = set(sentence)\n",
    "y = list(map(sentence.count,x))\n",
    "print(dict(zip(x,y)))\n"
   ]
  },
  {
   "cell_type": "code",
   "execution_count": 10,
   "metadata": {},
   "outputs": [
    {
     "output_type": "stream",
     "name": "stdout",
     "text": [
      "{}\n"
     ]
    }
   ],
   "source": [
    "def say (c):\n",
    "    k = []\n",
    "    v = []\n",
    "    sayac = 0\n",
    "    cumle = list(c)\n",
    "    for b in cumle:\n",
    "        if not b in k:\n",
    "            sayac=cumle.count(b)\n",
    "            v.append(sayac)\n",
    "            k.append(b)\n",
    "    sozluk = dict(zip(k,v))\n",
    "    print(sozluk)\n",
    "say(input(\"Bir Cümle Giriniz :\"))"
   ]
  },
  {
   "cell_type": "code",
   "execution_count": 21,
   "metadata": {},
   "outputs": [
    {
     "output_type": "stream",
     "name": "stdout",
     "text": [
      "{<class 'str'>: 3, <class 'bool'>: 1, <class 'tuple'>: 1, <class 'dict'>: 2, <class 'list'>: 1, <class 'set'>: 1, <class 'int'>: 2}\n"
     ]
    }
   ],
   "source": [
    "veri = ['a','b', True, (False,1), {'1':2}, [1,2], {'2': 'two'}, {2,'3'}, 'c', 23, 0]\n",
    "tip = [type(i) for i in veri]\n",
    "tip_count = [tip.count(i) for i in tip]\n",
    "sözlük = dict(zip(tip, tip_count))\n",
    "print(sözlük)"
   ]
  },
  {
   "cell_type": "code",
   "execution_count": 24,
   "metadata": {},
   "outputs": [
    {
     "output_type": "execute_result",
     "data": {
      "text/plain": [
       "{str: 3, bool: 1, tuple: 1, dict: 2, list: 1, set: 1, int: 2}"
      ]
     },
     "metadata": {},
     "execution_count": 24
    }
   ],
   "source": [
    "veri = ['a','b', True, (False,1), {'1':2}, [1,2], {'2': 'two'}, {2,'3'}, 'c', 23, 0]\n",
    "tip = [type(i) for i in veri]\n",
    "tip_count = [tip.count(i) for i in tip]\n",
    "sözlük = dict(zip(tip, tip_count))\n",
    "sözlük"
   ]
  },
  {
   "cell_type": "code",
   "execution_count": 32,
   "metadata": {},
   "outputs": [
    {
     "output_type": "stream",
     "name": "stdout",
     "text": [
      "{'int': 2, 'dict': 2, 'tuple': 1, 'list': 1, 'set': 1, 'str': 3, 'bool': 1}\n"
     ]
    }
   ],
   "source": [
    "veri = ['a','b', True, (False,1), {'1':2}, [1,2], {'2': 'two'}, {2,'3'}, 'c', 23, 0]\n",
    "type_list = []\n",
    "type_dict = {}\n",
    "for i in veri:\n",
    "    type_list.append(type(i))\n",
    "for j in set(type_list):\n",
    "    type_dict[(str(j).strip(\"<>class \")).strip(\"'\")] = type_list.count(j)\n",
    "print(type_dict)"
   ]
  },
  {
   "cell_type": "code",
   "execution_count": null,
   "metadata": {},
   "outputs": [],
   "source": []
  }
 ]
}