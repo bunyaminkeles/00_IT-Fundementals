{
 "metadata": {
  "language_info": {
   "codemirror_mode": {
    "name": "ipython",
    "version": 3
   },
   "file_extension": ".py",
   "mimetype": "text/x-python",
   "name": "python",
   "nbconvert_exporter": "python",
   "pygments_lexer": "ipython3",
   "version": "3.9.4"
  },
  "orig_nbformat": 2,
  "kernelspec": {
   "name": "python394jvsc74a57bd06fae30b75c6de6020889af9669f15d4840c9cab22f6dd170537e846061df4561",
   "display_name": "Python 3.9.4 64-bit"
  },
  "metadata": {
   "interpreter": {
    "hash": "6fae30b75c6de6020889af9669f15d4840c9cab22f6dd170537e846061df4561"
   }
  }
 },
 "nbformat": 4,
 "nbformat_minor": 2,
 "cells": [
  {
   "cell_type": "code",
   "execution_count": 3,
   "metadata": {},
   "outputs": [
    {
     "output_type": "execute_result",
     "data": {
      "text/plain": [
       "9"
      ]
     },
     "metadata": {},
     "execution_count": 3
    }
   ],
   "source": [
    "sudoku = [\n",
    "    [0, 0, 0, 0, 6, 4, 0, 0, 0],\n",
    "    [7, 0, 0, 0, 0, 0, 3, 9, 0],\n",
    "    [8, 0, 0, 0, 0, 0, 0, 0, 0],\n",
    "    [0, 0, 0, 5, 0, 2, 0, 6, 0],\n",
    "    [0, 8, 0, 4, 0, 0, 0, 0, 0],\n",
    "    [3, 5, 0, 6, 0, 0, 0, 7, 0],\n",
    "    [0, 0, 2, 0, 0, 0, 1, 0, 3],\n",
    "    [0, 0, 1, 0, 5, 9, 0, 0, 0],\n",
    "    [0, 0, 0, 0, 0, 0, 7, 0, 0]\n",
    "]\n",
    "\n",
    "len(sudoku)"
   ]
  },
  {
   "cell_type": "code",
   "execution_count": 28,
   "metadata": {},
   "outputs": [
    {
     "output_type": "stream",
     "name": "stdout",
     "text": [
      "-----------------------------\n0  0  0  | 0  6  4  | 0  0  0  \n7  0  0  | 0  0  0  | 3  9  0  \n8  0  0  | 0  0  0  | 0  0  0  \n-----------------------------\n0  0  0  | 5  0  2  | 0  6  0  \n0  8  0  | 4  0  0  | 0  0  0  \n3  5  0  | 6  0  0  | 0  7  0  \n-----------------------------\n0  0  2  | 0  0  0  | 1  0  3  \n0  0  1  | 0  5  9  | 0  0  0  \n0  0  0  | 0  0  0  | 7  0  0  \n-----------------------------\n"
     ]
    }
   ],
   "source": [
    "count = 0\n",
    "print(\"-----------------------------\")\n",
    "for i in sudoku :\n",
    "    for j in range(len(i)) :\n",
    "        print(i[j], \" \", end= \"\")\n",
    "        if (j + 1) == 9 :\n",
    "            print()\n",
    "            count += 1\n",
    "            if count % 3 == 0 and count != 0:\n",
    "                print(\"-----------------------------\")\n",
    "        if (j + 1) % 3 == 0 and j != 8 :\n",
    "            print(\"| \", end = \"\")\n"
   ]
  },
  {
   "cell_type": "code",
   "execution_count": 46,
   "metadata": {
    "tags": []
   },
   "outputs": [
    {
     "output_type": "execute_result",
     "data": {
      "text/plain": [
       "[1, 2, 3, 4, 5, 6]"
      ]
     },
     "metadata": {},
     "execution_count": 46
    }
   ],
   "source": [
    "x = [([1], [2,3], (4,5,6))]\n",
    "a =[]\n",
    "for i in x :    \n",
    "    for j in i :\n",
    "        for z in j:\n",
    "            a.append(z)\n",
    "a"
   ]
  },
  {
   "cell_type": "code",
   "execution_count": 49,
   "metadata": {},
   "outputs": [
    {
     "output_type": "execute_result",
     "data": {
      "text/plain": [
       "{1, 2, 3, 4, 5, 6}"
      ]
     },
     "metadata": {},
     "execution_count": 49
    }
   ],
   "source": [
    "\n",
    "{z for i in x for j in i for z in j}"
   ]
  },
  {
   "cell_type": "code",
   "execution_count": null,
   "metadata": {},
   "outputs": [],
   "source": [
    "x = [([1], [2, 3], (4, 5, 6))]  # [1, 2, 3, 4, 5, 6]\n",
    "a = []\n",
    "for i in x:  # x in içindeki liste yani ([1], [2,3], (4,5,6))\n",
    "    for j in i:  # liste içindeki her bir liste ve tuple yani [1] ve [2,3] ve (4,5,6)\n",
    "        for z in j:  # her bir liste ve tuple içindeki elemanları çıkarmış olduk.\n",
    "            a.append(z)  # her bir çıplak elemanı z listesine attık.\n",
    "print(a)  # a listemiz artık her bir çıplak elemanı kendi elemanı olarak içerdi."
   ]
  },
  {
   "cell_type": "code",
   "execution_count": null,
   "metadata": {},
   "outputs": [],
   "source": [
    "yList = \"selvi vahit ayşe\".split()\n",
    "\n",
    "xList = \"elma armut muz\".split()\n"
   ]
  },
  {
   "cell_type": "code",
   "execution_count": 58,
   "metadata": {},
   "outputs": [
    {
     "output_type": "execute_result",
     "data": {
      "text/plain": [
       "[{'elmaselvi'},\n",
       " {'elmavahit'},\n",
       " {'elmaayşe'},\n",
       " {'armutselvi'},\n",
       " {'armutvahit'},\n",
       " {'armutayşe'},\n",
       " {'muzselvi'},\n",
       " {'muzvahit'},\n",
       " {'muzayşe'}]"
      ]
     },
     "metadata": {},
     "execution_count": 58
    }
   ],
   "source": [
    "yList = \"selvi vahit ayşe\".split()\n",
    "\n",
    "xList = \"elma armut muz\".split()\n",
    "\n",
    "[{i + j} for i in xList for j in yList]"
   ]
  },
  {
   "cell_type": "code",
   "execution_count": 87,
   "metadata": {},
   "outputs": [
    {
     "output_type": "error",
     "ename": "TypeError",
     "evalue": "'builtin_function_or_method' object is not subscriptable",
     "traceback": [
      "\u001b[1;31m---------------------------------------------------------------------------\u001b[0m",
      "\u001b[1;31mTypeError\u001b[0m                                 Traceback (most recent call last)",
      "\u001b[1;32m<ipython-input-87-3d161b64670c>\u001b[0m in \u001b[0;36m<module>\u001b[1;34m\u001b[0m\n\u001b[0;32m      4\u001b[0m     \u001b[1;32mif\u001b[0m \u001b[0mi\u001b[0m \u001b[1;33m%\u001b[0m \u001b[1;36m2\u001b[0m \u001b[1;33m==\u001b[0m \u001b[1;36m0\u001b[0m \u001b[1;33m:\u001b[0m\u001b[1;33m\u001b[0m\u001b[1;33m\u001b[0m\u001b[0m\n\u001b[0;32m      5\u001b[0m         \u001b[1;32mfor\u001b[0m \u001b[0mj\u001b[0m \u001b[1;32min\u001b[0m \u001b[1;33m[\u001b[0m\u001b[1;34m\"bir\"\u001b[0m\u001b[1;33m,\u001b[0m \u001b[1;34m\"iki\"\u001b[0m\u001b[1;33m,\u001b[0m \u001b[1;34m\"üç\"\u001b[0m\u001b[1;33m]\u001b[0m \u001b[1;33m:\u001b[0m\u001b[1;33m\u001b[0m\u001b[1;33m\u001b[0m\u001b[0m\n\u001b[1;32m----> 6\u001b[1;33m             \u001b[0mresult\u001b[0m\u001b[1;33m.\u001b[0m\u001b[0mappend\u001b[0m\u001b[1;33m[\u001b[0m\u001b[0mstr\u001b[0m\u001b[1;33m(\u001b[0m\u001b[0mi\u001b[0m\u001b[1;33m)\u001b[0m\u001b[1;33m,\u001b[0m \u001b[1;34m\"----->\"\u001b[0m \u001b[1;33m+\u001b[0m \u001b[0mj\u001b[0m\u001b[1;33m]\u001b[0m\u001b[1;33m\u001b[0m\u001b[1;33m\u001b[0m\u001b[0m\n\u001b[0m\u001b[0;32m      7\u001b[0m \u001b[0mresult\u001b[0m\u001b[1;33m\u001b[0m\u001b[1;33m\u001b[0m\u001b[0m\n",
      "\u001b[1;31mTypeError\u001b[0m: 'builtin_function_or_method' object is not subscriptable"
     ]
    }
   ],
   "source": [
    "result = []\n",
    "\n",
    "for i in range(5) :\n",
    "    if i % 2 == 0 :\n",
    "        for j in [\"bir\", \"iki\", \"üç\"] :\n",
    "            result.append[str(i), \"----->\" + j]\n",
    "result"
   ]
  },
  {
   "cell_type": "code",
   "execution_count": 71,
   "metadata": {},
   "outputs": [
    {
     "output_type": "execute_result",
     "data": {
      "text/plain": [
       "['0bir', '0iki', '0üç', '2bir', '2iki', '2üç', '4bir', '4iki', '4üç']"
      ]
     },
     "metadata": {},
     "execution_count": 71
    }
   ],
   "source": [
    "sayılar = [\"bir\", \"iki\", \"üç\"]\n",
    "[(str(i) + j) for i in range(5) for j in sayılar if i % 2 == 0 ]"
   ]
  },
  {
   "cell_type": "code",
   "execution_count": 84,
   "metadata": {},
   "outputs": [
    {
     "output_type": "execute_result",
     "data": {
      "text/plain": [
       "1"
      ]
     },
     "metadata": {},
     "execution_count": 84
    }
   ],
   "source": [
    "myList = [1, 1, 1, 5, 4, 5]\n",
    "max(myList, key = myList.count) # listede en fazla tekrar eden 1 imiş\n"
   ]
  },
  {
   "cell_type": "code",
   "execution_count": 85,
   "metadata": {},
   "outputs": [
    {
     "output_type": "execute_result",
     "data": {
      "text/plain": [
       "5"
      ]
     },
     "metadata": {},
     "execution_count": 85
    }
   ],
   "source": [
    "max(myList) # en yüksek rakam 5 imiş"
   ]
  },
  {
   "cell_type": "code",
   "execution_count": 86,
   "metadata": {},
   "outputs": [
    {
     "output_type": "execute_result",
     "data": {
      "text/plain": [
       "3"
      ]
     },
     "metadata": {},
     "execution_count": 86
    }
   ],
   "source": [
    "myList.count(1) # 3 kes bir geçmiş listede"
   ]
  },
  {
   "cell_type": "code",
   "execution_count": 101,
   "metadata": {},
   "outputs": [
    {
     "output_type": "execute_result",
     "data": {
      "text/plain": [
       "2"
      ]
     },
     "metadata": {},
     "execution_count": 101
    }
   ],
   "source": [
    "def equal (a,b,c) :\n",
    "    numbers = [a,b,c]\n",
    "    result = numbers.count(max(numbers, key = numbers.count))\n",
    "    if result > 1 :\n",
    "        return result\n",
    "    else :\n",
    "        return 0\n",
    "equal(5,6,5)"
   ]
  },
  {
   "cell_type": "code",
   "execution_count": 106,
   "metadata": {},
   "outputs": [
    {
     "output_type": "execute_result",
     "data": {
      "text/plain": [
       "5"
      ]
     },
     "metadata": {},
     "execution_count": 106
    }
   ],
   "source": [
    "def equal (*a) : # ne fazla tekrar eden rakamın sayısını bulur.\n",
    "    numbers = list(a)\n",
    "    result = numbers.count(max(numbers, key = numbers.count))\n",
    "    if result > 1 :\n",
    "        return result\n",
    "    else :\n",
    "        return 0\n",
    "equal(5,5,5,6,5, 5, 6, 6, 8, 8,9,9)"
   ]
  },
  {
   "cell_type": "code",
   "execution_count": 1,
   "metadata": {},
   "outputs": [
    {
     "output_type": "execute_result",
     "data": {
      "text/plain": [
       "6"
      ]
     },
     "metadata": {},
     "execution_count": 1
    }
   ],
   "source": [
    "def equal (*a) : # en fazla tekrar eden rakamı bulur..\n",
    "    numbers = list(a)\n",
    "    result = max(numbers, key = numbers.count)\n",
    "    if result > 1 :\n",
    "        return result\n",
    "    else :\n",
    "        return 0\n",
    "equal(6,5, 5, 6, 6, 8, 8,9,9)"
   ]
  },
  {
   "cell_type": "code",
   "execution_count": 35,
   "metadata": {},
   "outputs": [
    {
     "output_type": "execute_result",
     "data": {
      "text/plain": [
       "0"
      ]
     },
     "metadata": {},
     "execution_count": 35
    }
   ],
   "source": [
    "x = lambda *a : [*a].count(max([*a], key = [*a].count))\\\n",
    "    if [*a].count(max([*a], key = [*a].count)) > 1 else 0 \n",
    "x(1,2,3,6)"
   ]
  },
  {
   "cell_type": "code",
   "execution_count": null,
   "metadata": {},
   "outputs": [],
   "source": [
    "#if_body if condition else else_body"
   ]
  },
  {
   "cell_type": "code",
   "execution_count": 38,
   "metadata": {},
   "outputs": [],
   "source": [
    "xx = lambda *a : list(a).count(max(list(a), key = list(a).count))\\\n",
    "    if list(a).count(max(list(a), key = list(a).count)) > 1 else 0 \n",
    "\n"
   ]
  },
  {
   "cell_type": "code",
   "execution_count": 41,
   "metadata": {},
   "outputs": [
    {
     "output_type": "execute_result",
     "data": {
      "text/plain": [
       "3"
      ]
     },
     "metadata": {},
     "execution_count": 41
    }
   ],
   "source": [
    "xx(2,2,2,6)"
   ]
  },
  {
   "cell_type": "code",
   "execution_count": null,
   "metadata": {},
   "outputs": [],
   "source": []
  }
 ]
}