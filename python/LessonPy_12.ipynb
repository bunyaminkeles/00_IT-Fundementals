{
 "metadata": {
  "language_info": {
   "codemirror_mode": {
    "name": "ipython",
    "version": 3
   },
   "file_extension": ".py",
   "mimetype": "text/x-python",
   "name": "python",
   "nbconvert_exporter": "python",
   "pygments_lexer": "ipython3",
   "version": "3.7.8-final"
  },
  "orig_nbformat": 2,
  "kernelspec": {
   "name": "python378jvsc74a57bd057baa5815c940fdaff4d14510622de9616cae602444507ba5d0b6727c008cbd6",
   "display_name": "Python 3.7.8 64-bit"
  },
  "metadata": {
   "interpreter": {
    "hash": "57baa5815c940fdaff4d14510622de9616cae602444507ba5d0b6727c008cbd6"
   }
  }
 },
 "nbformat": 4,
 "nbformat_minor": 2,
 "cells": [
  {
   "cell_type": "code",
   "execution_count": 4,
   "metadata": {},
   "outputs": [
    {
     "output_type": "stream",
     "name": "stdout",
     "text": [
      "{1: 'one', 'two': 2, False: [1, 2, 3], 1.5: ('one', 'two')}\n"
     ]
    }
   ],
   "source": [
    "#********** dictionaries****************\n",
    "#definitions {key1 : value1,\n",
    "#           key2 : value2}\n",
    "my_dict = {1 : \"one\", \"two\" : 2, False : [1, 2, 3], 1.5 : (\"one\", \"two\")}\n",
    "print(my_dict)"
   ]
  },
  {
   "cell_type": "code",
   "execution_count": 5,
   "metadata": {},
   "outputs": [
    {
     "output_type": "stream",
     "name": "stdout",
     "text": [
      "{'bir': 'one', 'iki': 'two'}\n"
     ]
    }
   ],
   "source": [
    "xx = dict(bir = \"one\", iki = \"two\")#  burada bir ve iki key dir.. sonuçta str oldu ve dic oluştu\n",
    "print(xx)"
   ]
  },
  {
   "cell_type": "code",
   "execution_count": 8,
   "metadata": {},
   "outputs": [
    {
     "output_type": "stream",
     "name": "stdout",
     "text": [
      "Denver\n"
     ]
    }
   ],
   "source": [
    "state_capital = {\"Akansas\" : \"Little Rock\",\n",
    "\"coloarda\" : \"Denver\"}\n",
    "print(state_capital[\"coloarda\"])"
   ]
  },
  {
   "cell_type": "code",
   "execution_count": 9,
   "metadata": {},
   "outputs": [],
   "source": [
    "sehir = \"istanbul\"\n",
    "sehir2 = \"ankara\"\n",
    "sehirler = \"sehir, \"\n"
   ]
  },
  {
   "cell_type": "code",
   "execution_count": 35,
   "metadata": {},
   "outputs": [
    {
     "output_type": "stream",
     "name": "stdout",
     "text": [
      "{'name1': 'figen', 'name2': 'salih', 'name3': 'beyza'}\n[('name1', 'figen'), ('name2', 'salih'), ('name3', 'beyza')]\n['figen', 'salih', 'beyza']\n['name1', 'name2', 'name3']\n"
     ]
    }
   ],
   "source": [
    "family = {\"name1\" : \"figen\",\n",
    "         \"name2\" : \"salih\", \n",
    "         \"name3\" : \"beyza\"}\n",
    "print(family)\n",
    "print(list(family.items()))\n",
    "print(list(family.values()))\n",
    "print(list(family.keys()))"
   ]
  },
  {
   "cell_type": "code",
   "execution_count": 19,
   "metadata": {},
   "outputs": [
    {
     "output_type": "stream",
     "name": "stdout",
     "text": [
      "{'name1': 'zehra', 'name2': 'salih', 'name3': 'beyza', 'name4': ' Bunyamin'}\n"
     ]
    }
   ],
   "source": [
    "family[\"name4\"] =\" Bunyamin\"\n",
    "print(family)"
   ]
  },
  {
   "cell_type": "code",
   "execution_count": 20,
   "metadata": {},
   "outputs": [
    {
     "output_type": "stream",
     "name": "stdout",
     "text": [
      "{'animal': 'dog', 'planet': 'neptun', 'number': 40, 'pi': 3.14, 'is_good': True}\n"
     ]
    }
   ],
   "source": [
    "dict_by_dict = {'animal': 'dog',\n",
    "                'planet': 'neptun',\n",
    "                'number': 40,\n",
    "                'pi': 3.14,\n",
    "                'is_good': True}\n",
    "print(dict_by_dict)"
   ]
  },
  {
   "cell_type": "code",
   "execution_count": 36,
   "metadata": {},
   "outputs": [
    {
     "output_type": "stream",
     "name": "stdout",
     "text": [
      "{'animal': 'dog', 'planet': 'neptun', 'number': 40, 'pi': 3.14, 'is_good': True, 'is_bad': False}\n"
     ]
    }
   ],
   "source": [
    "dict_by_dict = {'animal': 'dog',\n",
    "                'planet': 'neptun',\n",
    "                'number': 40,\n",
    "                'pi': 3.14,\n",
    "                'is_good': True}\n",
    "\n",
    "dict_by_dict.update({'is_bad': False})\n",
    "print(dict_by_dict)\n"
   ]
  },
  {
   "cell_type": "code",
   "execution_count": 33,
   "metadata": {},
   "outputs": [
    {
     "output_type": "stream",
     "name": "stdout",
     "text": [
      "dict_items([('animal', 'dog'), ('planet', 'neptun'), ('number', 40), ('pi', 3.14), ('is_good', True)]) \n\ndict_keys(['animal', 'planet', 'number', 'pi', 'is_good']) \n\ndict_values(['dog', 'neptun', 40, 3.14, True])\n"
     ]
    }
   ],
   "source": [
    "dict_by_dict = {'animal': 'dog',\n",
    "                'planet': 'neptun',\n",
    "                'number': 40,\n",
    "                'pi': 3.14,\n",
    "                'is_good': True}\n",
    "\n",
    "print(dict_by_dict.items(), '\\n')\n",
    "print(dict_by_dict.keys(), '\\n')\n",
    "print(dict_by_dict.values())"
   ]
  },
  {
   "cell_type": "code",
   "execution_count": 60,
   "metadata": {},
   "outputs": [
    {
     "output_type": "stream",
     "name": "stdout",
     "text": [
      "{'name': 'bunyas', 'name1': 'figen', 'name3': 'beyza', 'name4': 'burak'}\ndict_items([('name', 'bunyas'), ('name1', 'figen'), ('name3', 'beyza'), ('name4', 'burak')])\ndict_values(['bunyas', 'figen', 'beyza', 'burak'])\ndict_keys(['name', 'name1', 'name3', 'name4'])\n"
     ]
    }
   ],
   "source": [
    "family = dict(name = \"bunyas\", name1 = \"figen\", name3 = \"beyza\", name4 = \"burak\")\n",
    "print(family)\n",
    "print(family.items())\n",
    "print(family.values())\n",
    "print(family.keys())"
   ]
  },
  {
   "cell_type": "code",
   "execution_count": 40,
   "metadata": {},
   "outputs": [
    {
     "output_type": "stream",
     "name": "stdout",
     "text": [
      "{'name1': 'figen', 'name2': 'burak', 'name3': 'beyza', 'name5': 'yasir'}\n"
     ]
    }
   ],
   "source": [
    "family.update({\"name2\" : \"burak\"})\n",
    "print(family)"
   ]
  },
  {
   "cell_type": "code",
   "execution_count": 61,
   "metadata": {},
   "outputs": [
    {
     "output_type": "stream",
     "name": "stdout",
     "text": [
      "{'name': 'bunyas', 'name1': 'figen', 'name3': 'beyza', 'name4': 'burak'}\n{'name': 'bunyas', 'name3': 'beyza'}\n"
     ]
    }
   ],
   "source": [
    "print(family)\n",
    "del family[\"name4\"], family[\"name1\"]\n",
    "print(family)"
   ]
  },
  {
   "cell_type": "code",
   "execution_count": 75,
   "metadata": {},
   "outputs": [
    {
     "output_type": "error",
     "ename": "SyntaxError",
     "evalue": "invalid syntax (<ipython-input-75-04db723c39f4>, line 3)",
     "traceback": [
      "\u001b[1;36m  File \u001b[1;32m\"<ipython-input-75-04db723c39f4>\"\u001b[1;36m, line \u001b[1;32m3\u001b[0m\n\u001b[1;33m    print\"name1\" in family)\u001b[0m\n\u001b[1;37m               ^\u001b[0m\n\u001b[1;31mSyntaxError\u001b[0m\u001b[1;31m:\u001b[0m invalid syntax\n"
     ]
    }
   ],
   "source": [
    "family = dict(name = \"bunyas\", name1 = \"figen\", name3 = \"beyza\", name4 = \"burak\")\n",
    "print(family)\n",
    "print(\"name1\" in family)\n",
    "print(\"name5\" not in family)\n",
    "\n",
    "\"name3\" in family.keys()\n"
   ]
  },
  {
   "cell_type": "code",
   "execution_count": 78,
   "metadata": {},
   "outputs": [
    {
     "output_type": "stream",
     "name": "stdout",
     "text": [
      "32\n"
     ]
    }
   ],
   "source": [
    "student_ages = {\"Harry\": 29,\n",
    "                \"Clark\": 32,\n",
    "                \"Peter\": 22,\n",
    "                \"Bruce\": 36\n",
    "                }\n",
    "print(student_ages[\"Clark\"])"
   ]
  },
  {
   "cell_type": "code",
   "execution_count": 82,
   "metadata": {},
   "outputs": [
    {
     "output_type": "stream",
     "name": "stdout",
     "text": [
      "{'kid': {'tom': {'class': 'intermediate', 'age': 10}, 'sue': {'class': 'elementary', 'age': 8}}, 'teen': {'joseph': {'class': 'college', 'age': 19}, 'marry': {'class': 'high school', 'age': 16}}}\n"
     ]
    }
   ],
   "source": [
    "school_records={\n",
    "    \"personal_info\":\n",
    "        {\"kid\":{\"tom\": {\"class\": \"intermediate\", \"age\": 10},\n",
    "                \"sue\": {\"class\": \"elementary\", \"age\": 8}\n",
    "               },\n",
    "         \"teen\":{\"joseph\":{\"class\": \"college\", \"age\": 19},\n",
    "                 \"marry\":{\"class\": \"high school\", \"age\": 16}\n",
    "               },               \n",
    "        },\n",
    "        \n",
    "    \"grades_info\":\n",
    "        {\"kid\":{\"tom\": {\"math\": 88, \"speech\": 69},\n",
    "                \"sue\": {\"math\": 90, \"speech\": 81}\n",
    "               },\n",
    "         \"teen\":{\"joseph\":{\"coding\": 80, \"math\": 89},\n",
    "                 \"marry\":{\"coding\": 70, \"math\": 96}\n",
    "               },               \n",
    "        },        \n",
    "}\n",
    "\n",
    "print(school_records[\"personal_info\"])"
   ]
  },
  {
   "cell_type": "code",
   "execution_count": 95,
   "metadata": {},
   "outputs": [
    {
     "output_type": "stream",
     "name": "stdout",
     "text": [
      "\n\n{'kid': {'tom': {'class': 'intermediate', 'age': 10}, 'sue': {'class': 'elementary', 'age': 8}}, 'teen': {'joseph': {'class': 'college', 'age': 19}, 'marry': {'class': 'high school', 'age': 16}}} \n\n{'tom': {'class': 'intermediate', 'age': 10}, 'sue': {'class': 'elementary', 'age': 8}} \n\n{'joseph': {'class': 'college', 'age': 19}, 'marry': {'class': 'high school', 'age': 16}} \n\n{'class': 'intermediate', 'age': 10} \n\n10\n"
     ]
    }
   ],
   "source": [
    "print(\"\\n\")\n",
    "print(school_records[\"personal_info\"], \"\\n\")\n",
    "print(school_records[\"personal_info\"] [\"kid\"], \"\\n\")\n",
    "print(school_records[\"personal_info\"] [\"teen\"], \"\\n\")\n",
    "print(school_records[\"personal_info\"] [\"kid\"] [\"tom\"], \"\\n\")\n",
    "print(school_records[\"personal_info\"] [\"kid\"] [\"tom\"] [\"age\"])"
   ]
  },
  {
   "cell_type": "code",
   "execution_count": 112,
   "metadata": {},
   "outputs": [
    {
     "output_type": "stream",
     "name": "stdout",
     "text": [
      "{'kid': {'tom': {'math': 88, 'speech': 69}, 'sue': {'math': 90, 'speech': 81}}, 'teen': {'joseph': {'coding': 80, 'math': 89}, 'marry': {'coding': 70, 'math': 96}}} \n\ndict_items([('coding', 80), ('math', 89)])\n"
     ]
    }
   ],
   "source": [
    "print(school_records[\"grades_info\"], \"\\n\")\n",
    "print(school_records[\"grades_info\"] [\"teen\"] [\"joseph\"].items())"
   ]
  },
  {
   "cell_type": "code",
   "execution_count": 121,
   "metadata": {},
   "outputs": [],
   "source": [
    "friends = {\n",
    "    \"first\": {\"first\" : \"Sue\", \"last\" : \"Bold\"},\n",
    "    \"second\": {\"first\": \"Steve\", \"last\" : \"Smith\"},\n",
    "    \"third\" : {\"first\" : \"hassan\", \"second\" : \"çorumlu\"}\n",
    "}\n"
   ]
  },
  {
   "cell_type": "code",
   "execution_count": 135,
   "metadata": {},
   "outputs": [
    {
     "output_type": "error",
     "ename": "KeyError",
     "evalue": "'first'",
     "traceback": [
      "\u001b[1;31m---------------------------------------------------------------------------\u001b[0m",
      "\u001b[1;31mKeyError\u001b[0m                                  Traceback (most recent call last)",
      "\u001b[1;32m<ipython-input-135-62425fd333aa>\u001b[0m in \u001b[0;36m<module>\u001b[1;34m\u001b[0m\n\u001b[0;32m      9\u001b[0m     \u001b[1;34m\"family\"\u001b[0m \u001b[1;33m:\u001b[0m \u001b[1;33m{\u001b[0m\u001b[1;34m\"third\"\u001b[0m \u001b[1;33m:\u001b[0m \u001b[1;34m\"figen\"\u001b[0m\u001b[1;33m,\u001b[0m \u001b[1;34m\"last\"\u001b[0m \u001b[1;33m:\u001b[0m \u001b[1;34m\"canım\"\u001b[0m\u001b[1;33m}\u001b[0m\u001b[1;33m\u001b[0m\u001b[1;33m\u001b[0m\u001b[0m\n\u001b[0;32m     10\u001b[0m     }\n\u001b[1;32m---> 11\u001b[1;33m \u001b[0mprint\u001b[0m\u001b[1;33m(\u001b[0m\u001b[0mfriends\u001b[0m\u001b[1;33m[\u001b[0m\u001b[1;34m\"first\"\u001b[0m\u001b[1;33m]\u001b[0m\u001b[1;33m)\u001b[0m\u001b[1;33m\u001b[0m\u001b[1;33m\u001b[0m\u001b[0m\n\u001b[0m",
      "\u001b[1;31mKeyError\u001b[0m: 'first'"
     ]
    }
   ],
   "source": [
    "favorite = {\n",
    "\"friends\" : {\n",
    "    \"friend1\" : {\"first\" : \"Sue\", \"last\" : \"Bold\"},\n",
    "    \"friend2\" : {\"second\" : \"Steve\", \"last\": \"Smith\"},\n",
    "    \"friend3\" : {\"third\" : \"Sergio\", \"last\" : \"Tatoo\"}\n",
    "    },\n",
    "    \"family\" : {\"first\" : \"beyza\", \"last\" : \"kızım\"},\n",
    "    \"family\" : {\"second\": \"burak\", \"last\": \"oğlum\"},\n",
    "    \"family\" : {\"third\" : \"figen\", \"last\" : \"canım\"}\n",
    "    }\n",
    "print(friends[\"first\"])"
   ]
  },
  {
   "cell_type": "code",
   "execution_count": 146,
   "metadata": {},
   "outputs": [
    {
     "output_type": "stream",
     "name": "stdout",
     "text": [
      "{'pink', 'blue', 'red'}\n{'pink', 'blue', 'red'}\n"
     ]
    }
   ],
   "source": [
    "# *************************KÜMELER**********************\n",
    "\n",
    "set_1 = {\"red\", \"blue\", \"pink\", \"red\"}\n",
    "colors = {\"red\", \"blue\", \"pink\", \"red\"}\n",
    "set_2 = set(colors) # küme oluşturur ve tekrardan kaçınır... 2 red var ama uniq olduğundan birer kere geçer\n",
    "print(set_1)\n",
    "print(set_2)"
   ]
  },
  {
   "cell_type": "code",
   "execution_count": 149,
   "metadata": {},
   "outputs": [
    {
     "output_type": "stream",
     "name": "stdout",
     "text": [
      "['a', 'b', 'c', 'd', 'e', 'f', 'g', 'h', 'i', 'j', 'k', 'l', 'm', 'n', 'o', 'p', 'r', 's', 't', 'u', 'v', 'y', 'z']\n"
     ]
    }
   ],
   "source": [
    "letter = \"a b c d e f g h i j k l m n o p r s t u v y z\".split()\n",
    "print(letter)"
   ]
  },
  {
   "cell_type": "code",
   "execution_count": 155,
   "metadata": {},
   "outputs": [
    {
     "output_type": "stream",
     "name": "stdout",
     "text": [
      "{'e', 'r', 't', 'h', 'm', 's', 'b', 'p', 'i', 'd', 'v', 'y', 'a', 'f', 'k', 'z', 'n', 'c', 'u', 'j', 'g', 'l', 'o'}\n"
     ]
    }
   ],
   "source": [
    "print (set(letter))"
   ]
  },
  {
   "cell_type": "code",
   "execution_count": 154,
   "metadata": {},
   "outputs": [
    {
     "output_type": "stream",
     "name": "stdout",
     "text": [
      "{'e', 'r', 't', 'h', 's', 'm', 'b', 'p', 'i', 'd', 'v', 'y', 'a', 'f', 'k', 'z', 'n', 'c', 'u', 'j', 'g', 'l', 'o'}\n"
     ]
    }
   ],
   "source": [
    "letter1 = \"g h i d e f p s t u v j k l m n r s t o a b c d e f p r s t u v y z\".split()\n",
    "print (set(letter1))"
   ]
  },
  {
   "cell_type": "code",
   "execution_count": 158,
   "metadata": {},
   "outputs": [
    {
     "output_type": "execute_result",
     "data": {
      "text/plain": [
       "2"
      ]
     },
     "metadata": {},
     "execution_count": 158
    }
   ],
   "source": [
    "test = {1, \"bir\", 1.0}\n",
    "len(test)\n"
   ]
  },
  {
   "cell_type": "code",
   "execution_count": 160,
   "metadata": {},
   "outputs": [
    {
     "output_type": "stream",
     "name": "stdout",
     "text": [
      "<class 'set'>\n"
     ]
    }
   ],
   "source": [
    "empty_set = set ()\n",
    "print(type(empty_set))\n"
   ]
  },
  {
   "cell_type": "code",
   "execution_count": 163,
   "metadata": {},
   "outputs": [
    {
     "output_type": "stream",
     "name": "stdout",
     "text": [
      "{'e', 'l', 'f', 'h', 's', 'i', 'u', 'n'}\n"
     ]
    }
   ],
   "source": [
    "s = set('unselfishness')\n",
    "\n",
    "print(s) "
   ]
  },
  {
   "cell_type": "code",
   "execution_count": 164,
   "metadata": {},
   "outputs": [
    {
     "output_type": "stream",
     "name": "stdout",
     "text": [
      "{'violet', 'orchid', 'rose', 'carnation'}\n['violet', 'orchid', 'rose', 'carnation']\n"
     ]
    }
   ],
   "source": [
    "flower_list = ['rose', 'violet', 'carnation', 'rose', 'orchid', 'rose', 'orchid']\n",
    "flowerset = set(flower_list) # list den dict \n",
    "flowerlist = list(flowerset) # list den list \n",
    "\n",
    "print(flowerset) \n",
    "print(flowerlist)"
   ]
  },
  {
   "cell_type": "code",
   "execution_count": 15,
   "metadata": {},
   "outputs": [
    {
     "output_type": "stream",
     "name": "stdout",
     "text": [
      "{'m', 'y', 'b', 'v', 'u', 'n'}\n{'k', 's', 'l'}\n{'m', 's', 'y', 'b', ' ', 'k', 'l', 'i', 'v', 'u', 'e', 'n', 'a'}\n{'s', ' ', 'k', 'b', 'i', 'v', 'e', 'l', 'a', 'm', 'y', 'u', 'n'}\n{' ', 'i', 'e', 'a'}\n{' ', 'i', 'e', 'a'}\n"
     ]
    }
   ],
   "source": [
    "a = set(\"bunyamin ve\")\n",
    "b = set(\"keles ailesi\")\n",
    "print(a -b) # a fark b\n",
    "print(b.difference(a)) # a fark b\n",
    "print(a|b) # a birşleşim b\n",
    "print(b.union(a)) # a birleşim b\n",
    "print(a&b) # a kesişim b\n",
    "print(a.intersection(b)) # a kesişim b"
   ]
  },
  {
   "cell_type": "code",
   "execution_count": 18,
   "metadata": {},
   "outputs": [
    {
     "output_type": "stream",
     "name": "stdout",
     "text": [
      "{'4', '0', '/', '2', '1'}\n{'04/14/2021'}\n['0', '4', '/', '1', '4', '/', '2', '0', '2', '1']\n"
     ]
    }
   ],
   "source": [
    "tarih = \"04/14/2021\"\n",
    "tarih1 = set(\"04/14/2021\")\n",
    "print(tarih1)\n",
    "tarih2 = {\"04/14/2021\"}\n",
    "print(tarih2)\n",
    "tarih3 = list(\"04/14/2021\")\n",
    "print(tarih3)"
   ]
  },
  {
   "cell_type": "code",
   "execution_count": 23,
   "metadata": {},
   "outputs": [
    {
     "output_type": "stream",
     "name": "stdout",
     "text": [
      "{1, 2, 3, 4, 5, 6}\n"
     ]
    }
   ],
   "source": [
    "given_list = [1,2,3,3,4,4,5,5,6,6]\n",
    "print(set(given_list))"
   ]
  },
  {
   "cell_type": "code",
   "execution_count": 26,
   "metadata": {},
   "outputs": [
    {
     "output_type": "stream",
     "name": "stdout",
     "text": [
      "{'h', 's', 'a'}\n{'e', 'l'}\n{'t', 's', 'h', 'g', 'l', 'i', 'e', 'w', 'n', 'o', 'a'}\n{'t', 'g', 'i', 'w', 'n', 'o'}\n"
     ]
    }
   ],
   "source": [
    "usa = set(\"washington\")\n",
    "aust = set(\"wellington\")\n",
    "print(usa.difference(aust))\n",
    "print(aust.difference(usa))\n",
    "print(usa.union(aust))\n",
    "print(usa.intersection(aust))"
   ]
  },
  {
   "cell_type": "code",
   "execution_count": null,
   "metadata": {},
   "outputs": [],
   "source": []
  }
 ]
}