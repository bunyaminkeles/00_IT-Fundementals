{
 "metadata": {
  "language_info": {
   "codemirror_mode": {
    "name": "ipython",
    "version": 3
   },
   "file_extension": ".py",
   "mimetype": "text/x-python",
   "name": "python",
   "nbconvert_exporter": "python",
   "pygments_lexer": "ipython3",
   "version": "3.9.4"
  },
  "orig_nbformat": 2,
  "kernelspec": {
   "name": "python394jvsc74a57bd06fae30b75c6de6020889af9669f15d4840c9cab22f6dd170537e846061df4561",
   "display_name": "Python 3.9.4 64-bit"
  },
  "metadata": {
   "interpreter": {
    "hash": "6fae30b75c6de6020889af9669f15d4840c9cab22f6dd170537e846061df4561"
   }
  }
 },
 "nbformat": 4,
 "nbformat_minor": 2,
 "cells": [
  {
   "cell_type": "code",
   "execution_count": null,
   "metadata": {},
   "outputs": [],
   "source": [
    "# *********************  FONKİSYON TANIMLAMA  *************************"
   ]
  },
  {
   "cell_type": "code",
   "execution_count": 1,
   "metadata": {},
   "outputs": [
    {
     "output_type": "stream",
     "name": "stdout",
     "text": [
      "34\n"
     ]
    }
   ],
   "source": [
    "def first_func(arg1, arg2): # iki sayının kareler toplamı\n",
    "    print(arg1 ** 2 + arg2 ** 2)\n",
    "\n",
    "first_func(5,3)\n"
   ]
  },
  {
   "cell_type": "code",
   "execution_count": 4,
   "metadata": {},
   "outputs": [
    {
     "output_type": "stream",
     "name": "stdout",
     "text": [
      "keles keles keles keles keles \n"
     ]
    }
   ],
   "source": [
    "def multiply(a, b): # çarpma işlemi\n",
    "    print(a * b)\n",
    "multiply(\"keles \", 5)"
   ]
  },
  {
   "cell_type": "code",
   "execution_count": 7,
   "metadata": {},
   "outputs": [
    {
     "output_type": "stream",
     "name": "stdout",
     "text": [
      "\n    Duydum ki bizi bırakmaya azmediyorsun, etme.\nBaşka bir yar, başka bir dosta meylediyorsun, etme.\nSen yadeller dünyasında ne arıyorsun yabancı?\nHangi hasta gönüllüyü kastediyorsun, etme.\n"
     ]
    }
   ],
   "source": [
    "def menlana():\n",
    "    print(\"\"\"\n",
    "    Duydum ki bizi bırakmaya azmediyorsun, etme.\n",
    "Başka bir yar, başka bir dosta meylediyorsun, etme.\n",
    "Sen yadeller dünyasında ne arıyorsun yabancı?\n",
    "Hangi hasta gönüllüyü kastediyorsun, etme.\"\"\")\n",
    "\n",
    "menlana()"
   ]
  },
  {
   "cell_type": "code",
   "execution_count": 10,
   "metadata": {},
   "outputs": [
    {
     "output_type": "stream",
     "name": "stdout",
     "text": [
      "11\n"
     ]
    }
   ],
   "source": [
    "def add (a, b):\n",
    "    print(a + b)\n",
    "add (5, 6)"
   ]
  },
  {
   "cell_type": "code",
   "execution_count": 20,
   "metadata": {},
   "outputs": [
    {
     "output_type": "stream",
     "name": "stdout",
     "text": [
      "1.2\n"
     ]
    }
   ],
   "source": [
    "def calculator(a, b, c): # hesap makinası yapma\n",
    "    if c == \"+\":\n",
    "        print(a+b)\n",
    "    elif c == \"-\":\n",
    "        print(a-b)\n",
    "    elif c == \"*\":\n",
    "        print(a*b)\n",
    "    elif c == \"/\":\n",
    "        print (a/b)\n",
    "    else:\n",
    "        print(\"uygun bir değer giriniz\")\n",
    "calculator(6,5,\"/\")\n"
   ]
  },
  {
   "cell_type": "code",
   "execution_count": null,
   "metadata": {},
   "outputs": [],
   "source": [
    "def calculator(a, b, c): # hesap makinası yapma\n",
    "    if c == \"+\":\n",
    "        print(a+b)\n",
    "    elif c == \"-\":\n",
    "        print(a-b)\n",
    "    elif c == \"*\":\n",
    "        print(a*b)\n",
    "    elif c == \"/\":\n",
    "        print (a/b)\n",
    "    else:\n",
    "        print(\"uygun bir değer giriniz\")\n",
    "calculator(6,5,\"/\")"
   ]
  },
  {
   "cell_type": "code",
   "execution_count": 31,
   "metadata": {},
   "outputs": [
    {
     "output_type": "execute_result",
     "data": {
      "text/plain": [
       "45"
      ]
     },
     "metadata": {},
     "execution_count": 31
    }
   ],
   "source": [
    "def multiply_2(a, b): # Fonksiyonlarda çoğunlukla return kullanılır ve bir object üretilir.\n",
    "    return a * b\n",
    "multiply_2(5, 9)"
   ]
  },
  {
   "cell_type": "code",
   "execution_count": 29,
   "metadata": {},
   "outputs": [
    {
     "output_type": "stream",
     "name": "stdout",
     "text": [
      "10\n"
     ]
    }
   ],
   "source": [
    "var1 = multiply_2(2, 5)\n",
    "print(var1)"
   ]
  },
  {
   "cell_type": "code",
   "execution_count": 33,
   "metadata": {},
   "outputs": [
    {
     "output_type": "stream",
     "name": "stdout",
     "text": [
      "2\n<class 'NoneType'>\n<class 'int'>\n"
     ]
    }
   ],
   "source": [
    "print(type(multiply(1, 2))) # print ile çalışılan\n",
    "print(type(multiply_2(3,5)))# return ile çalışılan"
   ]
  },
  {
   "cell_type": "code",
   "execution_count": 36,
   "metadata": {},
   "outputs": [
    {
     "output_type": "execute_result",
     "data": {
      "text/plain": [
       "'uygun bir değer giriniz'"
      ]
     },
     "metadata": {},
     "execution_count": 36
    }
   ],
   "source": [
    "def calculator(a, b, c): # hesap makinası yapma\n",
    "    if c == \"+\":\n",
    "        return a+b\n",
    "    elif c == \"-\":\n",
    "        return a-b\n",
    "    elif c == \"*\":\n",
    "        return a*b\n",
    "    elif c == \"/\":\n",
    "        return a/b\n",
    "    else:\n",
    "        return (\"uygun bir değer giriniz\")\n",
    "calculator(6,5,\"d\")\n"
   ]
  },
  {
   "cell_type": "code",
   "execution_count": 37,
   "metadata": {},
   "outputs": [],
   "source": [
    "def absolute_value():\n",
    "    return(absolute_value(3.3))\n",
    "    return(absolute_value(3.8))"
   ]
  },
  {
   "cell_type": "code",
   "execution_count": 346,
   "metadata": {},
   "outputs": [],
   "source": [
    "def parrot(voltage, state='a stiff', action='voom', typed='Norwegian Blue'):\n",
    "    print(\"-- This parrot wouldn't\", action, end=' ')\n",
    "    print(\"if you put\", voltage, \"volts through it.\")\n",
    "    print(\"-- Lovely plumage, the\", typed)\n",
    "    print(\"-- It's\", state, \"!\")"
   ]
  },
  {
   "cell_type": "code",
   "execution_count": 348,
   "metadata": {},
   "outputs": [
    {
     "output_type": "stream",
     "name": "stdout",
     "text": [
      "-- This parrot wouldn't voom if you put 1000 volts through it.\n-- Lovely plumage, the Norwegian Blue\n-- It's a stiff !\n"
     ]
    }
   ],
   "source": [
    "parrot(1000)                                          # 1 positional argument\n",
    "parrot(voltage=1000)                                  # 1 keyword argument\n",
    "parrot(voltage=1000000, action='VOOOOOM')             # 2 keyword arguments\n",
    "parrot(action='VOOOOOM', voltage=1000000)             # 2 keyword arguments \n",
    "parrot('a million', 'bereft of life', 'jump')         # 3 positional arguments\n",
    "parrot('a thousand', state='pushing up the daisies')  # 1 positional, 1 keyword"
   ]
  },
  {
   "cell_type": "code",
   "execution_count": 349,
   "metadata": {},
   "outputs": [
    {
     "output_type": "stream",
     "name": "stdout",
     "text": [
      "-- This parrot wouldn't VOOOOOM if you put 1000000 volts through it.\n-- Lovely plumage, the Norwegian Blue\n-- It's a stiff !\n"
     ]
    }
   ],
   "source": [
    "parrot(voltage=1000000, action='VOOOOOM')             # 2 keyword arguments\n"
   ]
  },
  {
   "cell_type": "code",
   "execution_count": 166,
   "metadata": {},
   "outputs": [
    {
     "output_type": "stream",
     "name": "stdout",
     "text": [
      "56 1\n[0, 1]\n"
     ]
    },
    {
     "output_type": "error",
     "ename": "SyntaxError",
     "evalue": "'break' outside loop (<ipython-input-166-0f427623af75>, line 18)",
     "traceback": [
      "\u001b[1;36m  File \u001b[1;32m\"<ipython-input-166-0f427623af75>\"\u001b[1;36m, line \u001b[1;32m18\u001b[0m\n\u001b[1;33m    break\u001b[0m\n\u001b[1;37m    ^\u001b[0m\n\u001b[1;31mSyntaxError\u001b[0m\u001b[1;31m:\u001b[0m 'break' outside loop\n"
     ]
    }
   ],
   "source": [
    "my_list=[]\n",
    "f = 0\n",
    "f1 = 1\n",
    "for i in range(56):\n",
    "    f = i + 1\n",
    "    f1 += 1\n",
    "\n",
    "    if i <=1:\n",
    "        my_list.append(i)\n",
    "    \n",
    "\n",
    "print(ff, fg)\n",
    "    # elif i > 1:\n",
    "    #     my_list.append(i-1 + i-2)\n",
    "\n",
    "\n",
    "print(my_list)\n",
    "break"
   ]
  },
  {
   "cell_type": "code",
   "execution_count": 210,
   "metadata": {},
   "outputs": [
    {
     "output_type": "stream",
     "name": "stdout",
     "text": [
      "[0, -1, 1, 1, 3, 5, 7, 9, 11, 13, 15, 17, 19, 21, 23, 25, 27, 29, 31, 33, 35, 37, 39, 41, 43, 45, 47, 49, 51, 53, 55, 57, 59, 61, 63, 65, 67, 69, 71, 73, 75, 77, 79, 81, 83, 85, 87, 89, 91, 93, 95, 97, 99, 101, 103, 105, 107, 109]\n"
     ]
    }
   ],
   "source": [
    "mylst = []\n",
    "Fn = 2\n",
    "F0 = 0\n",
    "F1 = 1\n",
    "\n",
    "for Fn in range(56):\n",
    "    if Fn <=1:\n",
    "        mylst.append(Fn)\n",
    "    Fn += 1\n",
    "    count = mylst.append(Fn - 1 + Fn - 2)\n",
    "\n",
    "\n",
    "print(mylst)"
   ]
  },
  {
   "cell_type": "code",
   "execution_count": 253,
   "metadata": {},
   "outputs": [
    {
     "output_type": "error",
     "ename": "KeyboardInterrupt",
     "evalue": "",
     "traceback": [
      "\u001b[1;31m---------------------------------------------------------------------------\u001b[0m",
      "\u001b[1;31mKeyboardInterrupt\u001b[0m                         Traceback (most recent call last)",
      "\u001b[1;32m<ipython-input-253-fa1cf789af72>\u001b[0m in \u001b[0;36m<module>\u001b[1;34m\u001b[0m\n\u001b[0;32m      6\u001b[0m     \u001b[1;31m# for sayı in range(56):\u001b[0m\u001b[1;33m\u001b[0m\u001b[1;33m\u001b[0m\u001b[1;33m\u001b[0m\u001b[0m\n\u001b[0;32m      7\u001b[0m     \u001b[1;31m#     if sayı <= 1 :\u001b[0m\u001b[1;33m\u001b[0m\u001b[1;33m\u001b[0m\u001b[1;33m\u001b[0m\u001b[0m\n\u001b[1;32m----> 8\u001b[1;33m     \u001b[0mfibo\u001b[0m\u001b[1;33m.\u001b[0m\u001b[0mappend\u001b[0m\u001b[1;33m(\u001b[0m\u001b[0msayı\u001b[0m\u001b[1;33m)\u001b[0m\u001b[1;33m\u001b[0m\u001b[1;33m\u001b[0m\u001b[0m\n\u001b[0m\u001b[0;32m      9\u001b[0m \u001b[1;31m#         sayı = (s0 - 1 + s1 - 1)\u001b[0m\u001b[1;33m\u001b[0m\u001b[1;33m\u001b[0m\u001b[1;33m\u001b[0m\u001b[0m\n\u001b[0;32m     10\u001b[0m \u001b[1;31m#     s0 += 1\u001b[0m\u001b[1;33m\u001b[0m\u001b[1;33m\u001b[0m\u001b[1;33m\u001b[0m\u001b[0m\n",
      "\u001b[1;31mKeyboardInterrupt\u001b[0m: "
     ]
    }
   ],
   "source": [
    "fibo = []\n",
    "s0 = 0\n",
    "s1 = 1\n",
    "sayı = 0\n",
    "while sayı < 56:\n",
    "    # for sayı in range(56):\n",
    "    #     if sayı <= 1 :\n",
    "    fibo.append(sayı)\n",
    "#         sayı = (s0 - 1 + s1 - 1)\n",
    "#     s0 += 1\n",
    "#     s1 += 1\n",
    "#     fibo.append(sayı)\n",
    "print(fibo)"
   ]
  },
  {
   "cell_type": "code",
   "execution_count": 308,
   "metadata": {},
   "outputs": [
    {
     "output_type": "stream",
     "name": "stdout",
     "text": [
      "21\n"
     ]
    }
   ],
   "source": [
    "\n",
    "# Function for nth fibonacci\n",
    "# number - Dynamic Programing\n",
    "# Taking 1st two fibonacci nubers as 0 and 1\n",
    "FibArray = [0, 1]\n",
    " \n",
    "def fibonacci(n):\n",
    "   \n",
    "    # Check is n is less\n",
    "    # than 0\n",
    "    if n <= 0:\n",
    "        print(\"Incorrect input\")\n",
    "         \n",
    "    # Check is n is less\n",
    "    # than len(FibArray)\n",
    "    elif n <= len(FibArray):\n",
    "        return FibArray[n - 1]\n",
    "    else:\n",
    "        temp_fib = fibonacci(n - 1) +  fibonacci(n - 2)\n",
    "        FibArray.append(temp_fib)\n",
    "        return temp_fib\n",
    " \n",
    "# Driver Program\n",
    "print(fibonacci(9))"
   ]
  },
  {
   "cell_type": "code",
   "execution_count": 322,
   "metadata": {},
   "outputs": [
    {
     "output_type": "stream",
     "name": "stdout",
     "text": [
      "i love you \n"
     ]
    }
   ],
   "source": [
    "def texter(x, y, z):\n",
    "    print(f\"{x}{y}{z}\")\n",
    "\n",
    "texter(\"i \", \"love \", \"you \")"
   ]
  },
  {
   "cell_type": "code",
   "execution_count": 325,
   "metadata": {},
   "outputs": [
    {
     "output_type": "stream",
     "name": "stdout",
     "text": [
      "your first name is yakup\nyour last name is keles\n"
     ]
    }
   ],
   "source": [
    "def who(first, last) :\n",
    "    print(\"your first name is\", first)\n",
    "    print(\"your last name is\", last)\n",
    "who(last=\"keles\", first=\"yakup\")"
   ]
  },
  {
   "cell_type": "code",
   "execution_count": 329,
   "metadata": {},
   "outputs": [
    {
     "output_type": "stream",
     "name": "stdout",
     "text": [
      "istanbul erzurum\n"
     ]
    }
   ],
   "source": [
    "def concat(a, b) :\n",
    "    print(a + b)\n",
    "concat(\"istanbul \" , \"erzurum\")"
   ]
  },
  {
   "cell_type": "code",
   "execution_count": 330,
   "metadata": {},
   "outputs": [
    {
     "output_type": "stream",
     "name": "stdout",
     "text": [
      "kırık çorum\n"
     ]
    }
   ],
   "source": [
    "concat(b=\" çorum\", a= \"kırık\")"
   ]
  },
  {
   "cell_type": "code",
   "execution_count": 335,
   "metadata": {},
   "outputs": [
    {
     "output_type": "stream",
     "name": "stdout",
     "text": [
      "ali is 11 years old\n"
     ]
    }
   ],
   "source": [
    "def func(x = \"ali\", y = 11) :\n",
    "    print(x, \"is\", y, \"years old\")\n",
    "func()"
   ]
  },
  {
   "cell_type": "code",
   "execution_count": 336,
   "metadata": {},
   "outputs": [
    {
     "output_type": "stream",
     "name": "stdout",
     "text": [
      "mehmet is 44 years old\n"
     ]
    }
   ],
   "source": [
    "func(\"mehmet\", 44)"
   ]
  },
  {
   "cell_type": "code",
   "execution_count": 337,
   "metadata": {},
   "outputs": [
    {
     "output_type": "stream",
     "name": "stdout",
     "text": [
      "44 is selami years old\n"
     ]
    }
   ],
   "source": [
    "func(44, \"selami\")"
   ]
  },
  {
   "cell_type": "code",
   "execution_count": 339,
   "metadata": {},
   "outputs": [
    {
     "output_type": "stream",
     "name": "stdout",
     "text": [
      "keles is 11 years old\n"
     ]
    }
   ],
   "source": [
    "func(\"keles\")"
   ]
  },
  {
   "cell_type": "code",
   "execution_count": 342,
   "metadata": {},
   "outputs": [
    {
     "output_type": "stream",
     "name": "stdout",
     "text": [
      "ali is 55 years old\n"
     ]
    }
   ],
   "source": [
    "func(y =55)"
   ]
  },
  {
   "cell_type": "code",
   "execution_count": 343,
   "metadata": {},
   "outputs": [
    {
     "output_type": "stream",
     "name": "stdout",
     "text": [
      "veli is 49 years old\n"
     ]
    }
   ],
   "source": [
    "func(x =\"veli\", y=\"49\" )"
   ]
  },
  {
   "cell_type": "code",
   "execution_count": 345,
   "metadata": {},
   "outputs": [
    {
     "output_type": "stream",
     "name": "stdout",
     "text": [
      "ali and selami is 11 years old\n"
     ]
    }
   ],
   "source": [
    "def func(x, a = \"ali\", y = 11) :\n",
    "    print(a, \"and\", x, \"is\", y, \"years old\")\n",
    "func(\"selami\")"
   ]
  },
  {
   "cell_type": "code",
   "execution_count": null,
   "metadata": {},
   "outputs": [],
   "source": [
    "# def name(*parameter) :\n",
    "#     name(multiple args)\n",
    "\n",
    "# def name(**parameter) :\n",
    "#     name(multiple kwargs)"
   ]
  },
  {
   "cell_type": "code",
   "execution_count": null,
   "metadata": {},
   "outputs": [],
   "source": [
    "def fruiterer(fruit1, fruit2) :\n",
    "    print(\"i want\" ,fruit1, \"and\", fruit2)\n",
    "    "
   ]
  },
  {
   "cell_type": "code",
   "execution_count": 357,
   "metadata": {},
   "outputs": [
    {
     "output_type": "stream",
     "name": "stdout",
     "text": [
      "I want to get :\n- orange\n- banana\n- melon\n- ananas\n- ('aa', 'bb', 'cc')\n"
     ]
    }
   ],
   "source": [
    "myvlis = (\"aa\", \"bb\" ,\"cc\")\n",
    "def fruiterer(*fruit) :\n",
    "    print(\"I want to get :\")\n",
    "    for i in fruit :\n",
    "        print('-', i)\n",
    "fruiterer('orange', 'banana', 'melon', 'ananas', myvlis)"
   ]
  },
  {
   "cell_type": "code",
   "execution_count": 368,
   "metadata": {},
   "outputs": [
    {
     "output_type": "stream",
     "name": "stdout",
     "text": [
      "even list  [2, 6, 6]\nodd list  [1, 3, 5, 9, 5]\n"
     ]
    }
   ],
   "source": [
    "def slicer(*numbers):\n",
    "    even_list = []\n",
    "    odd_list = []\n",
    "    for i in numbers:\n",
    "        if i % 2 == 0:\n",
    "           even_list.append(i)\n",
    "        else:\n",
    "            odd_list.append(i)\n",
    "    print(\"even list \", even_list)\n",
    "    print(\"odd list \", odd_list)\n",
    "slicer(1,2,3,6,5,9,6,5)"
   ]
  },
  {
   "cell_type": "code",
   "execution_count": 369,
   "metadata": {},
   "outputs": [
    {
     "output_type": "stream",
     "name": "stdout",
     "text": [
      "evens : [0, 2, 4, 6, 8]\nodd : [1, 3, 5, 7, 9]\n"
     ]
    }
   ],
   "source": [
    "def slicer(*num) :\n",
    "    print(\"evens :\", [i for i in num if i%2 == 0])\n",
    "    print(\"odd :\", [i for i in num if i%2 != 0])\n",
    "slicer(0, 1, 2, 3, 4, 5, 6, 7, 8, 9)"
   ]
  },
  {
   "cell_type": "code",
   "execution_count": 372,
   "metadata": {},
   "outputs": [
    {
     "output_type": "stream",
     "name": "stdout",
     "text": [
      "lions are a\nbears are b\nçakals are c\n"
     ]
    }
   ],
   "source": [
    "def animals(**kwargs) :\n",
    "    for key, value in kwargs.items() :\n",
    "        print(value, \"are\", key)\n",
    "animals(a=\"lions\", b= \"bears\", c= \"çakals\")"
   ]
  },
  {
   "cell_type": "code",
   "execution_count": 373,
   "metadata": {},
   "outputs": [
    {
     "output_type": "stream",
     "name": "stdout",
     "text": [
      "ahmet arkadaş\nzehra yeğen\nyasir kardeş\n"
     ]
    }
   ],
   "source": [
    "def sozluk(**a) :\n",
    "    for key, value in a.items() :\n",
    "        print(key, value)\n",
    "sozluk(ahmet = \"arkadaş\", zehra=\"yeğen\", yasir=\"kardeş\")"
   ]
  },
  {
   "cell_type": "code",
   "execution_count": 389,
   "metadata": {},
   "outputs": [
    {
     "output_type": "stream",
     "name": "stdout",
     "text": [
      "['ali'] [25]\n['ali', 'veli'] [25, 56]\n"
     ]
    }
   ],
   "source": [
    "\n",
    "def organizer(**org) :\n",
    "    ism = []\n",
    "    yas = []\n",
    "    for key, value in org.items() :\n",
    "        ism.append(key)\n",
    "        yas.append(value)\n",
    "        print(ism, yas)\n",
    "organizer(ali=25, veli=56)\n"
   ]
  },
  {
   "cell_type": "code",
   "execution_count": 391,
   "metadata": {},
   "outputs": [
    {
     "output_type": "stream",
     "name": "stdout",
     "text": [
      "Here are the names of brothers :\ntom sue tim\n"
     ]
    }
   ],
   "source": [
    "def brothers(bro1, bro2, bro3) :\n",
    "    print(\"Here are the names of brothers :\")\n",
    "    print(bro1, bro2, bro3)\n",
    "family =[\"tom\", \"sue\", \"tim\"]\n",
    "brothers(*family)"
   ]
  },
  {
   "cell_type": "code",
   "execution_count": 392,
   "metadata": {},
   "outputs": [
    {
     "output_type": "stream",
     "name": "stdout",
     "text": [
      "Fred belongs to generation X\nMarry belongs to generation Y\n"
     ]
    }
   ],
   "source": [
    "def gene(x = \"solomon\", y = \"david\") :\n",
    "    print(x, \"belongs to generation X\")\n",
    "    print(y, \"belongs to generation Y\")\n",
    "dict_gene = {\"y\" : \"Marry\", \"x\" : \"Fred\"}\n",
    "gene(**dict_gene)"
   ]
  },
  {
   "cell_type": "code",
   "execution_count": 393,
   "metadata": {},
   "outputs": [
    {
     "output_type": "stream",
     "name": "stdout",
     "text": [
      "I love Clarusway!\n"
     ]
    }
   ],
   "source": [
    "def make_sentence(**kwargs):\n",
    "    result = \"\"\n",
    "    # Iterating over the Python kwargs dictionary\n",
    "    for i in kwargs.values():\n",
    "        result += i\n",
    "    return result\n",
    "\n",
    "print(make_sentence(a=\"I \", b=\"love \", c=\"Clarusway!\"))"
   ]
  },
  {
   "cell_type": "code",
   "execution_count": null,
   "metadata": {},
   "outputs": [],
   "source": []
  }
 ]
}